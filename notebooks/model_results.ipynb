{
 "cells": [
  {
   "cell_type": "code",
   "execution_count": 1,
   "metadata": {
    "pycharm": {
     "is_executing": true
    }
   },
   "outputs": [],
   "source": [
    "import numpy as np\n",
    "import matplotlib.pyplot as plt\n",
    "\n",
    "from models.random_forest import RandomForest\n",
    "from models.rnn import HistoneRNN\n",
    "from models.svm import SVM"
   ]
  },
  {
   "cell_type": "code",
   "execution_count": 2,
   "metadata": {
    "pycharm": {
     "name": "#%%\n"
    }
   },
   "outputs": [
    {
     "name": "stdout",
     "output_type": "stream",
     "text": [
      "Metal device set to: Apple M1 Pro\n",
      "Cross-validate SVM model\n"
     ]
    },
    {
     "name": "stderr",
     "output_type": "stream",
     "text": [
      "100%|██████████| 5/5 [13:08<00:00, 157.67s/it]\n"
     ]
    },
    {
     "name": "stdout",
     "output_type": "stream",
     "text": [
      "Mean val score 0.733, scores: [0.7334547172894468, 0.7334754814736182, 0.7311040616462987, 0.7298910411933067, 0.7393181499337969]\n",
      "Cross-validate RandomForest model\n"
     ]
    },
    {
     "name": "stderr",
     "output_type": "stream",
     "text": [
      "100%|██████████| 5/5 [00:43<00:00,  8.79s/it]\n"
     ]
    },
    {
     "name": "stdout",
     "output_type": "stream",
     "text": [
      "Mean val score 0.753, scores: [0.7508993694208682, 0.7531013790582725, 0.7578037907746158, 0.7427602729904297, 0.7621108527420658]\n",
      "Cross-validate HistoneRNN model\n"
     ]
    },
    {
     "name": "stderr",
     "output_type": "stream",
     "text": [
      "100%|██████████| 5/5 [13:30<00:00, 162.14s/it]\n"
     ]
    },
    {
     "name": "stdout",
     "output_type": "stream",
     "text": [
      "Mean val score 0.786, scores: [0.7921158181378823, 0.7862534354022174, 0.7810454496059015, 0.7877072915592976, 0.7842715910120542]\n",
      "Cross-validate HistoneRNN model\n"
     ]
    },
    {
     "name": "stderr",
     "output_type": "stream",
     "text": [
      "100%|██████████| 5/5 [12:01<00:00, 144.21s/it]"
     ]
    },
    {
     "name": "stdout",
     "output_type": "stream",
     "text": [
      "Mean val score 0.806, scores: [0.7999178459515828, 0.8036204180202007, 0.8073322720621832, 0.8045606846311757, 0.8157606553070851]\n"
     ]
    },
    {
     "name": "stderr",
     "output_type": "stream",
     "text": [
      "\n"
     ]
    }
   ],
   "source": [
    "models = [SVM(), RandomForest(), HistoneRNN(loss='mean_squared_error', verbose=0), HistoneRNN(loss='huber_loss', verbose=0)]\n",
    "model_names = ['SVM', 'Random Forest', 'RNN with MSE loss', 'RNN with Huber loss']\n",
    "means = []\n",
    "stds = []\n",
    "\n",
    "for model in models:\n",
    "    cv_scores = model.cross_validate()\n",
    "    means.append(cv_scores.mean())\n",
    "    stds.append(cv_scores.std())"
   ]
  },
  {
   "cell_type": "code",
   "execution_count": 6,
   "metadata": {
    "pycharm": {
     "name": "#%%\n"
    }
   },
   "outputs": [
    {
     "data": {
      "image/png": "[encoded data removed]",
      "text/plain": [
       "<Figure size 432x288 with 1 Axes>"
      ]
     },
     "metadata": {
      "needs_background": "light"
     },
     "output_type": "display_data"
    }
   ],
   "source": [
    "x_pos = np.arange(len(models))\n",
    "\n",
    "fig, ax = plt.subplots()\n",
    "ax.bar(x_pos, means, yerr=stds, align='center', alpha=0.5, ecolor='black', color='darkblue', capsize=10)\n",
    "ax.set_ylabel('Spearman correlation score')\n",
    "ax.set_xticks(x_pos)\n",
    "ax.set_ylim(0.6, 0.85)\n",
    "ax.set_xticklabels(model_names)\n",
    "ax.set_title('Performance of models (cross-validation)')\n",
    "ax.yaxis.grid(True)\n",
    "\n",
    "plt.setp(ax.get_xticklabels(), rotation=30, horizontalalignment='right')\n",
    "plt.tight_layout()\n",
    "plt.show()"
   ]
  },
  {
   "cell_type": "code",
   "execution_count": null,
   "metadata": {
    "pycharm": {
     "name": "#%%\n"
    }
   },
   "outputs": [],
   "source": []
  }
 ],
 "metadata": {
  "kernelspec": {
   "display_name": "Python 3 (ipykernel)",
   "language": "python",
   "name": "python3"
  },
  "language_info": {
   "codemirror_mode": {
    "name": "ipython",
    "version": 3
   },
   "file_extension": ".py",
   "mimetype": "text/x-python",
   "name": "python",
   "nbconvert_exporter": "python",
   "pygments_lexer": "ipython3",
   "version": "3.9.0"
  }
 },
 "nbformat": 4,
 "nbformat_minor": 1
}