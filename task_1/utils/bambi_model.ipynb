{
 "cells": [
  {
   "cell_type": "code",
   "execution_count": 1,
   "metadata": {},
   "outputs": [],
   "source": [
    "import os\n",
    "import pandas as pd\n",
    "import numpy as np\n",
    "import arviz as az\n",
    "import bambi as bmb\n",
    "import numpy as np\n",
    "import scipy\n",
    "\n",
    "from stratification import chromosome_splits\n",
    "\n",
    "def to_pandas(x):\n",
    "    return pd.DataFrame(x.numpy())\n",
    "\n",
    "def spearman_scoring(y, y_true):\n",
    "    return scipy.stats.spearmanr(y, y_true)[0]\n",
    "\n",
    "def get_formula(feature_names):\n",
    "    \"\"\"Generates the formula required for the bambi generalized linear model (GLM)\n",
    "    \n",
    "    :param feature_names: extracted columns names as list of string\n",
    "    :type feature_names: list\n",
    "    \n",
    "    :return: a string formula containing the GLM functional formulae\n",
    "    :rtype: string\n",
    "    \"\"\"\n",
    "    template = ['{}'] * (len(feature_names))\n",
    "    template = \" + \".join(template)\n",
    "    template = template.format(*list(feature_names))\n",
    "    f = 'y ~ ' + template\n",
    "    return f\n",
    "\n",
    "# Import the data from csv\n",
    "x_train = pd.read_csv('x_train.csv', index_col=0)\n",
    "y_train = pd.read_csv('y_train.csv', index_col=0)\n",
    "x_train['y'] = y_train\n",
    "\n",
    "# inport test data\n",
    "x_test = pd.read_csv('x_test.csv', index_col=0)\n",
    "y_test = pd.read_csv('y_test.csv', index_col=0)\n",
    "x_train.columns = ['col_{}'.format(i) for i in x_train.columns[:-1].values] + ['y']\n",
    "x_test.columns = ['col_{}'.format(i) for i in x_test.columns.values] \n",
    "\n",
    "# Define parameters\n",
    "params = {\n",
    "    'family': 'negativebinomial',\n",
    "    'chains': 3,\n",
    "    'draws': 2,\n",
    "    'tune': 2}\n"
   ]
  },
  {
   "cell_type": "code",
   "execution_count": 7,
   "metadata": {},
   "outputs": [],
   "source": [
    "# # Get the function formula + model\n",
    "# f = get_formula(x_train.columns[:-1])\n",
    "# print(f)\n",
    "# model = bmb.Model(f, x_train, family=params['family'])\n",
    "\n",
    "# # Fit model\n",
    "# fitted_model = model.fit(draws=params['draws'], tune=params['tune'],\n",
    "#                         chains=params['chains'], init='adapt_diag')\n",
    "# Get mean posterior predictions\n",
    "idata = model.predict(fitted_model, data=x_test, inplace=False)"
   ]
  },
  {
   "cell_type": "code",
   "execution_count": 20,
   "metadata": {},
   "outputs": [
    {
     "name": "stdout",
     "output_type": "stream",
     "text": [
      "(13328, 1)\n"
     ]
    }
   ],
   "source": [
    "\n",
    "preds = np.mean(idata.posterior['y_mean'].values, axis=(0, 1)).reshape(-1, 1)\n",
    "print(np.shape(preds))\n"
   ]
  },
  {
   "cell_type": "code",
   "execution_count": 21,
   "metadata": {},
   "outputs": [
    {
     "data": {
      "text/plain": [
       "(13328, 1)"
      ]
     },
     "execution_count": 21,
     "metadata": {},
     "output_type": "execute_result"
    }
   ],
   "source": [
    "y_test.values.shape"
   ]
  },
  {
   "cell_type": "code",
   "execution_count": 22,
   "metadata": {},
   "outputs": [
    {
     "data": {
      "text/plain": [
       "(13328, 1)"
      ]
     },
     "execution_count": 22,
     "metadata": {},
     "output_type": "execute_result"
    }
   ],
   "source": [
    "preds.shape"
   ]
  },
  {
   "cell_type": "code",
   "execution_count": 23,
   "metadata": {},
   "outputs": [
    {
     "name": "stdout",
     "output_type": "stream",
     "text": [
      "nan\n"
     ]
    },
    {
     "name": "stderr",
     "output_type": "stream",
     "text": [
      "/mnt/mnemo5/sum02dean/miniconda3/envs/mlg2/lib/python3.9/site-packages/scipy/stats/stats.py:4484: SpearmanRConstantInputWarning: An input array is constant; the correlation coefficient is not defined.\n",
      "  warnings.warn(SpearmanRConstantInputWarning())\n"
     ]
    }
   ],
   "source": [
    "print(spearman_scoring(preds, y_test))"
   ]
  },
  {
   "cell_type": "code",
   "execution_count": null,
   "metadata": {},
   "outputs": [],
   "source": []
  }
 ],
 "metadata": {
  "kernelspec": {
   "display_name": "mlg2",
   "language": "python",
   "name": "mlg2"
  },
  "language_info": {
   "codemirror_mode": {
    "name": "ipython",
    "version": 3
   },
   "file_extension": ".py",
   "mimetype": "text/x-python",
   "name": "python",
   "nbconvert_exporter": "python",
   "pygments_lexer": "ipython3",
   "version": "3.9.11"
  },
  "orig_nbformat": 4
 },
 "nbformat": 4,
 "nbformat_minor": 2
}
