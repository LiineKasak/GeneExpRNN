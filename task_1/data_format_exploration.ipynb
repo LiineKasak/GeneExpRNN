{
 "cells": [
  {
   "cell_type": "code",
   "execution_count": 3,
   "id": "f734860f-c58e-4200-bad7-e9d826ac2fe2",
   "metadata": {},
   "outputs": [],
   "source": [
    "import pandas as pd\n",
    "import os"
   ]
  },
  {
   "cell_type": "code",
   "execution_count": 1,
   "id": "e317522c-265e-4ff4-b4ae-5489b4ac2280",
   "metadata": {},
   "outputs": [],
   "source": [
    "data_folder=\"/mnt/mnemo5/tao/MLG/data\""
   ]
  },
  {
   "cell_type": "code",
   "execution_count": null,
   "id": "cdf1d57b-34a4-400d-9144-2f3542b0f228",
   "metadata": {},
   "outputs": [],
   "source": [
    "# first need to uncompress all files \n",
    "#(base) tao@deimos:~/MLG/data$ find -name '*.zip' -exec sh -c 'unzip -d \"${1%.*}\" \"$1\"' _ {} \\;\n",
    "# https://stackoverflow.com/questions/2374772/unzip-all-files-in-a-directory\n",
    "\n"
   ]
  },
  {
   "cell_type": "code",
   "execution_count": 7,
   "id": "1e38de6d-78b6-4954-ae23-d45f0cfe1155",
   "metadata": {},
   "outputs": [
    {
     "name": "stdout",
     "output_type": "stream",
     "text": [
      "(1984, 2)\n"
     ]
    },
    {
     "data": {
      "text/html": [
       "<div>\n",
       "<style scoped>\n",
       "    .dataframe tbody tr th:only-of-type {\n",
       "        vertical-align: middle;\n",
       "    }\n",
       "\n",
       "    .dataframe tbody tr th {\n",
       "        vertical-align: top;\n",
       "    }\n",
       "\n",
       "    .dataframe thead th {\n",
       "        text-align: right;\n",
       "    }\n",
       "</style>\n",
       "<table border=\"1\" class=\"dataframe\">\n",
       "  <thead>\n",
       "    <tr style=\"text-align: right;\">\n",
       "      <th></th>\n",
       "      <th>gene_name</th>\n",
       "      <th>gex_predicted</th>\n",
       "    </tr>\n",
       "  </thead>\n",
       "  <tbody>\n",
       "    <tr>\n",
       "      <th>0</th>\n",
       "      <td>CAPN9</td>\n",
       "      <td>0.180352</td>\n",
       "    </tr>\n",
       "    <tr>\n",
       "      <th>1</th>\n",
       "      <td>ILF2</td>\n",
       "      <td>0.786083</td>\n",
       "    </tr>\n",
       "    <tr>\n",
       "      <th>2</th>\n",
       "      <td>ST6GALNAC5</td>\n",
       "      <td>0.267447</td>\n",
       "    </tr>\n",
       "  </tbody>\n",
       "</table>\n",
       "</div>"
      ],
      "text/plain": [
       "    gene_name  gex_predicted\n",
       "0       CAPN9       0.180352\n",
       "1        ILF2       0.786083\n",
       "2  ST6GALNAC5       0.267447"
      ]
     },
     "execution_count": 7,
     "metadata": {},
     "output_type": "execute_result"
    }
   ],
   "source": [
    "# check sample files , this seems is the correct format of final input \n",
    "# can be ignored for now \n",
    "\n",
    "gex_predicted_samples=pd.read_csv(os.path.join(data_folder,\"sample/gex_predicted.csv\"),\n",
    "                                 header=0,index_col=0,sep=\",\")\n",
    "print(gex_predicted_samples.shape)\n",
    "gex_predicted_samples.head(n=3)\n"
   ]
  },
  {
   "cell_type": "code",
   "execution_count": null,
   "id": "671b9946-991c-400a-910c-77d55383dca4",
   "metadata": {},
   "outputs": [],
   "source": []
  },
  {
   "cell_type": "markdown",
   "id": "0c3f5380-9142-4d78-9ab9-e945f3d430b1",
   "metadata": {},
   "source": [
    "# check CAGE train  data. not feature data "
   ]
  },
  {
   "cell_type": "code",
   "execution_count": 11,
   "id": "870b3d06-5258-4092-a0cb-5b6802d136b5",
   "metadata": {},
   "outputs": [
    {
     "name": "stdout",
     "output_type": "stream",
     "text": [
      "(14310, 6)\n"
     ]
    },
    {
     "data": {
      "text/html": [
       "<div>\n",
       "<style scoped>\n",
       "    .dataframe tbody tr th:only-of-type {\n",
       "        vertical-align: middle;\n",
       "    }\n",
       "\n",
       "    .dataframe tbody tr th {\n",
       "        vertical-align: top;\n",
       "    }\n",
       "\n",
       "    .dataframe thead th {\n",
       "        text-align: right;\n",
       "    }\n",
       "</style>\n",
       "<table border=\"1\" class=\"dataframe\">\n",
       "  <thead>\n",
       "    <tr style=\"text-align: right;\">\n",
       "      <th></th>\n",
       "      <th>chr</th>\n",
       "      <th>gene_start</th>\n",
       "      <th>gene_end</th>\n",
       "      <th>TSS_start</th>\n",
       "      <th>TSS_end</th>\n",
       "      <th>strand</th>\n",
       "    </tr>\n",
       "    <tr>\n",
       "      <th>gene_name</th>\n",
       "      <th></th>\n",
       "      <th></th>\n",
       "      <th></th>\n",
       "      <th></th>\n",
       "      <th></th>\n",
       "      <th></th>\n",
       "    </tr>\n",
       "  </thead>\n",
       "  <tbody>\n",
       "    <tr>\n",
       "      <th>SLC20A1</th>\n",
       "      <td>chr2</td>\n",
       "      <td>112645939</td>\n",
       "      <td>112663825</td>\n",
       "      <td>112658362</td>\n",
       "      <td>112658412</td>\n",
       "      <td>+</td>\n",
       "    </tr>\n",
       "    <tr>\n",
       "      <th>C11orf58</th>\n",
       "      <td>chr11</td>\n",
       "      <td>16613132</td>\n",
       "      <td>16758340</td>\n",
       "      <td>16738643</td>\n",
       "      <td>16738693</td>\n",
       "      <td>+</td>\n",
       "    </tr>\n",
       "    <tr>\n",
       "      <th>ZSCAN9</th>\n",
       "      <td>chr6</td>\n",
       "      <td>28224886</td>\n",
       "      <td>28233487</td>\n",
       "      <td>28225263</td>\n",
       "      <td>28225313</td>\n",
       "      <td>+</td>\n",
       "    </tr>\n",
       "  </tbody>\n",
       "</table>\n",
       "</div>"
      ],
      "text/plain": [
       "             chr  gene_start   gene_end  TSS_start    TSS_end strand\n",
       "gene_name                                                           \n",
       "SLC20A1     chr2   112645939  112663825  112658362  112658412      +\n",
       "C11orf58   chr11    16613132   16758340   16738643   16738693      +\n",
       "ZSCAN9      chr6    28224886   28233487   28225263   28225313      +"
      ]
     },
     "execution_count": 11,
     "metadata": {},
     "output_type": "execute_result"
    }
   ],
   "source": [
    " \n",
    "# X1 , X2 data were splited to train and validation data \n",
    "# X3 data were use as testing data\n",
    "\n",
    "# notice here info files is not feature data. its infomation of output expression data \n",
    "X1_train_info=pd.read_csv(os.path.join(data_folder,\"CAGE-train/CAGE-train/X1_train_info.tsv\"),\n",
    "                                 header=0,index_col=0,sep=\"\\t\")\n",
    "print(X1_train_info.shape)\n",
    "X1_train_info.head(n=3)"
   ]
  },
  {
   "cell_type": "code",
   "execution_count": 23,
   "id": "ce5a9504-aff1-4c15-8553-4c605ebb571b",
   "metadata": {},
   "outputs": [
    {
     "name": "stdout",
     "output_type": "stream",
     "text": [
      "14310\n"
     ]
    }
   ],
   "source": [
    "print(len(set(X1_train_info.index)))\n"
   ]
  },
  {
   "cell_type": "code",
   "execution_count": 12,
   "id": "ac3f9326-56cc-475c-b028-40d74addd8b7",
   "metadata": {},
   "outputs": [
    {
     "name": "stdout",
     "output_type": "stream",
     "text": [
      "(14310, 1)\n"
     ]
    },
    {
     "data": {
      "text/html": [
       "<div>\n",
       "<style scoped>\n",
       "    .dataframe tbody tr th:only-of-type {\n",
       "        vertical-align: middle;\n",
       "    }\n",
       "\n",
       "    .dataframe tbody tr th {\n",
       "        vertical-align: top;\n",
       "    }\n",
       "\n",
       "    .dataframe thead th {\n",
       "        text-align: right;\n",
       "    }\n",
       "</style>\n",
       "<table border=\"1\" class=\"dataframe\">\n",
       "  <thead>\n",
       "    <tr style=\"text-align: right;\">\n",
       "      <th></th>\n",
       "      <th>gex</th>\n",
       "    </tr>\n",
       "    <tr>\n",
       "      <th>gene_name</th>\n",
       "      <th></th>\n",
       "    </tr>\n",
       "  </thead>\n",
       "  <tbody>\n",
       "    <tr>\n",
       "      <th>SLC20A1</th>\n",
       "      <td>0.000000</td>\n",
       "    </tr>\n",
       "    <tr>\n",
       "      <th>C11orf58</th>\n",
       "      <td>2239.103328</td>\n",
       "    </tr>\n",
       "    <tr>\n",
       "      <th>ZSCAN9</th>\n",
       "      <td>19.798064</td>\n",
       "    </tr>\n",
       "  </tbody>\n",
       "</table>\n",
       "</div>"
      ],
      "text/plain": [
       "                   gex\n",
       "gene_name             \n",
       "SLC20A1       0.000000\n",
       "C11orf58   2239.103328\n",
       "ZSCAN9       19.798064"
      ]
     },
     "execution_count": 12,
     "metadata": {},
     "output_type": "execute_result"
    }
   ],
   "source": [
    "X1_train_y=pd.read_csv(os.path.join(data_folder,\"CAGE-train/CAGE-train/X1_train_y.tsv\"),\n",
    "                                 header=0,index_col=0,sep=\"\\t\")\n",
    "print(X1_train_y.shape)\n",
    "X1_train_y.head(n=3)"
   ]
  },
  {
   "cell_type": "code",
   "execution_count": 14,
   "id": "d6988a44-4781-45d6-ac94-676985c6a2a3",
   "metadata": {},
   "outputs": [
    {
     "name": "stdout",
     "output_type": "stream",
     "text": [
      "(1974, 6)\n"
     ]
    },
    {
     "data": {
      "text/html": [
       "<div>\n",
       "<style scoped>\n",
       "    .dataframe tbody tr th:only-of-type {\n",
       "        vertical-align: middle;\n",
       "    }\n",
       "\n",
       "    .dataframe tbody tr th {\n",
       "        vertical-align: top;\n",
       "    }\n",
       "\n",
       "    .dataframe thead th {\n",
       "        text-align: right;\n",
       "    }\n",
       "</style>\n",
       "<table border=\"1\" class=\"dataframe\">\n",
       "  <thead>\n",
       "    <tr style=\"text-align: right;\">\n",
       "      <th></th>\n",
       "      <th>chr</th>\n",
       "      <th>gene_start</th>\n",
       "      <th>gene_end</th>\n",
       "      <th>TSS_start</th>\n",
       "      <th>TSS_end</th>\n",
       "      <th>strand</th>\n",
       "    </tr>\n",
       "    <tr>\n",
       "      <th>gene_name</th>\n",
       "      <th></th>\n",
       "      <th></th>\n",
       "      <th></th>\n",
       "      <th></th>\n",
       "      <th></th>\n",
       "      <th></th>\n",
       "    </tr>\n",
       "  </thead>\n",
       "  <tbody>\n",
       "    <tr>\n",
       "      <th>ECH1</th>\n",
       "      <td>chr19</td>\n",
       "      <td>38815422</td>\n",
       "      <td>38831841</td>\n",
       "      <td>38816220</td>\n",
       "      <td>38816270</td>\n",
       "      <td>-</td>\n",
       "    </tr>\n",
       "    <tr>\n",
       "      <th>CAMSAP3</th>\n",
       "      <td>chr19</td>\n",
       "      <td>7595863</td>\n",
       "      <td>7618304</td>\n",
       "      <td>7595901</td>\n",
       "      <td>7595951</td>\n",
       "      <td>+</td>\n",
       "    </tr>\n",
       "    <tr>\n",
       "      <th>MISP</th>\n",
       "      <td>chr19</td>\n",
       "      <td>751112</td>\n",
       "      <td>764318</td>\n",
       "      <td>758062</td>\n",
       "      <td>758112</td>\n",
       "      <td>+</td>\n",
       "    </tr>\n",
       "  </tbody>\n",
       "</table>\n",
       "</div>"
      ],
      "text/plain": [
       "             chr  gene_start  gene_end  TSS_start   TSS_end strand\n",
       "gene_name                                                         \n",
       "ECH1       chr19    38815422  38831841   38816220  38816270      -\n",
       "CAMSAP3    chr19     7595863   7618304    7595901   7595951      +\n",
       "MISP       chr19      751112    764318     758062    758112      +"
      ]
     },
     "execution_count": 14,
     "metadata": {},
     "output_type": "execute_result"
    }
   ],
   "source": [
    "X1_val_info=pd.read_csv(os.path.join(data_folder,\"CAGE-train/CAGE-train/X1_val_info.tsv\"),\n",
    "                                 header=0,index_col=0,sep=\"\\t\")\n",
    "print(X1_val_info.shape)\n",
    "X1_val_info.head(n=3)"
   ]
  },
  {
   "cell_type": "code",
   "execution_count": 15,
   "id": "4e57b653-0ad7-49db-a02b-ddfd592dbcbb",
   "metadata": {},
   "outputs": [
    {
     "name": "stdout",
     "output_type": "stream",
     "text": [
      "(1974, 1)\n"
     ]
    },
    {
     "data": {
      "text/html": [
       "<div>\n",
       "<style scoped>\n",
       "    .dataframe tbody tr th:only-of-type {\n",
       "        vertical-align: middle;\n",
       "    }\n",
       "\n",
       "    .dataframe tbody tr th {\n",
       "        vertical-align: top;\n",
       "    }\n",
       "\n",
       "    .dataframe thead th {\n",
       "        text-align: right;\n",
       "    }\n",
       "</style>\n",
       "<table border=\"1\" class=\"dataframe\">\n",
       "  <thead>\n",
       "    <tr style=\"text-align: right;\">\n",
       "      <th></th>\n",
       "      <th>gex</th>\n",
       "    </tr>\n",
       "    <tr>\n",
       "      <th>gene_name</th>\n",
       "      <th></th>\n",
       "    </tr>\n",
       "  </thead>\n",
       "  <tbody>\n",
       "    <tr>\n",
       "      <th>ECH1</th>\n",
       "      <td>0.0</td>\n",
       "    </tr>\n",
       "    <tr>\n",
       "      <th>CAMSAP3</th>\n",
       "      <td>0.0</td>\n",
       "    </tr>\n",
       "    <tr>\n",
       "      <th>MISP</th>\n",
       "      <td>0.0</td>\n",
       "    </tr>\n",
       "  </tbody>\n",
       "</table>\n",
       "</div>"
      ],
      "text/plain": [
       "           gex\n",
       "gene_name     \n",
       "ECH1       0.0\n",
       "CAMSAP3    0.0\n",
       "MISP       0.0"
      ]
     },
     "execution_count": 15,
     "metadata": {},
     "output_type": "execute_result"
    }
   ],
   "source": [
    "X1_val_y=pd.read_csv(os.path.join(data_folder,\"CAGE-train/CAGE-train/X1_val_y.tsv\"),\n",
    "                                 header=0,index_col=0,sep=\"\\t\")\n",
    "print(X1_val_y.shape)\n",
    "X1_val_y.head(n=3)"
   ]
  },
  {
   "cell_type": "code",
   "execution_count": null,
   "id": "c56053c9-db22-403f-8e7a-4049eb3ee375",
   "metadata": {},
   "outputs": [],
   "source": []
  },
  {
   "cell_type": "code",
   "execution_count": 13,
   "id": "58966ac6-9762-455f-8b1d-d43e006e8eed",
   "metadata": {},
   "outputs": [
    {
     "name": "stdout",
     "output_type": "stream",
     "text": [
      "(14310, 6)\n"
     ]
    },
    {
     "data": {
      "text/html": [
       "<div>\n",
       "<style scoped>\n",
       "    .dataframe tbody tr th:only-of-type {\n",
       "        vertical-align: middle;\n",
       "    }\n",
       "\n",
       "    .dataframe tbody tr th {\n",
       "        vertical-align: top;\n",
       "    }\n",
       "\n",
       "    .dataframe thead th {\n",
       "        text-align: right;\n",
       "    }\n",
       "</style>\n",
       "<table border=\"1\" class=\"dataframe\">\n",
       "  <thead>\n",
       "    <tr style=\"text-align: right;\">\n",
       "      <th></th>\n",
       "      <th>chr</th>\n",
       "      <th>gene_start</th>\n",
       "      <th>gene_end</th>\n",
       "      <th>TSS_start</th>\n",
       "      <th>TSS_end</th>\n",
       "      <th>strand</th>\n",
       "    </tr>\n",
       "    <tr>\n",
       "      <th>gene_name</th>\n",
       "      <th></th>\n",
       "      <th></th>\n",
       "      <th></th>\n",
       "      <th></th>\n",
       "      <th></th>\n",
       "      <th></th>\n",
       "    </tr>\n",
       "  </thead>\n",
       "  <tbody>\n",
       "    <tr>\n",
       "      <th>SLC20A1</th>\n",
       "      <td>chr2</td>\n",
       "      <td>112645939</td>\n",
       "      <td>112663825</td>\n",
       "      <td>112658362</td>\n",
       "      <td>112658412</td>\n",
       "      <td>+</td>\n",
       "    </tr>\n",
       "    <tr>\n",
       "      <th>C11orf58</th>\n",
       "      <td>chr11</td>\n",
       "      <td>16613132</td>\n",
       "      <td>16758340</td>\n",
       "      <td>16738643</td>\n",
       "      <td>16738693</td>\n",
       "      <td>+</td>\n",
       "    </tr>\n",
       "    <tr>\n",
       "      <th>ZSCAN9</th>\n",
       "      <td>chr6</td>\n",
       "      <td>28224886</td>\n",
       "      <td>28233487</td>\n",
       "      <td>28225263</td>\n",
       "      <td>28225313</td>\n",
       "      <td>+</td>\n",
       "    </tr>\n",
       "  </tbody>\n",
       "</table>\n",
       "</div>"
      ],
      "text/plain": [
       "             chr  gene_start   gene_end  TSS_start    TSS_end strand\n",
       "gene_name                                                           \n",
       "SLC20A1     chr2   112645939  112663825  112658362  112658412      +\n",
       "C11orf58   chr11    16613132   16758340   16738643   16738693      +\n",
       "ZSCAN9      chr6    28224886   28233487   28225263   28225313      +"
      ]
     },
     "execution_count": 13,
     "metadata": {},
     "output_type": "execute_result"
    }
   ],
   "source": [
    "X2_train_info=pd.read_csv(os.path.join(data_folder,\"CAGE-train/CAGE-train/X2_train_info.tsv\"),\n",
    "                                 header=0,index_col=0,sep=\"\\t\")\n",
    "print(X2_train_info.shape)\n",
    "X2_train_info.head(n=3)"
   ]
  },
  {
   "cell_type": "code",
   "execution_count": 16,
   "id": "55e827f7-e71a-469a-8d0e-17a3c4190d61",
   "metadata": {},
   "outputs": [
    {
     "name": "stdout",
     "output_type": "stream",
     "text": [
      "(14310, 1)\n"
     ]
    },
    {
     "data": {
      "text/html": [
       "<div>\n",
       "<style scoped>\n",
       "    .dataframe tbody tr th:only-of-type {\n",
       "        vertical-align: middle;\n",
       "    }\n",
       "\n",
       "    .dataframe tbody tr th {\n",
       "        vertical-align: top;\n",
       "    }\n",
       "\n",
       "    .dataframe thead th {\n",
       "        text-align: right;\n",
       "    }\n",
       "</style>\n",
       "<table border=\"1\" class=\"dataframe\">\n",
       "  <thead>\n",
       "    <tr style=\"text-align: right;\">\n",
       "      <th></th>\n",
       "      <th>gex</th>\n",
       "    </tr>\n",
       "    <tr>\n",
       "      <th>gene_name</th>\n",
       "      <th></th>\n",
       "    </tr>\n",
       "  </thead>\n",
       "  <tbody>\n",
       "    <tr>\n",
       "      <th>SLC20A1</th>\n",
       "      <td>0.00000</td>\n",
       "    </tr>\n",
       "    <tr>\n",
       "      <th>C11orf58</th>\n",
       "      <td>2906.14534</td>\n",
       "    </tr>\n",
       "    <tr>\n",
       "      <th>ZSCAN9</th>\n",
       "      <td>9.41495</td>\n",
       "    </tr>\n",
       "  </tbody>\n",
       "</table>\n",
       "</div>"
      ],
      "text/plain": [
       "                  gex\n",
       "gene_name            \n",
       "SLC20A1       0.00000\n",
       "C11orf58   2906.14534\n",
       "ZSCAN9        9.41495"
      ]
     },
     "execution_count": 16,
     "metadata": {},
     "output_type": "execute_result"
    }
   ],
   "source": [
    "X2_train_y=pd.read_csv(os.path.join(data_folder,\"CAGE-train/CAGE-train/X2_train_y.tsv\"),\n",
    "                                 header=0,index_col=0,sep=\"\\t\")\n",
    "print(X2_train_y.shape)\n",
    "X2_train_y.head(n=3)"
   ]
  },
  {
   "cell_type": "code",
   "execution_count": 17,
   "id": "ba7ac15e-6da3-438b-9d09-f734a418b734",
   "metadata": {},
   "outputs": [
    {
     "name": "stdout",
     "output_type": "stream",
     "text": [
      "(1974, 6)\n"
     ]
    },
    {
     "data": {
      "text/html": [
       "<div>\n",
       "<style scoped>\n",
       "    .dataframe tbody tr th:only-of-type {\n",
       "        vertical-align: middle;\n",
       "    }\n",
       "\n",
       "    .dataframe tbody tr th {\n",
       "        vertical-align: top;\n",
       "    }\n",
       "\n",
       "    .dataframe thead th {\n",
       "        text-align: right;\n",
       "    }\n",
       "</style>\n",
       "<table border=\"1\" class=\"dataframe\">\n",
       "  <thead>\n",
       "    <tr style=\"text-align: right;\">\n",
       "      <th></th>\n",
       "      <th>chr</th>\n",
       "      <th>gene_start</th>\n",
       "      <th>gene_end</th>\n",
       "      <th>TSS_start</th>\n",
       "      <th>TSS_end</th>\n",
       "      <th>strand</th>\n",
       "    </tr>\n",
       "    <tr>\n",
       "      <th>gene_name</th>\n",
       "      <th></th>\n",
       "      <th></th>\n",
       "      <th></th>\n",
       "      <th></th>\n",
       "      <th></th>\n",
       "      <th></th>\n",
       "    </tr>\n",
       "  </thead>\n",
       "  <tbody>\n",
       "    <tr>\n",
       "      <th>ECH1</th>\n",
       "      <td>chr19</td>\n",
       "      <td>38815422</td>\n",
       "      <td>38831841</td>\n",
       "      <td>38816220</td>\n",
       "      <td>38816270</td>\n",
       "      <td>-</td>\n",
       "    </tr>\n",
       "    <tr>\n",
       "      <th>CAMSAP3</th>\n",
       "      <td>chr19</td>\n",
       "      <td>7595863</td>\n",
       "      <td>7618304</td>\n",
       "      <td>7595901</td>\n",
       "      <td>7595951</td>\n",
       "      <td>+</td>\n",
       "    </tr>\n",
       "    <tr>\n",
       "      <th>MISP</th>\n",
       "      <td>chr19</td>\n",
       "      <td>751112</td>\n",
       "      <td>764318</td>\n",
       "      <td>758062</td>\n",
       "      <td>758112</td>\n",
       "      <td>+</td>\n",
       "    </tr>\n",
       "  </tbody>\n",
       "</table>\n",
       "</div>"
      ],
      "text/plain": [
       "             chr  gene_start  gene_end  TSS_start   TSS_end strand\n",
       "gene_name                                                         \n",
       "ECH1       chr19    38815422  38831841   38816220  38816270      -\n",
       "CAMSAP3    chr19     7595863   7618304    7595901   7595951      +\n",
       "MISP       chr19      751112    764318     758062    758112      +"
      ]
     },
     "execution_count": 17,
     "metadata": {},
     "output_type": "execute_result"
    }
   ],
   "source": [
    "X2_val_info=pd.read_csv(os.path.join(data_folder,\"CAGE-train/CAGE-train/X2_val_info.tsv\"),\n",
    "                                 header=0,index_col=0,sep=\"\\t\")\n",
    "print(X2_val_info.shape)\n",
    "X2_val_info.head(n=3)"
   ]
  },
  {
   "cell_type": "code",
   "execution_count": 18,
   "id": "1b992f37-e450-4f42-b632-e24e9c8d9c98",
   "metadata": {},
   "outputs": [
    {
     "name": "stdout",
     "output_type": "stream",
     "text": [
      "(1974, 1)\n"
     ]
    },
    {
     "data": {
      "text/html": [
       "<div>\n",
       "<style scoped>\n",
       "    .dataframe tbody tr th:only-of-type {\n",
       "        vertical-align: middle;\n",
       "    }\n",
       "\n",
       "    .dataframe tbody tr th {\n",
       "        vertical-align: top;\n",
       "    }\n",
       "\n",
       "    .dataframe thead th {\n",
       "        text-align: right;\n",
       "    }\n",
       "</style>\n",
       "<table border=\"1\" class=\"dataframe\">\n",
       "  <thead>\n",
       "    <tr style=\"text-align: right;\">\n",
       "      <th></th>\n",
       "      <th>gex</th>\n",
       "    </tr>\n",
       "    <tr>\n",
       "      <th>gene_name</th>\n",
       "      <th></th>\n",
       "    </tr>\n",
       "  </thead>\n",
       "  <tbody>\n",
       "    <tr>\n",
       "      <th>ECH1</th>\n",
       "      <td>0.00000</td>\n",
       "    </tr>\n",
       "    <tr>\n",
       "      <th>CAMSAP3</th>\n",
       "      <td>1.05678</td>\n",
       "    </tr>\n",
       "    <tr>\n",
       "      <th>MISP</th>\n",
       "      <td>0.00000</td>\n",
       "    </tr>\n",
       "  </tbody>\n",
       "</table>\n",
       "</div>"
      ],
      "text/plain": [
       "               gex\n",
       "gene_name         \n",
       "ECH1       0.00000\n",
       "CAMSAP3    1.05678\n",
       "MISP       0.00000"
      ]
     },
     "execution_count": 18,
     "metadata": {},
     "output_type": "execute_result"
    }
   ],
   "source": [
    "X2_val_y=pd.read_csv(os.path.join(data_folder,\"CAGE-train/CAGE-train/X2_val_y.tsv\"),\n",
    "                                 header=0,index_col=0,sep=\"\\t\")\n",
    "print(X2_val_y.shape)\n",
    "X2_val_y.head(n=3)"
   ]
  },
  {
   "cell_type": "code",
   "execution_count": null,
   "id": "64697e86-e075-4e32-86a2-dd8c901b8375",
   "metadata": {},
   "outputs": [],
   "source": []
  },
  {
   "cell_type": "code",
   "execution_count": 20,
   "id": "8b91b463-7802-4662-a61f-266967357428",
   "metadata": {},
   "outputs": [
    {
     "name": "stdout",
     "output_type": "stream",
     "text": [
      "(1984, 6)\n"
     ]
    },
    {
     "data": {
      "text/html": [
       "<div>\n",
       "<style scoped>\n",
       "    .dataframe tbody tr th:only-of-type {\n",
       "        vertical-align: middle;\n",
       "    }\n",
       "\n",
       "    .dataframe tbody tr th {\n",
       "        vertical-align: top;\n",
       "    }\n",
       "\n",
       "    .dataframe thead th {\n",
       "        text-align: right;\n",
       "    }\n",
       "</style>\n",
       "<table border=\"1\" class=\"dataframe\">\n",
       "  <thead>\n",
       "    <tr style=\"text-align: right;\">\n",
       "      <th></th>\n",
       "      <th>chr</th>\n",
       "      <th>gene_start</th>\n",
       "      <th>gene_end</th>\n",
       "      <th>TSS_start</th>\n",
       "      <th>TSS_end</th>\n",
       "      <th>strand</th>\n",
       "    </tr>\n",
       "    <tr>\n",
       "      <th>gene_name</th>\n",
       "      <th></th>\n",
       "      <th></th>\n",
       "      <th></th>\n",
       "      <th></th>\n",
       "      <th></th>\n",
       "      <th></th>\n",
       "    </tr>\n",
       "  </thead>\n",
       "  <tbody>\n",
       "    <tr>\n",
       "      <th>CAPN9</th>\n",
       "      <td>chr1</td>\n",
       "      <td>230747384</td>\n",
       "      <td>230802003</td>\n",
       "      <td>230791876</td>\n",
       "      <td>230791926</td>\n",
       "      <td>+</td>\n",
       "    </tr>\n",
       "    <tr>\n",
       "      <th>ILF2</th>\n",
       "      <td>chr1</td>\n",
       "      <td>153661788</td>\n",
       "      <td>153671028</td>\n",
       "      <td>153664424</td>\n",
       "      <td>153664474</td>\n",
       "      <td>-</td>\n",
       "    </tr>\n",
       "    <tr>\n",
       "      <th>ST6GALNAC5</th>\n",
       "      <td>chr1</td>\n",
       "      <td>76867480</td>\n",
       "      <td>77067546</td>\n",
       "      <td>76867440</td>\n",
       "      <td>76867490</td>\n",
       "      <td>+</td>\n",
       "    </tr>\n",
       "  </tbody>\n",
       "</table>\n",
       "</div>"
      ],
      "text/plain": [
       "             chr  gene_start   gene_end  TSS_start    TSS_end strand\n",
       "gene_name                                                           \n",
       "CAPN9       chr1   230747384  230802003  230791876  230791926      +\n",
       "ILF2        chr1   153661788  153671028  153664424  153664474      -\n",
       "ST6GALNAC5  chr1    76867480   77067546   76867440   76867490      +"
      ]
     },
     "execution_count": 20,
     "metadata": {},
     "output_type": "execute_result"
    }
   ],
   "source": [
    "X3_test_info=pd.read_csv(os.path.join(data_folder,\"CAGE-train/CAGE-train/X3_test_info.tsv\"),\n",
    "                                 header=0,index_col=0,sep=\"\\t\")\n",
    "print(X3_test_info.shape)\n",
    "X3_test_info.head(n=3)"
   ]
  },
  {
   "cell_type": "code",
   "execution_count": null,
   "id": "30d6f7c6-273b-4013-b45b-130d61e7a36b",
   "metadata": {},
   "outputs": [],
   "source": []
  },
  {
   "cell_type": "markdown",
   "id": "8f6f62a2-3a0e-4bc5-a91a-64239b19006f",
   "metadata": {
    "tags": []
   },
   "source": [
    "# DNase-bed data, and bed format description \n",
    "https://genome.ucsc.edu/FAQ/FAQformat.html#format12\n",
    "\n",
    "\n",
    "ENCODE narrowPeak: Narrow (or Point-Source) Peaks format\n",
    "This format is used to provide called peaks of signal enrichment based on pooled, normalized (interpreted) data. It is a BED6+4 format.\n",
    "\n",
    "chrom - Name of the chromosome (or contig, scaffold, etc.).\n",
    "\n",
    "chromStart - The starting position of the feature in the chromosome or scaffold. The first base in a chromosome is numbered 0.\n",
    "\n",
    "chromEnd - The ending position of the feature in the chromosome or scaffold. The chromEnd base is not included in the display of the feature. For example, the first 100 bases of a chromosome are defined as chromStart=0, chromEnd=100, and span the bases numbered 0-99.\n",
    "\n",
    "name - Name given to a region (preferably unique). Use \".\" if no name is assigned.\n",
    "\n",
    "score - Indicates how dark the peak will be displayed in the browser (0-1000). If all scores were \"'0\"' when the data were submitted to the DCC, the DCC assigned scores 1-1000 based on signal value. Ideally the average signalValue per base spread is between 100-1000\n",
    "\n",
    "strand - +/- to denote strand or orientation (whenever applicable). Use \".\" if no orientation is assigned.\n",
    "\n",
    "signalValue - Measurement of overall (usually, average) enrichment for the region.\n",
    "\n",
    "pValue - Measurement of statistical significance (-log10). Use -1 if no pValue is assigned.\n",
    "\n",
    "qValue - Measurement of statistical significance using false discovery rate (-log10). Use -1 if no qValue is assigned.\n",
    "\n",
    "peak - Point-source called for this peak; 0-based offset from chromStart. Use -1 if no point-source called."
   ]
  },
  {
   "cell_type": "code",
   "execution_count": 24,
   "id": "161a1fdc-e390-4220-ae47-4622e5078941",
   "metadata": {},
   "outputs": [
    {
     "name": "stdout",
     "output_type": "stream",
     "text": [
      "(56452, 10)\n"
     ]
    },
    {
     "data": {
      "text/html": [
       "<div>\n",
       "<style scoped>\n",
       "    .dataframe tbody tr th:only-of-type {\n",
       "        vertical-align: middle;\n",
       "    }\n",
       "\n",
       "    .dataframe tbody tr th {\n",
       "        vertical-align: top;\n",
       "    }\n",
       "\n",
       "    .dataframe thead th {\n",
       "        text-align: right;\n",
       "    }\n",
       "</style>\n",
       "<table border=\"1\" class=\"dataframe\">\n",
       "  <thead>\n",
       "    <tr style=\"text-align: right;\">\n",
       "      <th></th>\n",
       "      <th>0</th>\n",
       "      <th>1</th>\n",
       "      <th>2</th>\n",
       "      <th>3</th>\n",
       "      <th>4</th>\n",
       "      <th>5</th>\n",
       "      <th>6</th>\n",
       "      <th>7</th>\n",
       "      <th>8</th>\n",
       "      <th>9</th>\n",
       "    </tr>\n",
       "  </thead>\n",
       "  <tbody>\n",
       "    <tr>\n",
       "      <th>0</th>\n",
       "      <td>chr1</td>\n",
       "      <td>181405</td>\n",
       "      <td>181555</td>\n",
       "      <td>.</td>\n",
       "      <td>0</td>\n",
       "      <td>.</td>\n",
       "      <td>12.379543</td>\n",
       "      <td>-1</td>\n",
       "      <td>-1</td>\n",
       "      <td>75</td>\n",
       "    </tr>\n",
       "    <tr>\n",
       "      <th>1</th>\n",
       "      <td>chr1</td>\n",
       "      <td>267990</td>\n",
       "      <td>268140</td>\n",
       "      <td>.</td>\n",
       "      <td>0</td>\n",
       "      <td>.</td>\n",
       "      <td>12.379543</td>\n",
       "      <td>-1</td>\n",
       "      <td>-1</td>\n",
       "      <td>75</td>\n",
       "    </tr>\n",
       "    <tr>\n",
       "      <th>2</th>\n",
       "      <td>chr1</td>\n",
       "      <td>629160</td>\n",
       "      <td>629310</td>\n",
       "      <td>.</td>\n",
       "      <td>0</td>\n",
       "      <td>.</td>\n",
       "      <td>22.263896</td>\n",
       "      <td>-1</td>\n",
       "      <td>-1</td>\n",
       "      <td>75</td>\n",
       "    </tr>\n",
       "  </tbody>\n",
       "</table>\n",
       "</div>"
      ],
      "text/plain": [
       "      0       1       2  3  4  5          6  7  8   9\n",
       "0  chr1  181405  181555  .  0  .  12.379543 -1 -1  75\n",
       "1  chr1  267990  268140  .  0  .  12.379543 -1 -1  75\n",
       "2  chr1  629160  629310  .  0  .  22.263896 -1 -1  75"
      ]
     },
     "execution_count": 24,
     "metadata": {},
     "output_type": "execute_result"
    }
   ],
   "source": [
    "DNase_bed_X1=pd.read_csv(os.path.join(data_folder,\"DNase-bed/X1.bed\"),\n",
    "                                 header=None,index_col=None,sep=\"\\t\")\n",
    "print(DNase_bed_X1.shape)\n",
    "DNase_bed_X1.head(n=3)"
   ]
  },
  {
   "cell_type": "code",
   "execution_count": null,
   "id": "7da3e9a8-5bfa-41e0-bab8-e6d316d27057",
   "metadata": {},
   "outputs": [],
   "source": []
  },
  {
   "cell_type": "code",
   "execution_count": null,
   "id": "07598bae-e4d7-4032-8dce-e86b158bf027",
   "metadata": {},
   "outputs": [],
   "source": []
  },
  {
   "cell_type": "markdown",
   "id": "6c9eca66-14a9-49ea-8d0e-ef32ea46dcc6",
   "metadata": {
    "tags": []
   },
   "source": [
    "# H3K27ac bed  data\n",
    "\n"
   ]
  },
  {
   "cell_type": "code",
   "execution_count": 25,
   "id": "02f9088c-1fff-4ad6-a360-2769bfb7e024",
   "metadata": {},
   "outputs": [
    {
     "name": "stdout",
     "output_type": "stream",
     "text": [
      "(57887, 10)\n"
     ]
    },
    {
     "data": {
      "text/html": [
       "<div>\n",
       "<style scoped>\n",
       "    .dataframe tbody tr th:only-of-type {\n",
       "        vertical-align: middle;\n",
       "    }\n",
       "\n",
       "    .dataframe tbody tr th {\n",
       "        vertical-align: top;\n",
       "    }\n",
       "\n",
       "    .dataframe thead th {\n",
       "        text-align: right;\n",
       "    }\n",
       "</style>\n",
       "<table border=\"1\" class=\"dataframe\">\n",
       "  <thead>\n",
       "    <tr style=\"text-align: right;\">\n",
       "      <th></th>\n",
       "      <th>0</th>\n",
       "      <th>1</th>\n",
       "      <th>2</th>\n",
       "      <th>3</th>\n",
       "      <th>4</th>\n",
       "      <th>5</th>\n",
       "      <th>6</th>\n",
       "      <th>7</th>\n",
       "      <th>8</th>\n",
       "      <th>9</th>\n",
       "    </tr>\n",
       "  </thead>\n",
       "  <tbody>\n",
       "    <tr>\n",
       "      <th>0</th>\n",
       "      <td>chr10</td>\n",
       "      <td>100000446</td>\n",
       "      <td>100000787</td>\n",
       "      <td>Peak_48796</td>\n",
       "      <td>20</td>\n",
       "      <td>.</td>\n",
       "      <td>4.62061</td>\n",
       "      <td>5.94877</td>\n",
       "      <td>4.02602</td>\n",
       "      <td>179</td>\n",
       "    </tr>\n",
       "    <tr>\n",
       "      <th>1</th>\n",
       "      <td>chr10</td>\n",
       "      <td>100005130</td>\n",
       "      <td>100005409</td>\n",
       "      <td>Peak_35045</td>\n",
       "      <td>28</td>\n",
       "      <td>.</td>\n",
       "      <td>6.22479</td>\n",
       "      <td>8.74197</td>\n",
       "      <td>6.70135</td>\n",
       "      <td>101</td>\n",
       "    </tr>\n",
       "    <tr>\n",
       "      <th>2</th>\n",
       "      <td>chr10</td>\n",
       "      <td>100005554</td>\n",
       "      <td>100009977</td>\n",
       "      <td>Peak_12003</td>\n",
       "      <td>96</td>\n",
       "      <td>.</td>\n",
       "      <td>12.84779</td>\n",
       "      <td>34.12514</td>\n",
       "      <td>31.48892</td>\n",
       "      <td>3918</td>\n",
       "    </tr>\n",
       "  </tbody>\n",
       "</table>\n",
       "</div>"
      ],
      "text/plain": [
       "       0          1          2           3   4  5         6         7  \\\n",
       "0  chr10  100000446  100000787  Peak_48796  20  .   4.62061   5.94877   \n",
       "1  chr10  100005130  100005409  Peak_35045  28  .   6.22479   8.74197   \n",
       "2  chr10  100005554  100009977  Peak_12003  96  .  12.84779  34.12514   \n",
       "\n",
       "          8     9  \n",
       "0   4.02602   179  \n",
       "1   6.70135   101  \n",
       "2  31.48892  3918  "
      ]
     },
     "execution_count": 25,
     "metadata": {},
     "output_type": "execute_result"
    }
   ],
   "source": [
    "H3K27ac_bed_X1=pd.read_csv(os.path.join(data_folder,\"H3K27ac-bed/X1.bed\"),\n",
    "                                 header=None,index_col=None,sep=\"\\t\")\n",
    "print(H3K27ac_bed_X1.shape)\n",
    "H3K27ac_bed_X1.head(n=3)"
   ]
  },
  {
   "cell_type": "code",
   "execution_count": null,
   "id": "bdc62a79-a401-4cef-930f-a8c7257d2247",
   "metadata": {},
   "outputs": [],
   "source": []
  },
  {
   "cell_type": "code",
   "execution_count": 27,
   "id": "acddf9b0-3cdb-4fa8-8b13-176d216ca39f",
   "metadata": {},
   "outputs": [
    {
     "name": "stdout",
     "output_type": "stream",
     "text": [
      "(89812, 10)\n"
     ]
    },
    {
     "data": {
      "text/html": [
       "<div>\n",
       "<style scoped>\n",
       "    .dataframe tbody tr th:only-of-type {\n",
       "        vertical-align: middle;\n",
       "    }\n",
       "\n",
       "    .dataframe tbody tr th {\n",
       "        vertical-align: top;\n",
       "    }\n",
       "\n",
       "    .dataframe thead th {\n",
       "        text-align: right;\n",
       "    }\n",
       "</style>\n",
       "<table border=\"1\" class=\"dataframe\">\n",
       "  <thead>\n",
       "    <tr style=\"text-align: right;\">\n",
       "      <th></th>\n",
       "      <th>0</th>\n",
       "      <th>1</th>\n",
       "      <th>2</th>\n",
       "      <th>3</th>\n",
       "      <th>4</th>\n",
       "      <th>5</th>\n",
       "      <th>6</th>\n",
       "      <th>7</th>\n",
       "      <th>8</th>\n",
       "      <th>9</th>\n",
       "    </tr>\n",
       "  </thead>\n",
       "  <tbody>\n",
       "    <tr>\n",
       "      <th>0</th>\n",
       "      <td>chr10</td>\n",
       "      <td>100000253</td>\n",
       "      <td>100001006</td>\n",
       "      <td>Peak_100923</td>\n",
       "      <td>26</td>\n",
       "      <td>.</td>\n",
       "      <td>2.91756</td>\n",
       "      <td>2.95990</td>\n",
       "      <td>1.12430</td>\n",
       "      <td>46</td>\n",
       "    </tr>\n",
       "    <tr>\n",
       "      <th>1</th>\n",
       "      <td>chr10</td>\n",
       "      <td>100006554</td>\n",
       "      <td>100007001</td>\n",
       "      <td>Peak_58802</td>\n",
       "      <td>59</td>\n",
       "      <td>.</td>\n",
       "      <td>3.97659</td>\n",
       "      <td>4.70508</td>\n",
       "      <td>2.57437</td>\n",
       "      <td>258</td>\n",
       "    </tr>\n",
       "    <tr>\n",
       "      <th>2</th>\n",
       "      <td>chr10</td>\n",
       "      <td>100010185</td>\n",
       "      <td>100010602</td>\n",
       "      <td>Peak_86672</td>\n",
       "      <td>39</td>\n",
       "      <td>.</td>\n",
       "      <td>3.57348</td>\n",
       "      <td>3.62402</td>\n",
       "      <td>1.66553</td>\n",
       "      <td>199</td>\n",
       "    </tr>\n",
       "  </tbody>\n",
       "</table>\n",
       "</div>"
      ],
      "text/plain": [
       "       0          1          2            3   4  5        6        7        8  \\\n",
       "0  chr10  100000253  100001006  Peak_100923  26  .  2.91756  2.95990  1.12430   \n",
       "1  chr10  100006554  100007001   Peak_58802  59  .  3.97659  4.70508  2.57437   \n",
       "2  chr10  100010185  100010602   Peak_86672  39  .  3.57348  3.62402  1.66553   \n",
       "\n",
       "     9  \n",
       "0   46  \n",
       "1  258  \n",
       "2  199  "
      ]
     },
     "execution_count": 27,
     "metadata": {},
     "output_type": "execute_result"
    }
   ],
   "source": [
    "# H3K4me1-bed data\n",
    "\n",
    "H3K4me1_bed_X1=pd.read_csv(os.path.join(data_folder,\"H3K4me1-bed/X1.bed\"),\n",
    "                                 header=None,index_col=None,sep=\"\\t\")\n",
    "print(H3K4me1_bed_X1.shape)\n",
    "H3K4me1_bed_X1.head(n=3)"
   ]
  },
  {
   "cell_type": "code",
   "execution_count": null,
   "id": "359c734c-7cd6-4f86-b58b-cba09b39c5ab",
   "metadata": {},
   "outputs": [],
   "source": []
  },
  {
   "cell_type": "code",
   "execution_count": null,
   "id": "d368e33c-ac8e-4aaf-a4b0-9deb9d90225b",
   "metadata": {},
   "outputs": [],
   "source": []
  },
  {
   "cell_type": "markdown",
   "id": "2be19a06-d183-4838-a1d7-a7c33bcb449f",
   "metadata": {},
   "source": [
    "# H3K27ac bigwig  data\n",
    "\n",
    "bigwig is binary data  seems used for IGV or UCSC browers \n",
    "\n"
   ]
  },
  {
   "cell_type": "code",
   "execution_count": null,
   "id": "541325f6-5dd5-4d37-83d9-ac1c98a218a8",
   "metadata": {},
   "outputs": [],
   "source": []
  },
  {
   "cell_type": "markdown",
   "id": "0035bce6-e045-4805-b36f-f217502aecf8",
   "metadata": {},
   "source": [
    "# need slide from tutorial get more info , e.g. nomorlization "
   ]
  },
  {
   "cell_type": "code",
   "execution_count": null,
   "id": "d30dee64-b3f2-4103-a0d7-f398217239cf",
   "metadata": {},
   "outputs": [],
   "source": []
  }
 ],
 "metadata": {
  "kernelspec": {
   "display_name": "py37_scikitlearn",
   "language": "python",
   "name": "py37_scikitlearn"
  },
  "language_info": {
   "codemirror_mode": {
    "name": "ipython",
    "version": 3
   },
   "file_extension": ".py",
   "mimetype": "text/x-python",
   "name": "python",
   "nbconvert_exporter": "python",
   "pygments_lexer": "ipython3",
   "version": "3.7.12"
  }
 },
 "nbformat": 4,
 "nbformat_minor": 5
}
