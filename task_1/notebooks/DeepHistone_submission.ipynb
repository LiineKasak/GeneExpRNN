{
 "cells": [
  {
   "cell_type": "code",
   "execution_count": 3,
   "metadata": {},
   "outputs": [
    {
     "name": "stdout",
     "output_type": "stream",
     "text": [
      "/net/cephfs/home/tfang/MLG/task_1/utils\n"
     ]
    }
   ],
   "source": [
    "%cd  ../utils"
   ]
  },
  {
   "cell_type": "code",
   "execution_count": 4,
   "metadata": {},
   "outputs": [
    {
     "name": "stderr",
     "output_type": "stream",
     "text": [
      "/data/tfang/conda-envs/py309_MLG/lib/python3.9/site-packages/tqdm/auto.py:22: TqdmWarning: IProgress not found. Please update jupyter and ipywidgets. See https://ipywidgets.readthedocs.io/en/stable/user_install.html\n",
      "  from .autonotebook import tqdm as notebook_tqdm\n"
     ]
    }
   ],
   "source": [
    "import numpy as np\n",
    "import torch\n",
    "\n",
    "import scipy\n",
    "from scipy import stats\n",
    "from tqdm import tqdm\n",
    "import copy\n",
    "import time\n",
    "import logging"
   ]
  },
  {
   "cell_type": "code",
   "execution_count": 5,
   "metadata": {},
   "outputs": [],
   "source": [
    "%reload_ext autoreload\n",
    "%autoreload 2\n",
    "\n",
    "\n",
    "from data_loader import *\n",
    "from dataset import HistoneDataset_returngenenames\n",
    "\n",
    "from modified_DeepHistone_model import DeepHistone\n",
    "from modified_DeepHistone_utils import model_train,model_eval,model_predict\n",
    "from modified_DeepHistone_utils import get_reshaped_data\n",
    "from modified_DeepHistone_utils import get_dict_from_data\n",
    "from modified_DeepHistone_utils import get_dict_from_data_submisson"
   ]
  },
  {
   "cell_type": "code",
   "execution_count": 15,
   "metadata": {},
   "outputs": [],
   "source": [
    "\n",
    "model_save_folder=\"../data/DeepHistone/\"\n",
    "\n",
    "\n",
    "left_flank_size = 1000#500#1000\n",
    "right_flank_size = left_flank_size#500#1000\n",
    "seq_bin_size=left_flank_size+right_flank_size\n",
    "histone_bin_size = 1 #100 ,20 ,5,1\n",
    "\n",
    "seq_bins=seq_bin_size\n",
    "assert seq_bin_size % histone_bin_size==0\n",
    "histone_bins=int(seq_bin_size/histone_bin_size)\n",
    "\n",
    "\n",
    "use_gpu = torch.cuda.is_available()\n",
    "\n",
    "\n",
    "batchsize=30#10000 # 20, 30\n",
    "\n",
    "conv_ksize,tran_ksize=9,4 \n",
    "\n",
    "use_seq=False\n",
    "\n",
    "\n",
    "\n",
    "best_model_name=\"prefix-basic-model--use_seq-False-left_flank_size-1000-histone_bin_size-1-conv_ksize-9-tran_ksize-4-batchsize-30-epochs-30-use_gpu-True-time20220404-103222-epoch18-model-final.txt\"\n",
    "\n",
    "\n"
   ]
  },
  {
   "cell_type": "code",
   "execution_count": 5,
   "metadata": {},
   "outputs": [
    {
     "data": {
      "text/html": [
       "<div>\n",
       "<style scoped>\n",
       "    .dataframe tbody tr th:only-of-type {\n",
       "        vertical-align: middle;\n",
       "    }\n",
       "\n",
       "    .dataframe tbody tr th {\n",
       "        vertical-align: top;\n",
       "    }\n",
       "\n",
       "    .dataframe thead th {\n",
       "        text-align: right;\n",
       "    }\n",
       "</style>\n",
       "<table border=\"1\" class=\"dataframe\">\n",
       "  <thead>\n",
       "    <tr style=\"text-align: right;\">\n",
       "      <th></th>\n",
       "      <th>gene_name</th>\n",
       "      <th>chr</th>\n",
       "      <th>gene_start</th>\n",
       "      <th>gene_end</th>\n",
       "      <th>TSS_start</th>\n",
       "      <th>TSS_end</th>\n",
       "      <th>strand</th>\n",
       "      <th>gex</th>\n",
       "      <th>cell_line</th>\n",
       "    </tr>\n",
       "  </thead>\n",
       "  <tbody>\n",
       "    <tr>\n",
       "      <th>0</th>\n",
       "      <td>SLC20A1</td>\n",
       "      <td>2</td>\n",
       "      <td>112645939</td>\n",
       "      <td>112663825</td>\n",
       "      <td>112658362</td>\n",
       "      <td>112658412</td>\n",
       "      <td>+</td>\n",
       "      <td>0.000000</td>\n",
       "      <td>1</td>\n",
       "    </tr>\n",
       "    <tr>\n",
       "      <th>1</th>\n",
       "      <td>C11orf58</td>\n",
       "      <td>11</td>\n",
       "      <td>16613132</td>\n",
       "      <td>16758340</td>\n",
       "      <td>16738643</td>\n",
       "      <td>16738693</td>\n",
       "      <td>+</td>\n",
       "      <td>2239.103328</td>\n",
       "      <td>1</td>\n",
       "    </tr>\n",
       "    <tr>\n",
       "      <th>2</th>\n",
       "      <td>ZSCAN9</td>\n",
       "      <td>6</td>\n",
       "      <td>28224886</td>\n",
       "      <td>28233487</td>\n",
       "      <td>28225263</td>\n",
       "      <td>28225313</td>\n",
       "      <td>+</td>\n",
       "      <td>19.798064</td>\n",
       "      <td>1</td>\n",
       "    </tr>\n",
       "  </tbody>\n",
       "</table>\n",
       "</div>"
      ],
      "text/plain": [
       "  gene_name  chr  gene_start   gene_end  TSS_start    TSS_end strand  \\\n",
       "0   SLC20A1    2   112645939  112663825  112658362  112658412      +   \n",
       "1  C11orf58   11    16613132   16758340   16738643   16738693      +   \n",
       "2    ZSCAN9    6    28224886   28233487   28225263   28225313      +   \n",
       "\n",
       "           gex  cell_line  \n",
       "0     0.000000          1  \n",
       "1  2239.103328          1  \n",
       "2    19.798064          1  "
      ]
     },
     "execution_count": 5,
     "metadata": {},
     "output_type": "execute_result"
    }
   ],
   "source": [
    "valid_chr=[5, 10, 15, 20]\n",
    "test_chr=[2,18]\n",
    "train_chr=[i for i in range(1,23) if (i not in valid_chr+test_chr)]\n",
    "all_genes = load_train_genes()\n",
    "all_genes.head(n=3)"
   ]
  },
  {
   "cell_type": "code",
   "execution_count": null,
   "metadata": {},
   "outputs": [],
   "source": []
  },
  {
   "cell_type": "code",
   "execution_count": null,
   "metadata": {},
   "outputs": [],
   "source": []
  },
  {
   "cell_type": "code",
   "execution_count": null,
   "metadata": {},
   "outputs": [],
   "source": []
  },
  {
   "cell_type": "code",
   "execution_count": 6,
   "metadata": {},
   "outputs": [],
   "source": [
    "# Get genes\n",
    "train_genes=filter_genes_by_chr(all_genes,train_chr)\n",
    "valid_genes=filter_genes_by_chr(all_genes,valid_chr)\n",
    "test_genes=filter_genes_by_chr(all_genes,test_chr)\n",
    "\n",
    "\n",
    "n_genes_train, _ = np.shape(train_genes)\n",
    "n_genes_valid, _ = np.shape(valid_genes)\n",
    "n_genes_test, _ = np.shape(test_genes)\n",
    "\n"
   ]
  },
  {
   "cell_type": "code",
   "execution_count": 16,
   "metadata": {},
   "outputs": [
    {
     "data": {
      "text/html": [
       "<div>\n",
       "<style scoped>\n",
       "    .dataframe tbody tr th:only-of-type {\n",
       "        vertical-align: middle;\n",
       "    }\n",
       "\n",
       "    .dataframe tbody tr th {\n",
       "        vertical-align: top;\n",
       "    }\n",
       "\n",
       "    .dataframe thead th {\n",
       "        text-align: right;\n",
       "    }\n",
       "</style>\n",
       "<table border=\"1\" class=\"dataframe\">\n",
       "  <thead>\n",
       "    <tr style=\"text-align: right;\">\n",
       "      <th></th>\n",
       "      <th>gene_name</th>\n",
       "      <th>chr</th>\n",
       "      <th>gene_start</th>\n",
       "      <th>gene_end</th>\n",
       "      <th>TSS_start</th>\n",
       "      <th>TSS_end</th>\n",
       "      <th>strand</th>\n",
       "      <th>cell_line</th>\n",
       "    </tr>\n",
       "  </thead>\n",
       "  <tbody>\n",
       "    <tr>\n",
       "      <th>0</th>\n",
       "      <td>CAPN9</td>\n",
       "      <td>1</td>\n",
       "      <td>230747384</td>\n",
       "      <td>230802003</td>\n",
       "      <td>230791876</td>\n",
       "      <td>230791926</td>\n",
       "      <td>+</td>\n",
       "      <td>3</td>\n",
       "    </tr>\n",
       "    <tr>\n",
       "      <th>1</th>\n",
       "      <td>ILF2</td>\n",
       "      <td>1</td>\n",
       "      <td>153661788</td>\n",
       "      <td>153671028</td>\n",
       "      <td>153664424</td>\n",
       "      <td>153664474</td>\n",
       "      <td>-</td>\n",
       "      <td>3</td>\n",
       "    </tr>\n",
       "    <tr>\n",
       "      <th>2</th>\n",
       "      <td>ST6GALNAC5</td>\n",
       "      <td>1</td>\n",
       "      <td>76867480</td>\n",
       "      <td>77067546</td>\n",
       "      <td>76867440</td>\n",
       "      <td>76867490</td>\n",
       "      <td>+</td>\n",
       "      <td>3</td>\n",
       "    </tr>\n",
       "  </tbody>\n",
       "</table>\n",
       "</div>"
      ],
      "text/plain": [
       "    gene_name  chr  gene_start   gene_end  TSS_start    TSS_end strand  \\\n",
       "0       CAPN9    1   230747384  230802003  230791876  230791926      +   \n",
       "1        ILF2    1   153661788  153671028  153664424  153664474      -   \n",
       "2  ST6GALNAC5    1    76867480   77067546   76867440   76867490      +   \n",
       "\n",
       "   cell_line  \n",
       "0          3  \n",
       "1          3  \n",
       "2          3  "
      ]
     },
     "execution_count": 16,
     "metadata": {},
     "output_type": "execute_result"
    }
   ],
   "source": [
    "submission_genes=load_test_genes()\n",
    "submission_genes['cell_line'] = 3\n",
    "n_genes_submission, _ = np.shape(submission_genes)\n",
    "submission_genes.head(n=3)"
   ]
  },
  {
   "cell_type": "code",
   "execution_count": 8,
   "metadata": {},
   "outputs": [
    {
     "data": {
      "text/html": [
       "<div>\n",
       "<style scoped>\n",
       "    .dataframe tbody tr th:only-of-type {\n",
       "        vertical-align: middle;\n",
       "    }\n",
       "\n",
       "    .dataframe tbody tr th {\n",
       "        vertical-align: top;\n",
       "    }\n",
       "\n",
       "    .dataframe thead th {\n",
       "        text-align: right;\n",
       "    }\n",
       "</style>\n",
       "<table border=\"1\" class=\"dataframe\">\n",
       "  <thead>\n",
       "    <tr style=\"text-align: right;\">\n",
       "      <th></th>\n",
       "      <th>gene_name</th>\n",
       "      <th>chr</th>\n",
       "      <th>gene_start</th>\n",
       "      <th>gene_end</th>\n",
       "      <th>TSS_start</th>\n",
       "      <th>TSS_end</th>\n",
       "      <th>strand</th>\n",
       "      <th>gex</th>\n",
       "      <th>cell_line</th>\n",
       "    </tr>\n",
       "  </thead>\n",
       "  <tbody>\n",
       "    <tr>\n",
       "      <th>0</th>\n",
       "      <td>SLC20A1</td>\n",
       "      <td>2</td>\n",
       "      <td>112645939</td>\n",
       "      <td>112663825</td>\n",
       "      <td>112658362</td>\n",
       "      <td>112658412</td>\n",
       "      <td>+</td>\n",
       "      <td>0.000000</td>\n",
       "      <td>1</td>\n",
       "    </tr>\n",
       "    <tr>\n",
       "      <th>5</th>\n",
       "      <td>POMC</td>\n",
       "      <td>2</td>\n",
       "      <td>25160853</td>\n",
       "      <td>25168903</td>\n",
       "      <td>25168640</td>\n",
       "      <td>25168690</td>\n",
       "      <td>-</td>\n",
       "      <td>0.480536</td>\n",
       "      <td>1</td>\n",
       "    </tr>\n",
       "    <tr>\n",
       "      <th>11</th>\n",
       "      <td>AKAIN1</td>\n",
       "      <td>18</td>\n",
       "      <td>5142911</td>\n",
       "      <td>5197503</td>\n",
       "      <td>5197453</td>\n",
       "      <td>5197503</td>\n",
       "      <td>-</td>\n",
       "      <td>0.000000</td>\n",
       "      <td>1</td>\n",
       "    </tr>\n",
       "  </tbody>\n",
       "</table>\n",
       "</div>"
      ],
      "text/plain": [
       "   gene_name  chr  gene_start   gene_end  TSS_start    TSS_end strand  \\\n",
       "0    SLC20A1    2   112645939  112663825  112658362  112658412      +   \n",
       "5       POMC    2    25160853   25168903   25168640   25168690      -   \n",
       "11    AKAIN1   18     5142911    5197503    5197453    5197503      -   \n",
       "\n",
       "         gex  cell_line  \n",
       "0   0.000000          1  \n",
       "5   0.480536          1  \n",
       "11  0.000000          1  "
      ]
     },
     "execution_count": 8,
     "metadata": {},
     "output_type": "execute_result"
    }
   ],
   "source": [
    "test_genes.head(n=3)"
   ]
  },
  {
   "cell_type": "code",
   "execution_count": null,
   "metadata": {},
   "outputs": [],
   "source": []
  },
  {
   "cell_type": "code",
   "execution_count": null,
   "metadata": {},
   "outputs": [],
   "source": []
  },
  {
   "cell_type": "code",
   "execution_count": null,
   "metadata": {},
   "outputs": [],
   "source": []
  },
  {
   "cell_type": "code",
   "execution_count": null,
   "metadata": {},
   "outputs": [],
   "source": []
  },
  {
   "cell_type": "code",
   "execution_count": 1,
   "metadata": {},
   "outputs": [
    {
     "ename": "NameError",
     "evalue": "name 'torch' is not defined",
     "output_type": "error",
     "traceback": [
      "\u001b[0;31m---------------------------------------------------------------------------\u001b[0m",
      "\u001b[0;31mNameError\u001b[0m                                 Traceback (most recent call last)",
      "File \u001b[0;32m<timed exec>:2\u001b[0m, in \u001b[0;36m<module>\u001b[0;34m\u001b[0m\n",
      "\u001b[0;31mNameError\u001b[0m: name 'torch' is not defined"
     ]
    }
   ],
   "source": [
    "%%time\n",
    "# Load train data\n",
    "train_dataloader = torch.utils.data.DataLoader(\n",
    "    HistoneDataset_returngenenames(train_genes,left_flank_size=left_flank_size,right_flank_size=right_flank_size,bin_size=histone_bin_size,use_seq=True), \n",
    "    shuffle=False, batch_size=n_genes_train)\n",
    "\n",
    "# Load valid data\n",
    "valid_dataloader = torch.utils.data.DataLoader(\n",
    "    HistoneDataset_returngenenames(valid_genes,left_flank_size=left_flank_size,right_flank_size=right_flank_size,bin_size=histone_bin_size,use_seq=True), \n",
    "    shuffle=False, batch_size=n_genes_valid)\n",
    "\n",
    "# Load test data\n",
    "test_dataloader = torch.utils.data.DataLoader(\n",
    "    HistoneDataset_returngenenames(test_genes,left_flank_size=left_flank_size,right_flank_size=right_flank_size,bin_size=histone_bin_size,use_seq=True), \n",
    "    shuffle=False, batch_size=n_genes_valid)"
   ]
  },
  {
   "cell_type": "code",
   "execution_count": null,
   "metadata": {},
   "outputs": [],
   "source": [
    "%%time\n",
    "# Load submission data \n",
    "submission_dataloader = torch.utils.data.DataLoader(\n",
    "    HistoneDataset_returngenenames(submission_genes,left_flank_size=left_flank_size,right_flank_size=right_flank_size,bin_size=histone_bin_size,use_seq=True), \n",
    "    shuffle=False, batch_size=n_genes_submission)\n",
    "\n"
   ]
  },
  {
   "cell_type": "code",
   "execution_count": null,
   "metadata": {},
   "outputs": [],
   "source": []
  },
  {
   "cell_type": "code",
   "execution_count": null,
   "metadata": {},
   "outputs": [],
   "source": [
    "%%time \n",
    "# Run train loader\n",
    "x_train_histone,x_train_seq,y_train,train_index=get_reshaped_data(dataloader=train_dataloader)\n",
    "\n",
    "# Run valid loader\n",
    "x_valid_histone,x_valid_seq,y_valid,valid_index=get_reshaped_data(dataloader=valid_dataloader)\n",
    "\n",
    "# Run test loader\n",
    "x_test_histone,x_test_seq,y_test,test_index=get_reshaped_data(dataloader=test_dataloader)\n",
    "\n"
   ]
  },
  {
   "cell_type": "code",
   "execution_count": null,
   "metadata": {},
   "outputs": [],
   "source": [
    "%%time \n",
    "# Run submission loader\n",
    "x_submission_histone,x_submission_seq,submission_index=get_reshaped_data(dataloader=submission_dataloader,is_train=False)\n"
   ]
  },
  {
   "cell_type": "code",
   "execution_count": null,
   "metadata": {},
   "outputs": [],
   "source": [
    "print(len(train_index),len(valid_index),len(test_index),len(submission_index))\n"
   ]
  },
  {
   "cell_type": "code",
   "execution_count": null,
   "metadata": {},
   "outputs": [],
   "source": []
  },
  {
   "cell_type": "code",
   "execution_count": null,
   "metadata": {},
   "outputs": [],
   "source": [
    "%%time \n",
    "dna_dict= get_dict_from_data(train_index,valid_index,test_index,\n",
    "                             x_train_seq,x_valid_seq,x_test_seq)\n",
    "\n",
    "histone_dict= get_dict_from_data(train_index,valid_index,test_index,\n",
    "                             x_train_histone,x_valid_histone,x_test_histone,)\n",
    "gex_dict = get_dict_from_data(train_index,valid_index,test_index,\n",
    "                             y_train,y_valid,y_test,)"
   ]
  },
  {
   "cell_type": "code",
   "execution_count": null,
   "metadata": {},
   "outputs": [],
   "source": [
    "submission_dna_dict= get_dict_from_data_submisson(submission_index,x_submission_seq)\n",
    "\n",
    "submission_histone_dict= get_dict_from_data_submisson(submission_index,x_submission_histone,)\n",
    "\n"
   ]
  },
  {
   "cell_type": "code",
   "execution_count": null,
   "metadata": {},
   "outputs": [],
   "source": [
    "#print(dna_dict['1_FERMT2'].shape,histone_dict['1_FERMT2'].shape,gex_dict['1_FERMT2'].shape)"
   ]
  },
  {
   "cell_type": "code",
   "execution_count": 17,
   "metadata": {},
   "outputs": [
    {
     "data": {
      "text/plain": [
       "<All keys matched successfully>"
      ]
     },
     "execution_count": 17,
     "metadata": {},
     "output_type": "execute_result"
    }
   ],
   "source": [
    "model = DeepHistone(use_gpu,use_seq=use_seq,bin_list=[seq_bins,histone_bins],inside_ksize=[conv_ksize,tran_ksize])\n",
    "#model.load_state_dict(torch.load(f\"{model_save_folder}{best_model_name}\"))\n",
    "model.forward_fn.load_state_dict(torch.load(f\"{model_save_folder}{best_model_name}\",map_location=torch.device('cpu')))\n",
    "\n",
    "# model.forward_fn.load_state_dict(torch.load(f\"{model_save_folder}{best_model_name}\",map_location=torch.device('cpu')))\n",
    "# !!! after this step even if i just pritn something , top -i shows im using more than 100 cpus ? \n",
    "# is this because the model is orignally trained on gpu ???\n",
    "\n",
    "#  12972   "
   ]
  },
  {
   "cell_type": "code",
   "execution_count": null,
   "metadata": {},
   "outputs": [],
   "source": []
  },
  {
   "cell_type": "code",
   "execution_count": null,
   "metadata": {},
   "outputs": [],
   "source": []
  },
  {
   "cell_type": "code",
   "execution_count": null,
   "metadata": {},
   "outputs": [],
   "source": [
    "('Begin predicting...')\n",
    "test_gex,test_pred = model_predict(test_index,model,batchsize,dna_dict,histone_dict,gex_dict,)\t\n",
    "test_score = scipy.stats.spearmanr(test_pred , test_gex ).correlation\n",
    "\n",
    "print('Spearman Correlation Score: {}'.format(test_score))"
   ]
  },
  {
   "cell_type": "code",
   "execution_count": null,
   "metadata": {},
   "outputs": [],
   "source": []
  },
  {
   "cell_type": "code",
   "execution_count": null,
   "metadata": {},
   "outputs": [],
   "source": [
    "# np.savetxt(f\"{model_save_folder}label.txt\", valid_gex, fmt='%d', delimiter='\\t')"
   ]
  },
  {
   "cell_type": "code",
   "execution_count": 14,
   "metadata": {},
   "outputs": [],
   "source": []
  },
  {
   "cell_type": "code",
   "execution_count": null,
   "metadata": {},
   "outputs": [],
   "source": [
    "np.savetxt(f\"{model_save_folder}submission_pred.txt\",submission_pred, fmt='%.4f', delimiter='\\t')"
   ]
  },
  {
   "cell_type": "code",
   "execution_count": 11,
   "metadata": {},
   "outputs": [],
   "source": [
    "submission_pred=np.loadtxt(f\"{model_save_folder}submission_pred.txt\",delimiter='\\t')\n",
    "\n"
   ]
  },
  {
   "cell_type": "code",
   "execution_count": 23,
   "metadata": {},
   "outputs": [
    {
     "data": {
      "text/plain": [
       "array([0.000000e+00, 1.018480e+01, 1.416000e-01, ..., 1.542500e+00,\n",
       "       2.917000e+00, 1.821601e+02])"
      ]
     },
     "execution_count": 23,
     "metadata": {},
     "output_type": "execute_result"
    }
   ],
   "source": [
    "submission_pred.flatten()"
   ]
  },
  {
   "cell_type": "code",
   "execution_count": null,
   "metadata": {},
   "outputs": [],
   "source": []
  }
 ],
 "metadata": {
  "kernelspec": {
   "display_name": "py309_MLG",
   "language": "python",
   "name": "py309_mlg"
  },
  "language_info": {
   "codemirror_mode": {
    "name": "ipython",
    "version": 3
   },
   "file_extension": ".py",
   "mimetype": "text/x-python",
   "name": "python",
   "nbconvert_exporter": "python",
   "pygments_lexer": "ipython3",
   "version": "3.9.7"
  }
 },
 "nbformat": 4,
 "nbformat_minor": 5
}
