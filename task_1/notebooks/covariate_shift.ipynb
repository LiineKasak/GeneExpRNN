{
 "cells": [
  {
   "cell_type": "code",
   "execution_count": 1,
   "metadata": {},
   "outputs": [],
   "source": [
    "import os\n",
    "import glob\n",
    "import pandas as pd\n",
    "import seaborn as sns\n",
    "import numpy as np\n",
    "import matplotlib.pyplot as plt"
   ]
  },
  {
   "cell_type": "code",
   "execution_count": 33,
   "metadata": {},
   "outputs": [],
   "source": [
    "# Read in the data\n",
    "data_root = '/mnt/mnemo5/sum02dean/sl_projects/MLG/task_1/data/CAGE-train'\n",
    "files_train = glob.glob(os.path.join(data_root, '*train_y.tsv'))\n",
    "files_val = glob.glob(os.path.join(data_root, '*val_y.tsv'))\n",
    "\n",
    "# Get train and test\n",
    "df_train = pd.concat([pd.read_csv(x, sep='\\t') for x in files_train])\n",
    "df_val= pd.concat([pd.read_csv(x, sep='\\t') for x in files_val])\n"
   ]
  },
  {
   "cell_type": "code",
   "execution_count": 34,
   "metadata": {},
   "outputs": [],
   "source": [
    "def plot_distribution(x1, x2, min_v=-300, max_v=800, balance=True, names=['test', 'train']):\n",
    "    \"\"\"Plots the distribution between two variables of interest, x1 and x2.\n",
    "\n",
    "    :param x1: variable 1 (smallest number of samples - if balance = True)\n",
    "    :type x1: pandas.core.frame.DataFrame \n",
    "    \n",
    "    :param x2: variable 2  (lagestest number of samples - if balance = True)\n",
    "    :type x2: pandas.core.frame.DataFrame\n",
    "\n",
    "    :param names: list containing strings of dataset names (for plotting) in same order provided\n",
    "    :type names: list\n",
    "\n",
    "    :param balace: to balance the sets based on x1 dimension (dim 0), defaults to True\n",
    "    :type balace: bool, optional\n",
    "    \"\"\"\n",
    "\n",
    "    if balance:\n",
    "        try:\n",
    "            # Check length of x1 <= x2\n",
    "            assert(x1.shape[0] <= x2.shape[0])\n",
    "\n",
    "            # Balance data\n",
    "            n_samples = np.shape(x1)[0]\n",
    "            x2 = x2.sample(n_samples)  \n",
    "\n",
    "        except AssertionError as e:\n",
    "            print(e)\n",
    "            print('Make sure x2 has largest number of samples!')\n",
    "            return None\n",
    "\n",
    "    # Plot KDE\n",
    "    fig, ax = plt.subplots()\n",
    "    sns.kdeplot(x1['gex'].values, label=names[0])\n",
    "    sns.kdeplot(x2['gex'].values, label=names[1])\n",
    "    plt.title(\"GEX Distributions ({}-{})\".format(names[0], names[1]))\n",
    "    plt.xlim([min_v, max_v])\n",
    "    ax.legend()\n",
    "    plt.show()\n",
    "\n",
    "\n",
    "    \n"
   ]
  },
  {
   "cell_type": "code",
   "execution_count": 37,
   "metadata": {},
   "outputs": [
    {
     "data": {
      "image/png": "[encoded data removed]",
      "text/plain": [
       "<Figure size 432x288 with 1 Axes>"
      ]
     },
     "metadata": {
      "needs_background": "light"
     },
     "output_type": "display_data"
    }
   ],
   "source": [
    "plot_distribution(x1=df_val, x2=df_train, balance=True, names=['test', 'train'])"
   ]
  },
  {
   "cell_type": "code",
   "execution_count": 36,
   "metadata": {},
   "outputs": [
    {
     "data": {
      "text/html": [
       "<div>\n",
       "<style scoped>\n",
       "    .dataframe tbody tr th:only-of-type {\n",
       "        vertical-align: middle;\n",
       "    }\n",
       "\n",
       "    .dataframe tbody tr th {\n",
       "        vertical-align: top;\n",
       "    }\n",
       "\n",
       "    .dataframe thead th {\n",
       "        text-align: right;\n",
       "    }\n",
       "</style>\n",
       "<table border=\"1\" class=\"dataframe\">\n",
       "  <thead>\n",
       "    <tr style=\"text-align: right;\">\n",
       "      <th></th>\n",
       "      <th>gene_name</th>\n",
       "      <th>gex</th>\n",
       "    </tr>\n",
       "  </thead>\n",
       "  <tbody>\n",
       "    <tr>\n",
       "      <th>0</th>\n",
       "      <td>ECH1</td>\n",
       "      <td>0.000000</td>\n",
       "    </tr>\n",
       "    <tr>\n",
       "      <th>1</th>\n",
       "      <td>CAMSAP3</td>\n",
       "      <td>0.000000</td>\n",
       "    </tr>\n",
       "    <tr>\n",
       "      <th>2</th>\n",
       "      <td>MISP</td>\n",
       "      <td>0.000000</td>\n",
       "    </tr>\n",
       "    <tr>\n",
       "      <th>3</th>\n",
       "      <td>MCOLN1</td>\n",
       "      <td>0.000000</td>\n",
       "    </tr>\n",
       "    <tr>\n",
       "      <th>4</th>\n",
       "      <td>CHERP</td>\n",
       "      <td>0.480536</td>\n",
       "    </tr>\n",
       "    <tr>\n",
       "      <th>...</th>\n",
       "      <td>...</td>\n",
       "      <td>...</td>\n",
       "    </tr>\n",
       "    <tr>\n",
       "      <th>1969</th>\n",
       "      <td>TMPRSS9</td>\n",
       "      <td>0.000000</td>\n",
       "    </tr>\n",
       "    <tr>\n",
       "      <th>1970</th>\n",
       "      <td>PSMA3</td>\n",
       "      <td>0.096071</td>\n",
       "    </tr>\n",
       "    <tr>\n",
       "      <th>1971</th>\n",
       "      <td>PLEKHA4</td>\n",
       "      <td>0.000000</td>\n",
       "    </tr>\n",
       "    <tr>\n",
       "      <th>1972</th>\n",
       "      <td>DENND1C</td>\n",
       "      <td>0.000000</td>\n",
       "    </tr>\n",
       "    <tr>\n",
       "      <th>1973</th>\n",
       "      <td>CC2D1A</td>\n",
       "      <td>0.000000</td>\n",
       "    </tr>\n",
       "  </tbody>\n",
       "</table>\n",
       "<p>3948 rows × 2 columns</p>\n",
       "</div>"
      ],
      "text/plain": [
       "     gene_name       gex\n",
       "0         ECH1  0.000000\n",
       "1      CAMSAP3  0.000000\n",
       "2         MISP  0.000000\n",
       "3       MCOLN1  0.000000\n",
       "4        CHERP  0.480536\n",
       "...        ...       ...\n",
       "1969   TMPRSS9  0.000000\n",
       "1970     PSMA3  0.096071\n",
       "1971   PLEKHA4  0.000000\n",
       "1972   DENND1C  0.000000\n",
       "1973    CC2D1A  0.000000\n",
       "\n",
       "[3948 rows x 2 columns]"
      ]
     },
     "execution_count": 36,
     "metadata": {},
     "output_type": "execute_result"
    }
   ],
   "source": [
    "df_val"
   ]
  },
  {
   "cell_type": "code",
   "execution_count": null,
   "metadata": {},
   "outputs": [],
   "source": []
  }
 ],
 "metadata": {
  "interpreter": {
   "hash": "9634a5921f55b4aca2f3f1bc6ae57ce5c9e4c6e3599b6f6c120c0b0be5eab0f5"
  },
  "kernelspec": {
   "display_name": "Python 3.9.7 ('base')",
   "language": "python",
   "name": "python3"
  },
  "language_info": {
   "codemirror_mode": {
    "name": "ipython",
    "version": 3
   },
   "file_extension": ".py",
   "mimetype": "text/x-python",
   "name": "python",
   "nbconvert_exporter": "python",
   "pygments_lexer": "ipython3",
   "version": "3.10.2"
  },
  "orig_nbformat": 4
 },
 "nbformat": 4,
 "nbformat_minor": 2
}
