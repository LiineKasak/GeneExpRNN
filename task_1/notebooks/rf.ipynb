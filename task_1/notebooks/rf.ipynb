{
 "cells": [
  {
   "cell_type": "code",
   "execution_count": 1,
   "metadata": {},
   "outputs": [
    {
     "ename": "ModuleNotFoundError",
     "evalue": "No module named 'typing_extensions'",
     "output_type": "error",
     "traceback": [
      "\u001b[0;31m---------------------------------------------------------------------------\u001b[0m",
      "\u001b[0;31mModuleNotFoundError\u001b[0m                       Traceback (most recent call last)",
      "Input \u001b[0;32mIn [1]\u001b[0m, in \u001b[0;36m<cell line: 7>\u001b[0;34m()\u001b[0m\n\u001b[1;32m      5\u001b[0m sys\u001b[39m.\u001b[39mpath\u001b[39m.\u001b[39mappend(\u001b[39m'\u001b[39m\u001b[39m../\u001b[39m\u001b[39m'\u001b[39m)\n\u001b[1;32m      6\u001b[0m \u001b[39mfrom\u001b[39;00m \u001b[39mutils\u001b[39;00m\u001b[39m.\u001b[39;00m\u001b[39mdata_loader\u001b[39;00m \u001b[39mimport\u001b[39;00m \u001b[39m*\u001b[39m\n\u001b[0;32m----> 7\u001b[0m \u001b[39mfrom\u001b[39;00m \u001b[39mutils\u001b[39;00m\u001b[39m.\u001b[39;00m\u001b[39mdataset\u001b[39;00m \u001b[39mimport\u001b[39;00m \u001b[39m*\u001b[39m\n",
      "File \u001b[0;32m/mnt/mnemo1/sum02dean/dean_mnt/projects/MLG/task_1/notebooks/../utils/dataset.py:4\u001b[0m, in \u001b[0;36m<module>\u001b[0;34m\u001b[0m\n\u001b[1;32m      <a href='file:///mnt/mnemo1/sum02dean/dean_mnt/projects/MLG/task_1/notebooks/../utils/dataset.py?line=1'>2</a>\u001b[0m \u001b[39mimport\u001b[39;00m \u001b[39mnumpy\u001b[39;00m \u001b[39mas\u001b[39;00m \u001b[39mnp\u001b[39;00m\n\u001b[1;32m      <a href='file:///mnt/mnemo1/sum02dean/dean_mnt/projects/MLG/task_1/notebooks/../utils/dataset.py?line=2'>3</a>\u001b[0m \u001b[39mimport\u001b[39;00m \u001b[39mpandas\u001b[39;00m \u001b[39mas\u001b[39;00m \u001b[39mpd\u001b[39;00m\n\u001b[0;32m----> <a href='file:///mnt/mnemo1/sum02dean/dean_mnt/projects/MLG/task_1/notebooks/../utils/dataset.py?line=3'>4</a>\u001b[0m \u001b[39mimport\u001b[39;00m \u001b[39mtorch\u001b[39;00m\n\u001b[1;32m      <a href='file:///mnt/mnemo1/sum02dean/dean_mnt/projects/MLG/task_1/notebooks/../utils/dataset.py?line=4'>5</a>\u001b[0m \u001b[39mfrom\u001b[39;00m \u001b[39msklearn\u001b[39;00m\u001b[39m.\u001b[39;00m\u001b[39mmodel_selection\u001b[39;00m \u001b[39mimport\u001b[39;00m train_test_split\n\u001b[1;32m      <a href='file:///mnt/mnemo1/sum02dean/dean_mnt/projects/MLG/task_1/notebooks/../utils/dataset.py?line=5'>6</a>\u001b[0m \u001b[39mfrom\u001b[39;00m \u001b[39mtorch\u001b[39;00m\u001b[39m.\u001b[39;00m\u001b[39mutils\u001b[39;00m\u001b[39m.\u001b[39;00m\u001b[39mdata\u001b[39;00m \u001b[39mimport\u001b[39;00m Dataset\n",
      "File \u001b[0;32m~/miniconda3/envs/mlg-env/lib/python3.9/site-packages/torch/__init__.py:751\u001b[0m, in \u001b[0;36m<module>\u001b[0;34m\u001b[0m\n\u001b[1;32m    <a href='file:///mnt/mnemo5/sum02dean/miniconda3/envs/mlg-env/lib/python3.9/site-packages/torch/__init__.py?line=743'>744</a>\u001b[0m     __all__\u001b[39m.\u001b[39mappend(name)\n\u001b[1;32m    <a href='file:///mnt/mnemo5/sum02dean/miniconda3/envs/mlg-env/lib/python3.9/site-packages/torch/__init__.py?line=745'>746</a>\u001b[0m \u001b[39m################################################################################\u001b[39;00m\n\u001b[1;32m    <a href='file:///mnt/mnemo5/sum02dean/miniconda3/envs/mlg-env/lib/python3.9/site-packages/torch/__init__.py?line=746'>747</a>\u001b[0m \u001b[39m# Import interface functions defined in Python\u001b[39;00m\n\u001b[1;32m    <a href='file:///mnt/mnemo5/sum02dean/miniconda3/envs/mlg-env/lib/python3.9/site-packages/torch/__init__.py?line=747'>748</a>\u001b[0m \u001b[39m################################################################################\u001b[39;00m\n\u001b[1;32m    <a href='file:///mnt/mnemo5/sum02dean/miniconda3/envs/mlg-env/lib/python3.9/site-packages/torch/__init__.py?line=748'>749</a>\u001b[0m \n\u001b[1;32m    <a href='file:///mnt/mnemo5/sum02dean/miniconda3/envs/mlg-env/lib/python3.9/site-packages/torch/__init__.py?line=749'>750</a>\u001b[0m \u001b[39m# needs to be after the above ATen bindings so we can overwrite from Python side\u001b[39;00m\n\u001b[0;32m--> <a href='file:///mnt/mnemo5/sum02dean/miniconda3/envs/mlg-env/lib/python3.9/site-packages/torch/__init__.py?line=750'>751</a>\u001b[0m \u001b[39mfrom\u001b[39;00m \u001b[39m.\u001b[39;00m\u001b[39mfunctional\u001b[39;00m \u001b[39mimport\u001b[39;00m \u001b[39m*\u001b[39m  \u001b[39m# noqa: F403\u001b[39;00m\n\u001b[1;32m    <a href='file:///mnt/mnemo5/sum02dean/miniconda3/envs/mlg-env/lib/python3.9/site-packages/torch/__init__.py?line=753'>754</a>\u001b[0m \u001b[39m################################################################################\u001b[39;00m\n\u001b[1;32m    <a href='file:///mnt/mnemo5/sum02dean/miniconda3/envs/mlg-env/lib/python3.9/site-packages/torch/__init__.py?line=754'>755</a>\u001b[0m \u001b[39m# Remove unnecessary members\u001b[39;00m\n\u001b[1;32m    <a href='file:///mnt/mnemo5/sum02dean/miniconda3/envs/mlg-env/lib/python3.9/site-packages/torch/__init__.py?line=755'>756</a>\u001b[0m \u001b[39m################################################################################\u001b[39;00m\n\u001b[1;32m    <a href='file:///mnt/mnemo5/sum02dean/miniconda3/envs/mlg-env/lib/python3.9/site-packages/torch/__init__.py?line=757'>758</a>\u001b[0m \u001b[39mdel\u001b[39;00m ByteStorageBase\n",
      "File \u001b[0;32m~/miniconda3/envs/mlg-env/lib/python3.9/site-packages/torch/functional.py:8\u001b[0m, in \u001b[0;36m<module>\u001b[0;34m\u001b[0m\n\u001b[1;32m      <a href='file:///mnt/mnemo5/sum02dean/miniconda3/envs/mlg-env/lib/python3.9/site-packages/torch/functional.py?line=4'>5</a>\u001b[0m \u001b[39mimport\u001b[39;00m \u001b[39mitertools\u001b[39;00m\n\u001b[1;32m      <a href='file:///mnt/mnemo5/sum02dean/miniconda3/envs/mlg-env/lib/python3.9/site-packages/torch/functional.py?line=6'>7</a>\u001b[0m \u001b[39mimport\u001b[39;00m \u001b[39mtorch\u001b[39;00m\n\u001b[0;32m----> <a href='file:///mnt/mnemo5/sum02dean/miniconda3/envs/mlg-env/lib/python3.9/site-packages/torch/functional.py?line=7'>8</a>\u001b[0m \u001b[39mimport\u001b[39;00m \u001b[39mtorch\u001b[39;00m\u001b[39m.\u001b[39;00m\u001b[39mnn\u001b[39;00m\u001b[39m.\u001b[39;00m\u001b[39mfunctional\u001b[39;00m \u001b[39mas\u001b[39;00m \u001b[39mF\u001b[39;00m\n\u001b[1;32m      <a href='file:///mnt/mnemo5/sum02dean/miniconda3/envs/mlg-env/lib/python3.9/site-packages/torch/functional.py?line=8'>9</a>\u001b[0m \u001b[39mfrom\u001b[39;00m \u001b[39m.\u001b[39;00m\u001b[39m_lowrank\u001b[39;00m \u001b[39mimport\u001b[39;00m svd_lowrank, pca_lowrank\n\u001b[1;32m     <a href='file:///mnt/mnemo5/sum02dean/miniconda3/envs/mlg-env/lib/python3.9/site-packages/torch/functional.py?line=9'>10</a>\u001b[0m \u001b[39mfrom\u001b[39;00m \u001b[39m.\u001b[39;00m\u001b[39moverrides\u001b[39;00m \u001b[39mimport\u001b[39;00m (\n\u001b[1;32m     <a href='file:///mnt/mnemo5/sum02dean/miniconda3/envs/mlg-env/lib/python3.9/site-packages/torch/functional.py?line=10'>11</a>\u001b[0m     has_torch_function, has_torch_function_unary, has_torch_function_variadic,\n\u001b[1;32m     <a href='file:///mnt/mnemo5/sum02dean/miniconda3/envs/mlg-env/lib/python3.9/site-packages/torch/functional.py?line=11'>12</a>\u001b[0m     handle_torch_function)\n",
      "File \u001b[0;32m~/miniconda3/envs/mlg-env/lib/python3.9/site-packages/torch/nn/__init__.py:1\u001b[0m, in \u001b[0;36m<module>\u001b[0;34m\u001b[0m\n\u001b[0;32m----> <a href='file:///mnt/mnemo5/sum02dean/miniconda3/envs/mlg-env/lib/python3.9/site-packages/torch/nn/__init__.py?line=0'>1</a>\u001b[0m \u001b[39mfrom\u001b[39;00m \u001b[39m.\u001b[39;00m\u001b[39mmodules\u001b[39;00m \u001b[39mimport\u001b[39;00m \u001b[39m*\u001b[39m  \u001b[39m# noqa: F403\u001b[39;00m\n\u001b[1;32m      <a href='file:///mnt/mnemo5/sum02dean/miniconda3/envs/mlg-env/lib/python3.9/site-packages/torch/nn/__init__.py?line=1'>2</a>\u001b[0m \u001b[39mfrom\u001b[39;00m \u001b[39m.\u001b[39;00m\u001b[39mparameter\u001b[39;00m \u001b[39mimport\u001b[39;00m Parameter, UninitializedParameter, UninitializedBuffer\n\u001b[1;32m      <a href='file:///mnt/mnemo5/sum02dean/miniconda3/envs/mlg-env/lib/python3.9/site-packages/torch/nn/__init__.py?line=2'>3</a>\u001b[0m \u001b[39mfrom\u001b[39;00m \u001b[39m.\u001b[39;00m\u001b[39mparallel\u001b[39;00m \u001b[39mimport\u001b[39;00m DataParallel\n",
      "File \u001b[0;32m~/miniconda3/envs/mlg-env/lib/python3.9/site-packages/torch/nn/modules/__init__.py:2\u001b[0m, in \u001b[0;36m<module>\u001b[0;34m\u001b[0m\n\u001b[1;32m      <a href='file:///mnt/mnemo5/sum02dean/miniconda3/envs/mlg-env/lib/python3.9/site-packages/torch/nn/modules/__init__.py?line=0'>1</a>\u001b[0m \u001b[39mfrom\u001b[39;00m \u001b[39m.\u001b[39;00m\u001b[39mmodule\u001b[39;00m \u001b[39mimport\u001b[39;00m Module\n\u001b[0;32m----> <a href='file:///mnt/mnemo5/sum02dean/miniconda3/envs/mlg-env/lib/python3.9/site-packages/torch/nn/modules/__init__.py?line=1'>2</a>\u001b[0m \u001b[39mfrom\u001b[39;00m \u001b[39m.\u001b[39;00m\u001b[39mlinear\u001b[39;00m \u001b[39mimport\u001b[39;00m Identity, Linear, Bilinear, LazyLinear\n\u001b[1;32m      <a href='file:///mnt/mnemo5/sum02dean/miniconda3/envs/mlg-env/lib/python3.9/site-packages/torch/nn/modules/__init__.py?line=2'>3</a>\u001b[0m \u001b[39mfrom\u001b[39;00m \u001b[39m.\u001b[39;00m\u001b[39mconv\u001b[39;00m \u001b[39mimport\u001b[39;00m Conv1d, Conv2d, Conv3d, \\\n\u001b[1;32m      <a href='file:///mnt/mnemo5/sum02dean/miniconda3/envs/mlg-env/lib/python3.9/site-packages/torch/nn/modules/__init__.py?line=3'>4</a>\u001b[0m     ConvTranspose1d, ConvTranspose2d, ConvTranspose3d, \\\n\u001b[1;32m      <a href='file:///mnt/mnemo5/sum02dean/miniconda3/envs/mlg-env/lib/python3.9/site-packages/torch/nn/modules/__init__.py?line=4'>5</a>\u001b[0m     LazyConv1d, LazyConv2d, LazyConv3d, LazyConvTranspose1d, LazyConvTranspose2d, LazyConvTranspose3d\n\u001b[1;32m      <a href='file:///mnt/mnemo5/sum02dean/miniconda3/envs/mlg-env/lib/python3.9/site-packages/torch/nn/modules/__init__.py?line=5'>6</a>\u001b[0m \u001b[39mfrom\u001b[39;00m \u001b[39m.\u001b[39;00m\u001b[39mactivation\u001b[39;00m \u001b[39mimport\u001b[39;00m Threshold, ReLU, Hardtanh, ReLU6, Sigmoid, Tanh, \\\n\u001b[1;32m      <a href='file:///mnt/mnemo5/sum02dean/miniconda3/envs/mlg-env/lib/python3.9/site-packages/torch/nn/modules/__init__.py?line=6'>7</a>\u001b[0m     Softmax, Softmax2d, LogSoftmax, ELU, SELU, CELU, GELU, Hardshrink, LeakyReLU, LogSigmoid, \\\n\u001b[1;32m      <a href='file:///mnt/mnemo5/sum02dean/miniconda3/envs/mlg-env/lib/python3.9/site-packages/torch/nn/modules/__init__.py?line=7'>8</a>\u001b[0m     Softplus, Softshrink, MultiheadAttention, PReLU, Softsign, Softmin, Tanhshrink, RReLU, GLU, \\\n\u001b[1;32m      <a href='file:///mnt/mnemo5/sum02dean/miniconda3/envs/mlg-env/lib/python3.9/site-packages/torch/nn/modules/__init__.py?line=8'>9</a>\u001b[0m     Hardsigmoid, Hardswish, SiLU, Mish\n",
      "File \u001b[0;32m~/miniconda3/envs/mlg-env/lib/python3.9/site-packages/torch/nn/modules/linear.py:9\u001b[0m, in \u001b[0;36m<module>\u001b[0;34m\u001b[0m\n\u001b[1;32m      <a href='file:///mnt/mnemo5/sum02dean/miniconda3/envs/mlg-env/lib/python3.9/site-packages/torch/nn/modules/linear.py?line=6'>7</a>\u001b[0m \u001b[39mfrom\u001b[39;00m \u001b[39m.\u001b[39;00m\u001b[39m.\u001b[39;00m \u001b[39mimport\u001b[39;00m init\n\u001b[1;32m      <a href='file:///mnt/mnemo5/sum02dean/miniconda3/envs/mlg-env/lib/python3.9/site-packages/torch/nn/modules/linear.py?line=7'>8</a>\u001b[0m \u001b[39mfrom\u001b[39;00m \u001b[39m.\u001b[39;00m\u001b[39mmodule\u001b[39;00m \u001b[39mimport\u001b[39;00m Module\n\u001b[0;32m----> <a href='file:///mnt/mnemo5/sum02dean/miniconda3/envs/mlg-env/lib/python3.9/site-packages/torch/nn/modules/linear.py?line=8'>9</a>\u001b[0m \u001b[39mfrom\u001b[39;00m \u001b[39m.\u001b[39;00m\u001b[39mlazy\u001b[39;00m \u001b[39mimport\u001b[39;00m LazyModuleMixin\n\u001b[1;32m     <a href='file:///mnt/mnemo5/sum02dean/miniconda3/envs/mlg-env/lib/python3.9/site-packages/torch/nn/modules/linear.py?line=11'>12</a>\u001b[0m \u001b[39mclass\u001b[39;00m \u001b[39mIdentity\u001b[39;00m(Module):\n\u001b[1;32m     <a href='file:///mnt/mnemo5/sum02dean/miniconda3/envs/mlg-env/lib/python3.9/site-packages/torch/nn/modules/linear.py?line=12'>13</a>\u001b[0m     \u001b[39mr\u001b[39m\u001b[39m\"\"\"A placeholder identity operator that is argument-insensitive.\u001b[39;00m\n\u001b[1;32m     <a href='file:///mnt/mnemo5/sum02dean/miniconda3/envs/mlg-env/lib/python3.9/site-packages/torch/nn/modules/linear.py?line=13'>14</a>\u001b[0m \n\u001b[1;32m     <a href='file:///mnt/mnemo5/sum02dean/miniconda3/envs/mlg-env/lib/python3.9/site-packages/torch/nn/modules/linear.py?line=14'>15</a>\u001b[0m \u001b[39m    Args:\u001b[39;00m\n\u001b[0;32m   (...)\u001b[0m\n\u001b[1;32m     <a href='file:///mnt/mnemo5/sum02dean/miniconda3/envs/mlg-env/lib/python3.9/site-packages/torch/nn/modules/linear.py?line=29'>30</a>\u001b[0m \n\u001b[1;32m     <a href='file:///mnt/mnemo5/sum02dean/miniconda3/envs/mlg-env/lib/python3.9/site-packages/torch/nn/modules/linear.py?line=30'>31</a>\u001b[0m \u001b[39m    \"\"\"\u001b[39;00m\n",
      "File \u001b[0;32m~/miniconda3/envs/mlg-env/lib/python3.9/site-packages/torch/nn/modules/lazy.py:2\u001b[0m, in \u001b[0;36m<module>\u001b[0;34m\u001b[0m\n\u001b[1;32m      <a href='file:///mnt/mnemo5/sum02dean/miniconda3/envs/mlg-env/lib/python3.9/site-packages/torch/nn/modules/lazy.py?line=0'>1</a>\u001b[0m \u001b[39mimport\u001b[39;00m \u001b[39mitertools\u001b[39;00m\n\u001b[0;32m----> <a href='file:///mnt/mnemo5/sum02dean/miniconda3/envs/mlg-env/lib/python3.9/site-packages/torch/nn/modules/lazy.py?line=1'>2</a>\u001b[0m \u001b[39mfrom\u001b[39;00m \u001b[39mtyping_extensions\u001b[39;00m \u001b[39mimport\u001b[39;00m Protocol\n\u001b[1;32m      <a href='file:///mnt/mnemo5/sum02dean/miniconda3/envs/mlg-env/lib/python3.9/site-packages/torch/nn/modules/lazy.py?line=2'>3</a>\u001b[0m \u001b[39mimport\u001b[39;00m \u001b[39mwarnings\u001b[39;00m\n\u001b[1;32m      <a href='file:///mnt/mnemo5/sum02dean/miniconda3/envs/mlg-env/lib/python3.9/site-packages/torch/nn/modules/lazy.py?line=4'>5</a>\u001b[0m \u001b[39mimport\u001b[39;00m \u001b[39mtorch\u001b[39;00m\n",
      "\u001b[0;31mModuleNotFoundError\u001b[0m: No module named 'typing_extensions'"
     ]
    }
   ],
   "source": [
    "import sys\n",
    "v\n",
    "import os\n",
    "import numpy as np\n",
    "from sklearn.ensemble import RandomForestRegressor\n",
    "from utils.data_loader import *\n",
    "from utils.dataset import *\n"
   ]
  },
  {
   "cell_type": "code",
   "execution_count": 6,
   "metadata": {},
   "outputs": [],
   "source": [
    "param_dist = {\n",
    "    \"max_depth\": [3, None],\n",
    "    \"bootstrap\": [True, False],\n",
    "    \"criterion\": [\"gini\", \"entropy\"]\n",
    "}\n",
    "clf = RandomForestRegressor(n_estimators=10)\n",
    "\n"
   ]
  },
  {
   "cell_type": "code",
   "execution_count": 9,
   "metadata": {},
   "outputs": [
    {
     "ename": "NameError",
     "evalue": "name 'example_train_valid_split' is not defined",
     "output_type": "error",
     "traceback": [
      "\u001b[0;31m---------------------------------------------------------------------------\u001b[0m",
      "\u001b[0;31mNameError\u001b[0m                                 Traceback (most recent call last)",
      "\u001b[1;32m/mnt/mnemo5/sum02dean/sl_projects/MLG/task_1/notebooks/rf.ipynb Cell 3'\u001b[0m in \u001b[0;36m<cell line: 1>\u001b[0;34m()\u001b[0m\n\u001b[0;32m----> <a href='vscode-notebook-cell://ssh-remote%2Blphobos/mnt/mnemo5/sum02dean/sl_projects/MLG/task_1/notebooks/rf.ipynb#ch0000002vscode-remote?line=0'>1</a>\u001b[0m example_train_valid_split()\n",
      "\u001b[0;31mNameError\u001b[0m: name 'example_train_valid_split' is not defined"
     ]
    }
   ],
   "source": [
    "x = example_train_valid_split()\n"
   ]
  },
  {
   "cell_type": "code",
   "execution_count": null,
   "metadata": {},
   "outputs": [],
   "source": []
  }
 ],
 "metadata": {
  "interpreter": {
   "hash": "a4d334e1af4bd99775683ed7c815ada95bcfe6d25eefaf9df666d86c05c3a33a"
  },
  "kernelspec": {
   "display_name": "Python 3.9.7 ('mlg-env')",
   "language": "python",
   "name": "python3"
  },
  "language_info": {
   "codemirror_mode": {
    "name": "ipython",
    "version": 3
   },
   "file_extension": ".py",
   "mimetype": "text/x-python",
   "name": "python",
   "nbconvert_exporter": "python",
   "pygments_lexer": "ipython3",
   "version": "3.9.7"
  },
  "orig_nbformat": 4
 },
 "nbformat": 4,
 "nbformat_minor": 2
}
