{
 "cells": [
  {
   "cell_type": "code",
   "execution_count": null,
   "metadata": {},
   "outputs": [],
   "source": []
  },
  {
   "cell_type": "code",
   "execution_count": 1,
   "id": "5b03a48d",
   "metadata": {},
   "outputs": [
    {
     "name": "stdout",
     "output_type": "stream",
     "text": [
      "/mnt/mnemo5/tao/MLG/task_1/utils\n"
     ]
    }
   ],
   "source": [
    "%cd  /mnt/mnemo5/tao/MLG/task_1/utils\n"
   ]
  },
  {
   "cell_type": "code",
   "execution_count": null,
   "id": "0e6937b4",
   "metadata": {},
   "outputs": [],
   "source": []
  },
  {
   "cell_type": "markdown",
   "id": "60dfe65c",
   "metadata": {},
   "source": [
    "#  use DeepHistone"
   ]
  },
  {
   "cell_type": "code",
   "execution_count": 2,
   "id": "52f75ba2-66c1-4d80-a37d-ee2c09e09f63",
   "metadata": {},
   "outputs": [
    {
     "name": "stderr",
     "output_type": "stream",
     "text": [
      "/mnt/mnemo5/tao/anaconda3/envs/py309_MLG/lib/python3.9/site-packages/tqdm/auto.py:22: TqdmWarning: IProgress not found. Please update jupyter and ipywidgets. See https://ipywidgets.readthedocs.io/en/stable/user_install.html\n",
      "  from .autonotebook import tqdm as notebook_tqdm\n"
     ]
    }
   ],
   "source": [
    "import numpy as np\n",
    "import torch\n",
    "from sklearn.ensemble import RandomForestRegressor\n",
    "from sklearn.model_selection import GridSearchCV\n",
    "import scipy\n",
    "from scipy import stats\n",
    "from tqdm import tqdm\n",
    "import copy\n",
    "import time\n",
    "import logging"
   ]
  },
  {
   "cell_type": "code",
   "execution_count": 3,
   "id": "e462b2d8",
   "metadata": {},
   "outputs": [],
   "source": [
    "%reload_ext autoreload\n",
    "%autoreload 2\n",
    "\n",
    "\n",
    "from data_loader import *\n",
    "from dataset import HistoneDataset_returngenenames\n",
    "from histone_loader import*\n",
    "from stratification import *\n",
    "\n",
    "\n",
    "from modified_DeepHistone_model import DeepHistone\n",
    "from modified_DeepHistone_utils import model_train,model_eval,model_predict\n",
    "from modified_DeepHistone_utils import get_reshaped_data\n",
    "from modified_DeepHistone_utils import get_dict_from_data\n",
    "from modified_DeepHistone_utils import save_model"
   ]
  },
  {
   "cell_type": "code",
   "execution_count": 4,
   "id": "3f42cf66",
   "metadata": {},
   "outputs": [],
   "source": [
    "\n",
    "model_save_folder=\"../data/DeepHistone/\""
   ]
  },
  {
   "cell_type": "code",
   "execution_count": 5,
   "id": "54a4c8fc",
   "metadata": {},
   "outputs": [
    {
     "ename": "ValueError",
     "evalue": "Unrecognised argument(s): file",
     "output_type": "error",
     "traceback": [
      "\u001b[0;31m---------------------------------------------------------------------------\u001b[0m",
      "\u001b[0;31mValueError\u001b[0m                                Traceback (most recent call last)",
      "\u001b[1;32m/mnt/mnemo5/tao/MLG/task_1/notebooks/DeepHIstone_tester.ipynb Cell 8'\u001b[0m in \u001b[0;36m<cell line: 2>\u001b[0;34m()\u001b[0m\n\u001b[1;32m      <a href='vscode-notebook-cell://ssh-remote%2Bldeimos/mnt/mnemo5/tao/MLG/task_1/notebooks/DeepHIstone_tester.ipynb#ch0000007vscode-remote?line=0'>1</a>\u001b[0m time_stamp\u001b[39m=\u001b[39mtime\u001b[39m.\u001b[39mstrftime(\u001b[39m\"\u001b[39m\u001b[39m%\u001b[39m\u001b[39mY\u001b[39m\u001b[39m%\u001b[39m\u001b[39mm\u001b[39m\u001b[39m%d\u001b[39;00m\u001b[39m-\u001b[39m\u001b[39m%\u001b[39m\u001b[39mH\u001b[39m\u001b[39m%\u001b[39m\u001b[39mM\u001b[39m\u001b[39m%\u001b[39m\u001b[39mS\u001b[39m\u001b[39m\"\u001b[39m)\n\u001b[0;32m----> <a href='vscode-notebook-cell://ssh-remote%2Bldeimos/mnt/mnemo5/tao/MLG/task_1/notebooks/DeepHIstone_tester.ipynb#ch0000007vscode-remote?line=1'>2</a>\u001b[0m logging\u001b[39m.\u001b[39;49mbasicConfig(level\u001b[39m=\u001b[39;49mlogging\u001b[39m.\u001b[39;49mINFO, file\u001b[39m=\u001b[39;49m\u001b[39mf\u001b[39;49m\u001b[39m\"\u001b[39;49m\u001b[39m{\u001b[39;49;00mmodel_save_folder\u001b[39m}\u001b[39;49;00m\u001b[39mtime\u001b[39;49m\u001b[39m{\u001b[39;49;00mtime_stamp\u001b[39m}\u001b[39;49;00m\u001b[39m.log\u001b[39;49m\u001b[39m\"\u001b[39;49m)\n",
      "File \u001b[0;32m~/anaconda3/envs/py309_MLG/lib/python3.9/logging/__init__.py:2025\u001b[0m, in \u001b[0;36mbasicConfig\u001b[0;34m(**kwargs)\u001b[0m\n\u001b[1;32m   <a href='file:///mnt/mnemo5/tao/anaconda3/envs/py309_MLG/lib/python3.9/logging/__init__.py?line=2022'>2023</a>\u001b[0m         \u001b[39mif\u001b[39;00m kwargs:\n\u001b[1;32m   <a href='file:///mnt/mnemo5/tao/anaconda3/envs/py309_MLG/lib/python3.9/logging/__init__.py?line=2023'>2024</a>\u001b[0m             keys \u001b[39m=\u001b[39m \u001b[39m'\u001b[39m\u001b[39m, \u001b[39m\u001b[39m'\u001b[39m\u001b[39m.\u001b[39mjoin(kwargs\u001b[39m.\u001b[39mkeys())\n\u001b[0;32m-> <a href='file:///mnt/mnemo5/tao/anaconda3/envs/py309_MLG/lib/python3.9/logging/__init__.py?line=2024'>2025</a>\u001b[0m             \u001b[39mraise\u001b[39;00m \u001b[39mValueError\u001b[39;00m(\u001b[39m'\u001b[39m\u001b[39mUnrecognised argument(s): \u001b[39m\u001b[39m%s\u001b[39;00m\u001b[39m'\u001b[39m \u001b[39m%\u001b[39m keys)\n\u001b[1;32m   <a href='file:///mnt/mnemo5/tao/anaconda3/envs/py309_MLG/lib/python3.9/logging/__init__.py?line=2025'>2026</a>\u001b[0m \u001b[39mfinally\u001b[39;00m:\n\u001b[1;32m   <a href='file:///mnt/mnemo5/tao/anaconda3/envs/py309_MLG/lib/python3.9/logging/__init__.py?line=2026'>2027</a>\u001b[0m     _releaseLock()\n",
      "\u001b[0;31mValueError\u001b[0m: Unrecognised argument(s): file"
     ]
    }
   ],
   "source": [
    "time_stamp=time.strftime(\"%Y%m%d-%H%M%S\")\n",
    "logging.basicConfig(level=logging.INFO, file=f\"{model_save_folder}time{time_stamp}.log\")"
   ]
  },
  {
   "cell_type": "code",
   "execution_count": 6,
   "id": "d85e4fb6",
   "metadata": {},
   "outputs": [
    {
     "name": "stdout",
     "output_type": "stream",
     "text": [
      "[1, 3, 4, 6, 7, 8, 9, 10, 11, 12, 13, 14, 15, 16, 17, 18, 19, 21, 22] [5, 20] [2]\n"
     ]
    },
    {
     "data": {
      "text/html": [
       "<div>\n",
       "<style scoped>\n",
       "    .dataframe tbody tr th:only-of-type {\n",
       "        vertical-align: middle;\n",
       "    }\n",
       "\n",
       "    .dataframe tbody tr th {\n",
       "        vertical-align: top;\n",
       "    }\n",
       "\n",
       "    .dataframe thead th {\n",
       "        text-align: right;\n",
       "    }\n",
       "</style>\n",
       "<table border=\"1\" class=\"dataframe\">\n",
       "  <thead>\n",
       "    <tr style=\"text-align: right;\">\n",
       "      <th></th>\n",
       "      <th>gene_name</th>\n",
       "      <th>chr</th>\n",
       "      <th>gene_start</th>\n",
       "      <th>gene_end</th>\n",
       "      <th>TSS_start</th>\n",
       "      <th>TSS_end</th>\n",
       "      <th>strand</th>\n",
       "      <th>gex</th>\n",
       "      <th>cell_line</th>\n",
       "    </tr>\n",
       "  </thead>\n",
       "  <tbody>\n",
       "    <tr>\n",
       "      <th>0</th>\n",
       "      <td>SLC20A1</td>\n",
       "      <td>2</td>\n",
       "      <td>112645939</td>\n",
       "      <td>112663825</td>\n",
       "      <td>112658362</td>\n",
       "      <td>112658412</td>\n",
       "      <td>+</td>\n",
       "      <td>0.000000</td>\n",
       "      <td>1</td>\n",
       "    </tr>\n",
       "    <tr>\n",
       "      <th>1</th>\n",
       "      <td>C11orf58</td>\n",
       "      <td>11</td>\n",
       "      <td>16613132</td>\n",
       "      <td>16758340</td>\n",
       "      <td>16738643</td>\n",
       "      <td>16738693</td>\n",
       "      <td>+</td>\n",
       "      <td>2239.103328</td>\n",
       "      <td>1</td>\n",
       "    </tr>\n",
       "    <tr>\n",
       "      <th>2</th>\n",
       "      <td>ZSCAN9</td>\n",
       "      <td>6</td>\n",
       "      <td>28224886</td>\n",
       "      <td>28233487</td>\n",
       "      <td>28225263</td>\n",
       "      <td>28225313</td>\n",
       "      <td>+</td>\n",
       "      <td>19.798064</td>\n",
       "      <td>1</td>\n",
       "    </tr>\n",
       "  </tbody>\n",
       "</table>\n",
       "</div>"
      ],
      "text/plain": [
       "  gene_name  chr  gene_start   gene_end  TSS_start    TSS_end strand  \\\n",
       "0   SLC20A1    2   112645939  112663825  112658362  112658412      +   \n",
       "1  C11orf58   11    16613132   16758340   16738643   16738693      +   \n",
       "2    ZSCAN9    6    28224886   28233487   28225263   28225313      +   \n",
       "\n",
       "           gex  cell_line  \n",
       "0     0.000000          1  \n",
       "1  2239.103328          1  \n",
       "2    19.798064          1  "
      ]
     },
     "execution_count": 6,
     "metadata": {},
     "output_type": "execute_result"
    }
   ],
   "source": [
    "valid_chr=[5,20]\n",
    "test_chr=[2]\n",
    "train_chr=[i for i in range(1,23) if (i not in valid_chr+test_chr)]\n",
    "print(train_chr,valid_chr,test_chr)\n",
    "\n",
    "all_genes = load_train_genes()\n",
    "all_genes.head(n=3)"
   ]
  },
  {
   "cell_type": "code",
   "execution_count": 7,
   "id": "a048858f",
   "metadata": {},
   "outputs": [
    {
     "name": "stdout",
     "output_type": "stream",
     "text": [
      "(5000, 9) (2748, 9) (2406, 9)\n"
     ]
    }
   ],
   "source": [
    "# Get genes\n",
    "train_genes=filter_genes_by_chr(all_genes,train_chr)\n",
    "valid_genes=filter_genes_by_chr(all_genes,valid_chr)\n",
    "test_genes=filter_genes_by_chr(all_genes,test_chr)\n",
    "\n",
    "train_genes=train_genes.iloc[0:5000,:] # for testing reason\n",
    "\n",
    "n_genes_train, _ = np.shape(train_genes)\n",
    "n_genes_valid, _ = np.shape(valid_genes)\n",
    "n_genes_test, _ = np.shape(test_genes)\n",
    "print(train_genes.shape,valid_genes.shape,test_genes.shape)\n",
    "\n"
   ]
  },
  {
   "cell_type": "code",
   "execution_count": null,
   "id": "a983a3cb",
   "metadata": {},
   "outputs": [],
   "source": [
    "\n"
   ]
  },
  {
   "cell_type": "code",
   "execution_count": null,
   "id": "8bef1dd3",
   "metadata": {},
   "outputs": [],
   "source": [
    "# # Get genes\n",
    "# total_train_genes, test_genes = chromosome_splits(test_size=0.01)\n",
    "# n_total_train_genes=total_train_genes.shape[0]\n",
    "# train_genes = total_train_genes.iloc[0:int(0.8*n_total_train_genes),:]\n",
    "# valid_genes = total_train_genes.iloc[int(0.8*n_total_train_genes):,:]\n",
    "\n",
    "# n_genes_train, _ = np.shape(train_genes)\n",
    "# n_genes_valid, _ = np.shape(valid_genes)\n",
    "# n_genes_test, _ = np.shape(test_genes)\n",
    "# print(train_genes.shape,valid_genes.shape,test_genes.shape)\n",
    "\n"
   ]
  },
  {
   "cell_type": "code",
   "execution_count": null,
   "id": "a240631a",
   "metadata": {},
   "outputs": [],
   "source": []
  },
  {
   "cell_type": "code",
   "execution_count": null,
   "id": "fee885f9",
   "metadata": {},
   "outputs": [],
   "source": []
  },
  {
   "cell_type": "code",
   "execution_count": 8,
   "id": "499a890d",
   "metadata": {},
   "outputs": [
    {
     "name": "stdout",
     "output_type": "stream",
     "text": [
      "1000 1000\n"
     ]
    }
   ],
   "source": [
    "left_flank_size = 500#1000\n",
    "right_flank_size = 500#1000\n",
    "seq_bin_size=left_flank_size+right_flank_size\n",
    "histone_bin_size = 1 #100 ,20 ,5\n",
    "\n",
    "seq_bins=seq_bin_size\n",
    "assert seq_bin_size % histone_bin_size==0\n",
    "histone_bins=int(seq_bin_size/histone_bin_size)\n",
    "print(seq_bins,histone_bins)"
   ]
  },
  {
   "cell_type": "code",
   "execution_count": null,
   "id": "bfb7c35e",
   "metadata": {},
   "outputs": [],
   "source": []
  },
  {
   "cell_type": "code",
   "execution_count": 9,
   "id": "4e0d144c",
   "metadata": {},
   "outputs": [
    {
     "name": "stdout",
     "output_type": "stream",
     "text": [
      "Generating pkl file with histone data...\n"
     ]
    },
    {
     "name": "stderr",
     "output_type": "stream",
     "text": [
      "  0%|          | 27/34552 [00:06<2:22:09,  4.05it/s]"
     ]
    }
   ],
   "source": [
    "# Load train data\n",
    "train_dataloader = torch.utils.data.DataLoader(\n",
    "    HistoneDataset_returngenenames(train_genes,left_flank_size=left_flank_size,right_flank_size=right_flank_size,bin_size=histone_bin_size,use_seq=True), \n",
    "    shuffle=False, batch_size=n_genes_train)\n",
    "\n",
    "# Load valid data\n",
    "valid_dataloader = torch.utils.data.DataLoader(\n",
    "    HistoneDataset_returngenenames(valid_genes,left_flank_size=left_flank_size,right_flank_size=right_flank_size,bin_size=histone_bin_size,use_seq=True), \n",
    "    shuffle=False, batch_size=n_genes_valid)\n",
    "\n",
    "# Load test data\n",
    "test_dataloader = torch.utils.data.DataLoader(\n",
    "    HistoneDataset_returngenenames(test_genes,left_flank_size=left_flank_size,right_flank_size=right_flank_size,bin_size=histone_bin_size,use_seq=True), \n",
    "    shuffle=False, batch_size=n_genes_valid)"
   ]
  },
  {
   "cell_type": "code",
   "execution_count": null,
   "id": "41621853",
   "metadata": {},
   "outputs": [],
   "source": [
    "# Run train loader\n",
    "x_train_histone,x_train_seq,y_train,train_index=get_reshaped_data(dataloader=train_dataloader)\n",
    "\n",
    "# Run valid loader\n",
    "x_valid_histone,x_valid_seq,y_valid,valid_index=get_reshaped_data(dataloader=valid_dataloader)\n",
    "\n",
    "# Run test loader\n",
    "x_test_histone,x_test_seq,y_test,test_index=get_reshaped_data(dataloader=test_dataloader)\n",
    "\n"
   ]
  },
  {
   "cell_type": "code",
   "execution_count": null,
   "id": "d13db7d8",
   "metadata": {},
   "outputs": [
    {
     "name": "stdout",
     "output_type": "stream",
     "text": [
      "27414 2748 2406\n"
     ]
    }
   ],
   "source": [
    "print(len(train_index),len(valid_index),len(test_index))\n"
   ]
  },
  {
   "cell_type": "code",
   "execution_count": null,
   "id": "9f659313",
   "metadata": {},
   "outputs": [],
   "source": []
  },
  {
   "cell_type": "code",
   "execution_count": null,
   "id": "23b54bea",
   "metadata": {},
   "outputs": [],
   "source": [
    "dna_dict= get_dict_from_data(train_index,valid_index,test_index,\n",
    "                             x_train_seq,x_valid_seq,x_test_seq)\n",
    "\n",
    "histone_dict= get_dict_from_data(train_index,valid_index,test_index,\n",
    "                             x_train_histone,x_valid_histone,x_test_histone)\n",
    "gex_dict = get_dict_from_data(train_index,valid_index,test_index,\n",
    "                             y_train,y_valid,y_test)"
   ]
  },
  {
   "cell_type": "code",
   "execution_count": null,
   "id": "4f2d85c7",
   "metadata": {},
   "outputs": [],
   "source": []
  },
  {
   "cell_type": "code",
   "execution_count": null,
   "id": "d514033e",
   "metadata": {},
   "outputs": [
    {
     "name": "stdout",
     "output_type": "stream",
     "text": [
      "torch.Size([1, 4, 1000]) torch.Size([1, 7, 50]) torch.Size([1, 1])\n"
     ]
    }
   ],
   "source": [
    "print(dna_dict['1_FERMT2'].shape,histone_dict['1_FERMT2'].shape,gex_dict['1_FERMT2'].shape)"
   ]
  },
  {
   "cell_type": "code",
   "execution_count": null,
   "id": "22ea69f6",
   "metadata": {},
   "outputs": [],
   "source": []
  },
  {
   "cell_type": "code",
   "execution_count": null,
   "id": "9c26aa7a",
   "metadata": {},
   "outputs": [],
   "source": []
  },
  {
   "cell_type": "code",
   "execution_count": null,
   "id": "a296bf6f",
   "metadata": {},
   "outputs": [
    {
     "name": "stdout",
     "output_type": "stream",
     "text": [
      "Begin training model...\n",
      "DeepHistone(Dense,Dense) is used.\n"
     ]
    },
    {
     "name": "stderr",
     "output_type": "stream",
     "text": [
      "  0%|          | 0/1 [00:00<?, ?it/s]"
     ]
    },
    {
     "name": "stdout",
     "output_type": "stream",
     "text": [
      "batch_idx: 0\n",
      "batch_idx: 1000\n",
      "batch_idx: 2000\n",
      "batch_idx: 3000\n",
      "batch_idx: 4000\n",
      "batch_idx: 5000\n",
      "batch_idx: 6000\n",
      "batch_idx: 7000\n",
      "batch_idx: 8000\n",
      "batch_idx: 9000\n",
      "batch_idx: 10000\n",
      "batch_idx: 11000\n",
      "batch_idx: 12000\n",
      "batch_idx: 13000\n",
      "batch_idx: 14000\n",
      "batch_idx: 15000\n",
      "batch_idx: 16000\n",
      "batch_idx: 17000\n",
      "batch_idx: 18000\n",
      "batch_idx: 19000\n",
      "batch_idx: 20000\n",
      "batch_idx: 21000\n",
      "batch_idx: 22000\n",
      "batch_idx: 23000\n",
      "batch_idx: 24000\n",
      "batch_idx: 25000\n",
      "batch_idx: 26000\n",
      "batch_idx: 27000\n"
     ]
    },
    {
     "name": "stderr",
     "output_type": "stream",
     "text": [
      "100%|██████████| 1/1 [10:06<00:00, 606.33s/it]"
     ]
    },
    {
     "name": "stdout",
     "output_type": "stream",
     "text": [
      "epoch:0 valid_loss:306251.375 valid_spearmanr:0.6894542846410352\n",
      "early_stop_time:0\n"
     ]
    },
    {
     "name": "stderr",
     "output_type": "stream",
     "text": [
      "\n"
     ]
    }
   ],
   "source": [
    "\n",
    "\n",
    "use_gpu = torch.cuda.is_available()\n",
    "\n",
    "\n",
    "batchsize=50#10000 # 20, 30\n",
    "epochs=1 #50\n",
    "\n",
    "print('Begin training model...')\n",
    "model = DeepHistone(use_gpu,bin_list=[seq_bins,histone_bins])\n",
    "best_model = copy.deepcopy(model)\n",
    "best_valid_spearmanr=0\n",
    "best_valid_loss = float('Inf')\n",
    "\n",
    "\n",
    "\n",
    "for epoch in tqdm(range(epochs)):\n",
    "\tnp.random.shuffle(train_index)\n",
    "\ttrain_loss= model_train(train_index,model,batchsize,dna_dict,histone_dict,gex_dict,)\n",
    "\tvalid_loss,valid_gex,valid_pred= model_eval(valid_index, model,batchsize,dna_dict,histone_dict,gex_dict,)\n",
    "\tvalid_spearmanr= scipy.stats.spearmanr(valid_pred , valid_gex ).correlation\n",
    "\tprint(f\"epoch:{epoch} valid_loss:{valid_loss} valid_spearmanr:{valid_spearmanr}\")\n",
    "\tif valid_spearmanr >best_valid_spearmanr:\n",
    "\t\tbest_model = copy.deepcopy(model)\n",
    "\n",
    "\tif valid_loss < best_valid_loss: \n",
    "\t\tearly_stop_time = 0\n",
    "\t\tbest_valid_loss = valid_loss\t\n",
    "\telse:\n",
    "\t\tmodel.updateLR(0.1)\n",
    "\t\tearly_stop_time += 1\n",
    "\t\tif early_stop_time >= 5: break\n",
    "\n",
    "\tprint(f\"early_stop_time:{early_stop_time}\")\n",
    " \n"
   ]
  },
  {
   "cell_type": "code",
   "execution_count": null,
   "id": "774faeec",
   "metadata": {},
   "outputs": [
    {
     "name": "stdout",
     "output_type": "stream",
     "text": [
      "Spearman Correlation Score: 0.7127891842974753\n"
     ]
    }
   ],
   "source": [
    "('Begin predicting...')\n",
    "test_gex,test_pred = model_predict(test_index,best_model,batchsize,dna_dict,histone_dict,gex_dict,)\t\n",
    "test_score = scipy.stats.spearmanr(test_pred , test_gex ).correlation\n",
    "\n",
    "print('Spearman Correlation Score: {}'.format(test_score))"
   ]
  },
  {
   "cell_type": "code",
   "execution_count": null,
   "id": "22e954f1",
   "metadata": {},
   "outputs": [
    {
     "name": "stdout",
     "output_type": "stream",
     "text": [
      "Spearman Correlation Score: 0.7127891842974753\n"
     ]
    }
   ],
   "source": [
    "('Begin predicting...')\n",
    "test_gex,test_pred = model_predict(test_index,model,batchsize,dna_dict,histone_dict,gex_dict,)\t\n",
    "test_score = scipy.stats.spearmanr(test_pred , test_gex ).correlation\n",
    "\n",
    "print('Spearman Correlation Score: {}'.format(test_score))"
   ]
  },
  {
   "cell_type": "code",
   "execution_count": null,
   "id": "468301ac",
   "metadata": {},
   "outputs": [],
   "source": []
  },
  {
   "cell_type": "code",
   "execution_count": null,
   "id": "c22c8469",
   "metadata": {},
   "outputs": [],
   "source": []
  },
  {
   "cell_type": "code",
   "execution_count": null,
   "id": "d54e493a",
   "metadata": {},
   "outputs": [],
   "source": []
  },
  {
   "cell_type": "code",
   "execution_count": null,
   "id": "30f31090",
   "metadata": {},
   "outputs": [
    {
     "name": "stdout",
     "output_type": "stream",
     "text": [
      "Begin saving...\n",
      "Finished.\n"
     ]
    }
   ],
   "source": [
    "\n",
    "print('Begin saving...')\n",
    "np.savetxt(f\"{model_save_folder}label.txt\", valid_gex, fmt='%d', delimiter='\\t')\n",
    "np.savetxt(f\"{model_save_folder}pred.txt\", valid_pred, fmt='%.4f', delimiter='\\t')\n",
    "save_model(model=best_model,epoch=epoch,seq_bins=seq_bins,histone_bins=histone_bins,\n",
    "            model_save_folder=model_save_folder,prefix=\"\",suffix=\"best\")\n",
    "save_model(model=best_model,epoch=epoch,seq_bins=seq_bins,histone_bins=histone_bins,\n",
    "            model_save_folder=model_save_folder,prefix=\"\",suffix=\"final\")\n",
    "\n",
    "print('Finished.')\n"
   ]
  },
  {
   "cell_type": "code",
   "execution_count": null,
   "id": "94c1a387",
   "metadata": {},
   "outputs": [
    {
     "name": "stdout",
     "output_type": "stream",
     "text": [
      "<bound method Module.parameters of NetDeepHistone(\n",
      "  (dns_map): ModuleDense(\n",
      "    (conv1): Sequential(\n",
      "      (0): Conv2d(1, 128, kernel_size=(7, 9), stride=(1, 1), padding=(0, 4))\n",
      "    )\n",
      "    (block1): DenseBlock(\n",
      "      (layer): Sequential(\n",
      "        (0): BasicBlock(\n",
      "          (block): Sequential(\n",
      "            (0): BatchNorm2d(128, eps=1e-05, momentum=0.1, affine=True, track_running_stats=True)\n",
      "            (1): ReLU()\n",
      "            (2): Conv2d(128, 128, kernel_size=(1, 9), stride=(1, 1), padding=(0, 4))\n",
      "          )\n",
      "        )\n",
      "        (1): BasicBlock(\n",
      "          (block): Sequential(\n",
      "            (0): BatchNorm2d(256, eps=1e-05, momentum=0.1, affine=True, track_running_stats=True)\n",
      "            (1): ReLU()\n",
      "            (2): Conv2d(256, 128, kernel_size=(1, 9), stride=(1, 1), padding=(0, 4))\n",
      "          )\n",
      "        )\n",
      "        (2): BasicBlock(\n",
      "          (block): Sequential(\n",
      "            (0): BatchNorm2d(384, eps=1e-05, momentum=0.1, affine=True, track_running_stats=True)\n",
      "            (1): ReLU()\n",
      "            (2): Conv2d(384, 128, kernel_size=(1, 9), stride=(1, 1), padding=(0, 4))\n",
      "          )\n",
      "        )\n",
      "      )\n",
      "    )\n",
      "    (trans1): Sequential(\n",
      "      (0): BatchNorm2d(512, eps=1e-05, momentum=0.1, affine=True, track_running_stats=True)\n",
      "      (1): ReLU()\n",
      "      (2): Conv2d(512, 256, kernel_size=(1, 1), stride=(1, 1))\n",
      "      (3): MaxPool2d(kernel_size=(1, 4), stride=(1, 4), padding=0, dilation=1, ceil_mode=False)\n",
      "    )\n",
      "    (block2): DenseBlock(\n",
      "      (layer): Sequential(\n",
      "        (0): BasicBlock(\n",
      "          (block): Sequential(\n",
      "            (0): BatchNorm2d(256, eps=1e-05, momentum=0.1, affine=True, track_running_stats=True)\n",
      "            (1): ReLU()\n",
      "            (2): Conv2d(256, 256, kernel_size=(1, 9), stride=(1, 1), padding=(0, 4))\n",
      "          )\n",
      "        )\n",
      "        (1): BasicBlock(\n",
      "          (block): Sequential(\n",
      "            (0): BatchNorm2d(512, eps=1e-05, momentum=0.1, affine=True, track_running_stats=True)\n",
      "            (1): ReLU()\n",
      "            (2): Conv2d(512, 256, kernel_size=(1, 9), stride=(1, 1), padding=(0, 4))\n",
      "          )\n",
      "        )\n",
      "        (2): BasicBlock(\n",
      "          (block): Sequential(\n",
      "            (0): BatchNorm2d(768, eps=1e-05, momentum=0.1, affine=True, track_running_stats=True)\n",
      "            (1): ReLU()\n",
      "            (2): Conv2d(768, 256, kernel_size=(1, 9), stride=(1, 1), padding=(0, 4))\n",
      "          )\n",
      "        )\n",
      "      )\n",
      "    )\n",
      "    (trans2): Sequential(\n",
      "      (0): BatchNorm2d(1024, eps=1e-05, momentum=0.1, affine=True, track_running_stats=True)\n",
      "      (1): ReLU()\n",
      "      (2): Conv2d(1024, 512, kernel_size=(1, 1), stride=(1, 1))\n",
      "      (3): MaxPool2d(kernel_size=(1, 4), stride=(1, 4), padding=0, dilation=1, ceil_mode=False)\n",
      "    )\n",
      "  )\n",
      "  (linear_map): Sequential(\n",
      "    (0): Dropout(p=0.5, inplace=False)\n",
      "    (1): Linear(in_features=512, out_features=925, bias=True)\n",
      "    (2): BatchNorm1d(925, eps=1e-05, momentum=0.1, affine=True, track_running_stats=True)\n",
      "    (3): ReLU()\n",
      "    (4): Linear(in_features=925, out_features=1, bias=True)\n",
      "  )\n",
      ")>\n"
     ]
    }
   ],
   "source": [
    "print(model.forward_fn.parameters)"
   ]
  },
  {
   "cell_type": "code",
   "execution_count": null,
   "id": "e6780133",
   "metadata": {},
   "outputs": [],
   "source": []
  }
 ],
 "metadata": {
  "interpreter": {
   "hash": "11ff37c28d4f6fe1b94899dc6ccf4d7433e89e2e19d270febc0e861592db34d3"
  },
  "kernelspec": {
   "display_name": "Python 3.9.7 ('py309_MLG')",
   "language": "python",
   "name": "python3"
  },
  "language_info": {
   "codemirror_mode": {
    "name": "ipython",
    "version": 3
   },
   "file_extension": ".py",
   "mimetype": "text/x-python",
   "name": "python",
   "nbconvert_exporter": "python",
   "pygments_lexer": "ipython3",
   "version": "3.9.7"
  },
  "orig_nbformat": 4
 },
 "nbformat": 4,
 "nbformat_minor": 2
}
