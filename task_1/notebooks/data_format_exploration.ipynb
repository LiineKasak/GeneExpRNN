{
 "cells": [
  {
   "cell_type": "code",
   "execution_count": 131,
   "id": "f734860f-c58e-4200-bad7-e9d826ac2fe2",
   "metadata": {},
   "outputs": [],
   "source": [
    "# load libraries and functions"
   ]
  },
  {
   "cell_type": "code",
   "execution_count": 155,
   "id": "52f75ba2-66c1-4d80-a37d-ee2c09e09f63",
   "metadata": {},
   "outputs": [],
   "source": [
    "import pandas as pd\n",
    "import numpy as np\n",
    "import os\n",
    "import matplotlib.pyplot as plt"
   ]
  },
  {
   "cell_type": "code",
   "execution_count": 156,
   "id": "750d805c-2d73-4b93-9bda-dfd63435d9a2",
   "metadata": {},
   "outputs": [],
   "source": [
    "%reload_ext autoreload\n",
    "%autoreload 2\n",
    "\n",
    "from utils/data_folder import \n",
    "#sys.path.append('/mnt/mnemo5/tao/code/MNF/src/tao_utilities/')"
   ]
  },
  {
   "cell_type": "code",
   "execution_count": 171,
   "id": "e317522c-265e-4ff4-b4ae-5489b4ac2280",
   "metadata": {},
   "outputs": [],
   "source": [
    "data_folder=\"/mnt/mnemo5/tao/MLG/task_1/data\"\n",
    "CAGE_train_folder=data_folder+\"/CAGE-train\"\n",
    "\n",
    "data_small_folder=\"/mnt/mnemo5/tao/MLG/task_1/data_small\""
   ]
  },
  {
   "cell_type": "code",
   "execution_count": null,
   "id": "cdf1d57b-34a4-400d-9144-2f3542b0f228",
   "metadata": {},
   "outputs": [],
   "source": [
    "# first need to uncompress all files \n",
    "#(base) tao@deimos:~/MLG/data$ find -name '*.zip' -exec sh -c 'unzip -d \"${1%.*}\" \"$1\"' _ {} \\;\n",
    "# https://stackoverflow.com/questions/2374772/unzip-all-files-in-a-directory\n",
    "\n"
   ]
  },
  {
   "cell_type": "code",
   "execution_count": 133,
   "id": "1e38de6d-78b6-4954-ae23-d45f0cfe1155",
   "metadata": {},
   "outputs": [
    {
     "name": "stdout",
     "output_type": "stream",
     "text": [
      "(1984, 2)\n"
     ]
    },
    {
     "data": {
      "text/html": [
       "<div>\n",
       "<style scoped>\n",
       "    .dataframe tbody tr th:only-of-type {\n",
       "        vertical-align: middle;\n",
       "    }\n",
       "\n",
       "    .dataframe tbody tr th {\n",
       "        vertical-align: top;\n",
       "    }\n",
       "\n",
       "    .dataframe thead th {\n",
       "        text-align: right;\n",
       "    }\n",
       "</style>\n",
       "<table border=\"1\" class=\"dataframe\">\n",
       "  <thead>\n",
       "    <tr style=\"text-align: right;\">\n",
       "      <th></th>\n",
       "      <th>gene_name</th>\n",
       "      <th>gex_predicted</th>\n",
       "    </tr>\n",
       "  </thead>\n",
       "  <tbody>\n",
       "    <tr>\n",
       "      <th>0</th>\n",
       "      <td>CAPN9</td>\n",
       "      <td>0.180352</td>\n",
       "    </tr>\n",
       "    <tr>\n",
       "      <th>1</th>\n",
       "      <td>ILF2</td>\n",
       "      <td>0.786083</td>\n",
       "    </tr>\n",
       "    <tr>\n",
       "      <th>2</th>\n",
       "      <td>ST6GALNAC5</td>\n",
       "      <td>0.267447</td>\n",
       "    </tr>\n",
       "  </tbody>\n",
       "</table>\n",
       "</div>"
      ],
      "text/plain": [
       "    gene_name  gex_predicted\n",
       "0       CAPN9       0.180352\n",
       "1        ILF2       0.786083\n",
       "2  ST6GALNAC5       0.267447"
      ]
     },
     "execution_count": 133,
     "metadata": {},
     "output_type": "execute_result"
    }
   ],
   "source": [
    "# check sample files , this seems is the correct format of final input \n",
    "# can be ignored for now \n",
    "\n",
    "gex_predicted_samples=pd.read_csv(os.path.join(data_folder,\"sample/gex_predicted.csv\"),\n",
    "                                 header=0,index_col=0,sep=\",\")\n",
    "print(gex_predicted_samples.shape)\n",
    "gex_predicted_samples.head(n=3)\n"
   ]
  },
  {
   "cell_type": "code",
   "execution_count": null,
   "id": "671b9946-991c-400a-910c-77d55383dca4",
   "metadata": {},
   "outputs": [],
   "source": []
  },
  {
   "cell_type": "markdown",
   "id": "0c3f5380-9142-4d78-9ab9-e945f3d430b1",
   "metadata": {},
   "source": [
    "# check CAGE train  data. not feature data "
   ]
  },
  {
   "cell_type": "code",
   "execution_count": 135,
   "id": "870b3d06-5258-4092-a0cb-5b6802d136b5",
   "metadata": {},
   "outputs": [
    {
     "name": "stdout",
     "output_type": "stream",
     "text": [
      "(14310, 6)\n"
     ]
    },
    {
     "data": {
      "text/html": [
       "<div>\n",
       "<style scoped>\n",
       "    .dataframe tbody tr th:only-of-type {\n",
       "        vertical-align: middle;\n",
       "    }\n",
       "\n",
       "    .dataframe tbody tr th {\n",
       "        vertical-align: top;\n",
       "    }\n",
       "\n",
       "    .dataframe thead th {\n",
       "        text-align: right;\n",
       "    }\n",
       "</style>\n",
       "<table border=\"1\" class=\"dataframe\">\n",
       "  <thead>\n",
       "    <tr style=\"text-align: right;\">\n",
       "      <th></th>\n",
       "      <th>chr</th>\n",
       "      <th>gene_start</th>\n",
       "      <th>gene_end</th>\n",
       "      <th>TSS_start</th>\n",
       "      <th>TSS_end</th>\n",
       "      <th>strand</th>\n",
       "    </tr>\n",
       "    <tr>\n",
       "      <th>gene_name</th>\n",
       "      <th></th>\n",
       "      <th></th>\n",
       "      <th></th>\n",
       "      <th></th>\n",
       "      <th></th>\n",
       "      <th></th>\n",
       "    </tr>\n",
       "  </thead>\n",
       "  <tbody>\n",
       "    <tr>\n",
       "      <th>SLC20A1</th>\n",
       "      <td>chr2</td>\n",
       "      <td>112645939</td>\n",
       "      <td>112663825</td>\n",
       "      <td>112658362</td>\n",
       "      <td>112658412</td>\n",
       "      <td>+</td>\n",
       "    </tr>\n",
       "    <tr>\n",
       "      <th>C11orf58</th>\n",
       "      <td>chr11</td>\n",
       "      <td>16613132</td>\n",
       "      <td>16758340</td>\n",
       "      <td>16738643</td>\n",
       "      <td>16738693</td>\n",
       "      <td>+</td>\n",
       "    </tr>\n",
       "    <tr>\n",
       "      <th>ZSCAN9</th>\n",
       "      <td>chr6</td>\n",
       "      <td>28224886</td>\n",
       "      <td>28233487</td>\n",
       "      <td>28225263</td>\n",
       "      <td>28225313</td>\n",
       "      <td>+</td>\n",
       "    </tr>\n",
       "    <tr>\n",
       "      <th>CD19</th>\n",
       "      <td>chr16</td>\n",
       "      <td>28931965</td>\n",
       "      <td>28939342</td>\n",
       "      <td>28931956</td>\n",
       "      <td>28932006</td>\n",
       "      <td>+</td>\n",
       "    </tr>\n",
       "    <tr>\n",
       "      <th>TMEM123</th>\n",
       "      <td>chr11</td>\n",
       "      <td>102396332</td>\n",
       "      <td>102470384</td>\n",
       "      <td>102452789</td>\n",
       "      <td>102452839</td>\n",
       "      <td>-</td>\n",
       "    </tr>\n",
       "    <tr>\n",
       "      <th>POMC</th>\n",
       "      <td>chr2</td>\n",
       "      <td>25160853</td>\n",
       "      <td>25168903</td>\n",
       "      <td>25168640</td>\n",
       "      <td>25168690</td>\n",
       "      <td>-</td>\n",
       "    </tr>\n",
       "  </tbody>\n",
       "</table>\n",
       "</div>"
      ],
      "text/plain": [
       "             chr  gene_start   gene_end  TSS_start    TSS_end strand\n",
       "gene_name                                                           \n",
       "SLC20A1     chr2   112645939  112663825  112658362  112658412      +\n",
       "C11orf58   chr11    16613132   16758340   16738643   16738693      +\n",
       "ZSCAN9      chr6    28224886   28233487   28225263   28225313      +\n",
       "CD19       chr16    28931965   28939342   28931956   28932006      +\n",
       "TMEM123    chr11   102396332  102470384  102452789  102452839      -\n",
       "POMC        chr2    25160853   25168903   25168640   25168690      -"
      ]
     },
     "execution_count": 135,
     "metadata": {},
     "output_type": "execute_result"
    }
   ],
   "source": [
    " \n",
    "# X1 , X2 data were splited to train and validation data \n",
    "# X3 data were use as testing data\n",
    "\n",
    "# notice here info files is not feature data. its infomation of output expression data \n",
    "X1_train_info=pd.read_csv(os.path.join(data_folder,\"CAGE-train/X1_train_info.tsv\"),\n",
    "                                 header=0,index_col=0,sep=\"\\t\")\n",
    "print(X1_train_info.shape)\n",
    "X1_train_info.head(n=6)"
   ]
  },
  {
   "cell_type": "code",
   "execution_count": 136,
   "id": "ce5a9504-aff1-4c15-8553-4c605ebb571b",
   "metadata": {},
   "outputs": [
    {
     "name": "stdout",
     "output_type": "stream",
     "text": [
      "14310\n",
      "{'chr6', 'chr3', 'chr17', 'chr9', 'chr12', 'chr2', 'chr7', 'chr8', 'chr16', 'chr15', 'chr11', 'chr22', 'chr20', 'chr4', 'chr5', 'chr21', 'chr18', 'chr13', 'chr10'}\n"
     ]
    }
   ],
   "source": [
    "print(len(set(X1_train_info.index)))\n",
    "\n",
    "print(set(X1_train_info[\"chr\"]))"
   ]
  },
  {
   "cell_type": "code",
   "execution_count": 139,
   "id": "ac3f9326-56cc-475c-b028-40d74addd8b7",
   "metadata": {},
   "outputs": [
    {
     "name": "stdout",
     "output_type": "stream",
     "text": [
      "(14310, 1)\n"
     ]
    },
    {
     "data": {
      "text/html": [
       "<div>\n",
       "<style scoped>\n",
       "    .dataframe tbody tr th:only-of-type {\n",
       "        vertical-align: middle;\n",
       "    }\n",
       "\n",
       "    .dataframe tbody tr th {\n",
       "        vertical-align: top;\n",
       "    }\n",
       "\n",
       "    .dataframe thead th {\n",
       "        text-align: right;\n",
       "    }\n",
       "</style>\n",
       "<table border=\"1\" class=\"dataframe\">\n",
       "  <thead>\n",
       "    <tr style=\"text-align: right;\">\n",
       "      <th></th>\n",
       "      <th>gex</th>\n",
       "    </tr>\n",
       "    <tr>\n",
       "      <th>gene_name</th>\n",
       "      <th></th>\n",
       "    </tr>\n",
       "  </thead>\n",
       "  <tbody>\n",
       "    <tr>\n",
       "      <th>SLC20A1</th>\n",
       "      <td>0.000000</td>\n",
       "    </tr>\n",
       "    <tr>\n",
       "      <th>C11orf58</th>\n",
       "      <td>2239.103328</td>\n",
       "    </tr>\n",
       "    <tr>\n",
       "      <th>ZSCAN9</th>\n",
       "      <td>19.798064</td>\n",
       "    </tr>\n",
       "  </tbody>\n",
       "</table>\n",
       "</div>"
      ],
      "text/plain": [
       "                   gex\n",
       "gene_name             \n",
       "SLC20A1       0.000000\n",
       "C11orf58   2239.103328\n",
       "ZSCAN9       19.798064"
      ]
     },
     "execution_count": 139,
     "metadata": {},
     "output_type": "execute_result"
    }
   ],
   "source": [
    "X1_train_y=pd.read_csv(os.path.join(data_folder,\"CAGE-train/X1_train_y.tsv\"),\n",
    "                                 header=0,index_col=0,sep=\"\\t\")\n",
    "print(X1_train_y.shape)\n",
    "X1_train_y.head(n=3)"
   ]
  },
  {
   "cell_type": "markdown",
   "id": "e2aee75d-f433-4db2-9181-14f4fed74eb0",
   "metadata": {},
   "source": [
    "## create expression GCT file for IGV\n"
   ]
  },
  {
   "cell_type": "code",
   "execution_count": 169,
   "id": "d2cbd65a-ce07-498c-aece-378ffd080004",
   "metadata": {},
   "outputs": [],
   "source": [
    "def created_gct_file(data_folder: str, annotation_file: str, exps_file: str ) -> pd.DataFrame :\n",
    "    \n",
    "    \"\"\"\n",
    "    create gct files from gene expression data and annotation file \n",
    "\n",
    "    :param data_folder: folder to CAGE-train folder \n",
    "    :param annotation_file: file name of annotation data. Contain gene position in genome \n",
    "    :param exps_file:  file name of expression value data \n",
    "    \n",
    "    :return: gct file as pd.DataFrame\n",
    "    \n",
    "    \n",
    "    usuage example:\n",
    "    X1_train_GCT_frame=created_gct_files(data_folder=CAGE_train_folder,\n",
    "                                    annotation_label=\"X1_train_info.tsv\",\n",
    "                                    exps_label=\"X1_train_y.tsv\")\n",
    "    \n",
    "    \"\"\"\n",
    "    \n",
    "    \n",
    "    info=pd.read_csv(os.path.join(data_folder,annotation_file),\n",
    "                                 header=0,index_col=0,sep=\"\\t\")\n",
    "    y=pd.read_csv(os.path.join(data_folder,exps_file),\n",
    "                                 header=0,index_col=0,sep=\"\\t\")\n",
    "    \n",
    "    GCT_list=list()\n",
    "    for index in info.index: \n",
    "        GCT_list.append([index,\n",
    "                         \" na |@\"+info.loc[index,\"chr\"]+\":\"+str(info.loc[index,\"gene_start\"])+\"-\"+str(info.loc[index,\"gene_end\"])+\"|\",\n",
    "                         y.loc[index,\"gex\"]])\n",
    "    GCT_frame=pd.DataFrame(GCT_list,columns=[\"name\",\"Description\",\"sample 1\"])\n",
    "\n",
    "    return(GCT_frame)"
   ]
  },
  {
   "cell_type": "code",
   "execution_count": 170,
   "id": "c987b8e8-dc18-4f25-925f-db526dcaae0d",
   "metadata": {},
   "outputs": [
    {
     "name": "stdout",
     "output_type": "stream",
     "text": [
      "(14310, 3)\n"
     ]
    },
    {
     "data": {
      "text/html": [
       "<div>\n",
       "<style scoped>\n",
       "    .dataframe tbody tr th:only-of-type {\n",
       "        vertical-align: middle;\n",
       "    }\n",
       "\n",
       "    .dataframe tbody tr th {\n",
       "        vertical-align: top;\n",
       "    }\n",
       "\n",
       "    .dataframe thead th {\n",
       "        text-align: right;\n",
       "    }\n",
       "</style>\n",
       "<table border=\"1\" class=\"dataframe\">\n",
       "  <thead>\n",
       "    <tr style=\"text-align: right;\">\n",
       "      <th></th>\n",
       "      <th>name</th>\n",
       "      <th>Description</th>\n",
       "      <th>sample 1</th>\n",
       "    </tr>\n",
       "  </thead>\n",
       "  <tbody>\n",
       "    <tr>\n",
       "      <th>0</th>\n",
       "      <td>SLC20A1</td>\n",
       "      <td>na |@chr2:112645939-112663825|</td>\n",
       "      <td>0.000000</td>\n",
       "    </tr>\n",
       "    <tr>\n",
       "      <th>1</th>\n",
       "      <td>C11orf58</td>\n",
       "      <td>na |@chr11:16613132-16758340|</td>\n",
       "      <td>2239.103328</td>\n",
       "    </tr>\n",
       "    <tr>\n",
       "      <th>2</th>\n",
       "      <td>ZSCAN9</td>\n",
       "      <td>na |@chr6:28224886-28233487|</td>\n",
       "      <td>19.798064</td>\n",
       "    </tr>\n",
       "  </tbody>\n",
       "</table>\n",
       "</div>"
      ],
      "text/plain": [
       "       name                      Description     sample 1\n",
       "0   SLC20A1   na |@chr2:112645939-112663825|     0.000000\n",
       "1  C11orf58    na |@chr11:16613132-16758340|  2239.103328\n",
       "2    ZSCAN9     na |@chr6:28224886-28233487|    19.798064"
      ]
     },
     "execution_count": 170,
     "metadata": {},
     "output_type": "execute_result"
    }
   ],
   "source": [
    "X1_train_GCT_frame=created_gct_file(data_folder=CAGE_train_folder,\n",
    "                                    annotation_file=\"X1_train_info.tsv\",\n",
    "                                    exps_file=\"X1_train_y.tsv\")\n",
    "\n",
    "print(X1_train_GCT_frame.shape)\n",
    "X1_train_GCT_frame.head(n=3)\n",
    "\n"
   ]
  },
  {
   "cell_type": "code",
   "execution_count": 173,
   "id": "caaf8c3d-3429-4b21-8e23-200678297e17",
   "metadata": {},
   "outputs": [],
   "source": [
    "X1_train_GCT_frame.to_csv(data_small_folder+\"/X1_train.gct\",header=True,index=None,sep=\"\\t\")"
   ]
  },
  {
   "cell_type": "code",
   "execution_count": null,
   "id": "9f05f6c4-7311-4d6e-bb76-e25fc9d314bf",
   "metadata": {},
   "outputs": [],
   "source": []
  },
  {
   "cell_type": "code",
   "execution_count": null,
   "id": "ccced9c8-48d4-45bf-a334-0aa6fd23b567",
   "metadata": {},
   "outputs": [],
   "source": []
  },
  {
   "cell_type": "code",
   "execution_count": null,
   "id": "14051d9b-76ed-4811-beee-f31ccbc95176",
   "metadata": {},
   "outputs": [],
   "source": []
  },
  {
   "cell_type": "code",
   "execution_count": 141,
   "id": "d6988a44-4781-45d6-ac94-676985c6a2a3",
   "metadata": {},
   "outputs": [
    {
     "name": "stdout",
     "output_type": "stream",
     "text": [
      "(1974, 6)\n"
     ]
    },
    {
     "data": {
      "text/html": [
       "<div>\n",
       "<style scoped>\n",
       "    .dataframe tbody tr th:only-of-type {\n",
       "        vertical-align: middle;\n",
       "    }\n",
       "\n",
       "    .dataframe tbody tr th {\n",
       "        vertical-align: top;\n",
       "    }\n",
       "\n",
       "    .dataframe thead th {\n",
       "        text-align: right;\n",
       "    }\n",
       "</style>\n",
       "<table border=\"1\" class=\"dataframe\">\n",
       "  <thead>\n",
       "    <tr style=\"text-align: right;\">\n",
       "      <th></th>\n",
       "      <th>chr</th>\n",
       "      <th>gene_start</th>\n",
       "      <th>gene_end</th>\n",
       "      <th>TSS_start</th>\n",
       "      <th>TSS_end</th>\n",
       "      <th>strand</th>\n",
       "    </tr>\n",
       "    <tr>\n",
       "      <th>gene_name</th>\n",
       "      <th></th>\n",
       "      <th></th>\n",
       "      <th></th>\n",
       "      <th></th>\n",
       "      <th></th>\n",
       "      <th></th>\n",
       "    </tr>\n",
       "  </thead>\n",
       "  <tbody>\n",
       "    <tr>\n",
       "      <th>ECH1</th>\n",
       "      <td>chr19</td>\n",
       "      <td>38815422</td>\n",
       "      <td>38831841</td>\n",
       "      <td>38816220</td>\n",
       "      <td>38816270</td>\n",
       "      <td>-</td>\n",
       "    </tr>\n",
       "    <tr>\n",
       "      <th>CAMSAP3</th>\n",
       "      <td>chr19</td>\n",
       "      <td>7595863</td>\n",
       "      <td>7618304</td>\n",
       "      <td>7595901</td>\n",
       "      <td>7595951</td>\n",
       "      <td>+</td>\n",
       "    </tr>\n",
       "    <tr>\n",
       "      <th>MISP</th>\n",
       "      <td>chr19</td>\n",
       "      <td>751112</td>\n",
       "      <td>764318</td>\n",
       "      <td>758062</td>\n",
       "      <td>758112</td>\n",
       "      <td>+</td>\n",
       "    </tr>\n",
       "  </tbody>\n",
       "</table>\n",
       "</div>"
      ],
      "text/plain": [
       "             chr  gene_start  gene_end  TSS_start   TSS_end strand\n",
       "gene_name                                                         \n",
       "ECH1       chr19    38815422  38831841   38816220  38816270      -\n",
       "CAMSAP3    chr19     7595863   7618304    7595901   7595951      +\n",
       "MISP       chr19      751112    764318     758062    758112      +"
      ]
     },
     "execution_count": 141,
     "metadata": {},
     "output_type": "execute_result"
    }
   ],
   "source": [
    "X1_val_info=pd.read_csv(os.path.join(data_folder,\"CAGE-train/X1_val_info.tsv\"),\n",
    "                                 header=0,index_col=0,sep=\"\\t\")\n",
    "print(X1_val_info.shape)\n",
    "X1_val_info.head(n=3)"
   ]
  },
  {
   "cell_type": "markdown",
   "id": "a1dca7ed-b25b-43dd-bc7d-4096e7b99b99",
   "metadata": {},
   "source": [
    "##  check TSS, gene storat and end position"
   ]
  },
  {
   "cell_type": "code",
   "execution_count": 142,
   "id": "178f26df-d85a-4c58-af99-63cee17cb76f",
   "metadata": {},
   "outputs": [
    {
     "data": {
      "image/png": "[encoded data removed]",
      "text/plain": [
       "<Figure size 640x480 with 1 Axes>"
      ]
     },
     "metadata": {},
     "output_type": "display_data"
    },
    {
     "data": {
      "image/png": "[encoded data removed]",
      "text/plain": [
       "<Figure size 640x480 with 1 Axes>"
      ]
     },
     "metadata": {},
     "output_type": "display_data"
    },
    {
     "data": {
      "image/png": "[encoded data removed]",
      "text/plain": [
       "<Figure size 640x480 with 1 Axes>"
      ]
     },
     "metadata": {},
     "output_type": "display_data"
    },
    {
     "data": {
      "image/png": "[encoded data removed]",
      "text/plain": [
       "<Figure size 640x480 with 1 Axes>"
      ]
     },
     "metadata": {},
     "output_type": "display_data"
    },
    {
     "data": {
      "image/png": "[encoded data removed]",
      "text/plain": [
       "<Figure size 640x480 with 1 Axes>"
      ]
     },
     "metadata": {},
     "output_type": "display_data"
    },
    {
     "data": {
      "image/png": "[encoded data removed]",
      "text/plain": [
       "<Figure size 640x480 with 1 Axes>"
      ]
     },
     "metadata": {},
     "output_type": "display_data"
    }
   ],
   "source": [
    "fake_range=1000\n",
    "for sel_idx in range(6):\n",
    "    plt.figure()\n",
    "    coordinate=pd.DataFrame([(X1_val_info.loc[:,\"gene_start\"][sel_idx],sel_idx,\"gene_start\"),\n",
    "                (X1_val_info.loc[:,\"gene_end\"][sel_idx],sel_idx,\"gene_end\"),\n",
    "                (X1_val_info.loc[:,\"TSS_start\"][sel_idx],sel_idx,\"TSS_start\"),\n",
    "                (X1_val_info.loc[:,\"TSS_end\"][sel_idx],sel_idx,\"TSS_end\"),\n",
    "               ])\n",
    "    plt.scatter(coordinate.iloc[:,0], coordinate.iloc[:,1])\n",
    "\n",
    "    for i, txt in enumerate( coordinate.iloc[:,2]):\n",
    "        plt.annotate(txt, (coordinate.iloc[i,0], coordinate.iloc[i,1]),\n",
    "                    #fontsize=10,\n",
    "                      alpha=0.5,\n",
    "                     rotation=45,\n",
    "                     size=10\n",
    "                    )\n",
    "    plt.title(X1_val_info.index[sel_idx]+\" : \"+X1_val_info.loc[:,\"strand\"][sel_idx])\n",
    "\n",
    "    plt.show()"
   ]
  },
  {
   "cell_type": "code",
   "execution_count": 143,
   "id": "b1797e52-a69f-4cf8-857c-2754fd309d15",
   "metadata": {},
   "outputs": [
    {
     "data": {
      "text/html": [
       "<div>\n",
       "<style scoped>\n",
       "    .dataframe tbody tr th:only-of-type {\n",
       "        vertical-align: middle;\n",
       "    }\n",
       "\n",
       "    .dataframe tbody tr th {\n",
       "        vertical-align: top;\n",
       "    }\n",
       "\n",
       "    .dataframe thead th {\n",
       "        text-align: right;\n",
       "    }\n",
       "</style>\n",
       "<table border=\"1\" class=\"dataframe\">\n",
       "  <thead>\n",
       "    <tr style=\"text-align: right;\">\n",
       "      <th></th>\n",
       "      <th>0</th>\n",
       "      <th>1</th>\n",
       "      <th>2</th>\n",
       "    </tr>\n",
       "  </thead>\n",
       "  <tbody>\n",
       "    <tr>\n",
       "      <th>0</th>\n",
       "      <td>54509812</td>\n",
       "      <td>5</td>\n",
       "      <td>gene_start</td>\n",
       "    </tr>\n",
       "    <tr>\n",
       "      <th>1</th>\n",
       "      <td>54539292</td>\n",
       "      <td>5</td>\n",
       "      <td>gene_end</td>\n",
       "    </tr>\n",
       "    <tr>\n",
       "      <th>2</th>\n",
       "      <td>54509905</td>\n",
       "      <td>5</td>\n",
       "      <td>TSS_start</td>\n",
       "    </tr>\n",
       "    <tr>\n",
       "      <th>3</th>\n",
       "      <td>54509955</td>\n",
       "      <td>5</td>\n",
       "      <td>TSS_end</td>\n",
       "    </tr>\n",
       "  </tbody>\n",
       "</table>\n",
       "</div>"
      ],
      "text/plain": [
       "          0  1           2\n",
       "0  54509812  5  gene_start\n",
       "1  54539292  5    gene_end\n",
       "2  54509905  5   TSS_start\n",
       "3  54509955  5     TSS_end"
      ]
     },
     "execution_count": 143,
     "metadata": {},
     "output_type": "execute_result"
    }
   ],
   "source": [
    "coordinate"
   ]
  },
  {
   "cell_type": "code",
   "execution_count": 144,
   "id": "4e57b653-0ad7-49db-a02b-ddfd592dbcbb",
   "metadata": {},
   "outputs": [
    {
     "name": "stdout",
     "output_type": "stream",
     "text": [
      "(1974, 1)\n"
     ]
    },
    {
     "data": {
      "text/html": [
       "<div>\n",
       "<style scoped>\n",
       "    .dataframe tbody tr th:only-of-type {\n",
       "        vertical-align: middle;\n",
       "    }\n",
       "\n",
       "    .dataframe tbody tr th {\n",
       "        vertical-align: top;\n",
       "    }\n",
       "\n",
       "    .dataframe thead th {\n",
       "        text-align: right;\n",
       "    }\n",
       "</style>\n",
       "<table border=\"1\" class=\"dataframe\">\n",
       "  <thead>\n",
       "    <tr style=\"text-align: right;\">\n",
       "      <th></th>\n",
       "      <th>gex</th>\n",
       "    </tr>\n",
       "    <tr>\n",
       "      <th>gene_name</th>\n",
       "      <th></th>\n",
       "    </tr>\n",
       "  </thead>\n",
       "  <tbody>\n",
       "    <tr>\n",
       "      <th>ECH1</th>\n",
       "      <td>0.0</td>\n",
       "    </tr>\n",
       "    <tr>\n",
       "      <th>CAMSAP3</th>\n",
       "      <td>0.0</td>\n",
       "    </tr>\n",
       "    <tr>\n",
       "      <th>MISP</th>\n",
       "      <td>0.0</td>\n",
       "    </tr>\n",
       "  </tbody>\n",
       "</table>\n",
       "</div>"
      ],
      "text/plain": [
       "           gex\n",
       "gene_name     \n",
       "ECH1       0.0\n",
       "CAMSAP3    0.0\n",
       "MISP       0.0"
      ]
     },
     "execution_count": 144,
     "metadata": {},
     "output_type": "execute_result"
    }
   ],
   "source": [
    "X1_val_y=pd.read_csv(os.path.join(data_folder,\"CAGE-train/X1_val_y.tsv\"),\n",
    "                                 header=0,index_col=0,sep=\"\\t\")\n",
    "print(X1_val_y.shape)\n",
    "X1_val_y.head(n=3)"
   ]
  },
  {
   "cell_type": "code",
   "execution_count": null,
   "id": "c56053c9-db22-403f-8e7a-4049eb3ee375",
   "metadata": {},
   "outputs": [],
   "source": []
  },
  {
   "cell_type": "code",
   "execution_count": 145,
   "id": "58966ac6-9762-455f-8b1d-d43e006e8eed",
   "metadata": {},
   "outputs": [
    {
     "name": "stdout",
     "output_type": "stream",
     "text": [
      "(14310, 6)\n"
     ]
    },
    {
     "data": {
      "text/html": [
       "<div>\n",
       "<style scoped>\n",
       "    .dataframe tbody tr th:only-of-type {\n",
       "        vertical-align: middle;\n",
       "    }\n",
       "\n",
       "    .dataframe tbody tr th {\n",
       "        vertical-align: top;\n",
       "    }\n",
       "\n",
       "    .dataframe thead th {\n",
       "        text-align: right;\n",
       "    }\n",
       "</style>\n",
       "<table border=\"1\" class=\"dataframe\">\n",
       "  <thead>\n",
       "    <tr style=\"text-align: right;\">\n",
       "      <th></th>\n",
       "      <th>chr</th>\n",
       "      <th>gene_start</th>\n",
       "      <th>gene_end</th>\n",
       "      <th>TSS_start</th>\n",
       "      <th>TSS_end</th>\n",
       "      <th>strand</th>\n",
       "    </tr>\n",
       "    <tr>\n",
       "      <th>gene_name</th>\n",
       "      <th></th>\n",
       "      <th></th>\n",
       "      <th></th>\n",
       "      <th></th>\n",
       "      <th></th>\n",
       "      <th></th>\n",
       "    </tr>\n",
       "  </thead>\n",
       "  <tbody>\n",
       "    <tr>\n",
       "      <th>SLC20A1</th>\n",
       "      <td>chr2</td>\n",
       "      <td>112645939</td>\n",
       "      <td>112663825</td>\n",
       "      <td>112658362</td>\n",
       "      <td>112658412</td>\n",
       "      <td>+</td>\n",
       "    </tr>\n",
       "    <tr>\n",
       "      <th>C11orf58</th>\n",
       "      <td>chr11</td>\n",
       "      <td>16613132</td>\n",
       "      <td>16758340</td>\n",
       "      <td>16738643</td>\n",
       "      <td>16738693</td>\n",
       "      <td>+</td>\n",
       "    </tr>\n",
       "    <tr>\n",
       "      <th>ZSCAN9</th>\n",
       "      <td>chr6</td>\n",
       "      <td>28224886</td>\n",
       "      <td>28233487</td>\n",
       "      <td>28225263</td>\n",
       "      <td>28225313</td>\n",
       "      <td>+</td>\n",
       "    </tr>\n",
       "  </tbody>\n",
       "</table>\n",
       "</div>"
      ],
      "text/plain": [
       "             chr  gene_start   gene_end  TSS_start    TSS_end strand\n",
       "gene_name                                                           \n",
       "SLC20A1     chr2   112645939  112663825  112658362  112658412      +\n",
       "C11orf58   chr11    16613132   16758340   16738643   16738693      +\n",
       "ZSCAN9      chr6    28224886   28233487   28225263   28225313      +"
      ]
     },
     "execution_count": 145,
     "metadata": {},
     "output_type": "execute_result"
    }
   ],
   "source": [
    "X2_train_info=pd.read_csv(os.path.join(data_folder,\"CAGE-train/X2_train_info.tsv\"),\n",
    "                                 header=0,index_col=0,sep=\"\\t\")\n",
    "print(X2_train_info.shape)\n",
    "X2_train_info.head(n=3)"
   ]
  },
  {
   "cell_type": "code",
   "execution_count": 146,
   "id": "55e827f7-e71a-469a-8d0e-17a3c4190d61",
   "metadata": {},
   "outputs": [
    {
     "name": "stdout",
     "output_type": "stream",
     "text": [
      "(14310, 1)\n"
     ]
    },
    {
     "data": {
      "text/html": [
       "<div>\n",
       "<style scoped>\n",
       "    .dataframe tbody tr th:only-of-type {\n",
       "        vertical-align: middle;\n",
       "    }\n",
       "\n",
       "    .dataframe tbody tr th {\n",
       "        vertical-align: top;\n",
       "    }\n",
       "\n",
       "    .dataframe thead th {\n",
       "        text-align: right;\n",
       "    }\n",
       "</style>\n",
       "<table border=\"1\" class=\"dataframe\">\n",
       "  <thead>\n",
       "    <tr style=\"text-align: right;\">\n",
       "      <th></th>\n",
       "      <th>gex</th>\n",
       "    </tr>\n",
       "    <tr>\n",
       "      <th>gene_name</th>\n",
       "      <th></th>\n",
       "    </tr>\n",
       "  </thead>\n",
       "  <tbody>\n",
       "    <tr>\n",
       "      <th>SLC20A1</th>\n",
       "      <td>0.00000</td>\n",
       "    </tr>\n",
       "    <tr>\n",
       "      <th>C11orf58</th>\n",
       "      <td>2906.14534</td>\n",
       "    </tr>\n",
       "    <tr>\n",
       "      <th>ZSCAN9</th>\n",
       "      <td>9.41495</td>\n",
       "    </tr>\n",
       "  </tbody>\n",
       "</table>\n",
       "</div>"
      ],
      "text/plain": [
       "                  gex\n",
       "gene_name            \n",
       "SLC20A1       0.00000\n",
       "C11orf58   2906.14534\n",
       "ZSCAN9        9.41495"
      ]
     },
     "execution_count": 146,
     "metadata": {},
     "output_type": "execute_result"
    }
   ],
   "source": [
    "X2_train_y=pd.read_csv(os.path.join(data_folder,\"CAGE-train/X2_train_y.tsv\"),\n",
    "                                 header=0,index_col=0,sep=\"\\t\")\n",
    "print(X2_train_y.shape)\n",
    "X2_train_y.head(n=3)"
   ]
  },
  {
   "cell_type": "code",
   "execution_count": 147,
   "id": "ba7ac15e-6da3-438b-9d09-f734a418b734",
   "metadata": {},
   "outputs": [
    {
     "name": "stdout",
     "output_type": "stream",
     "text": [
      "(1974, 6)\n"
     ]
    },
    {
     "data": {
      "text/html": [
       "<div>\n",
       "<style scoped>\n",
       "    .dataframe tbody tr th:only-of-type {\n",
       "        vertical-align: middle;\n",
       "    }\n",
       "\n",
       "    .dataframe tbody tr th {\n",
       "        vertical-align: top;\n",
       "    }\n",
       "\n",
       "    .dataframe thead th {\n",
       "        text-align: right;\n",
       "    }\n",
       "</style>\n",
       "<table border=\"1\" class=\"dataframe\">\n",
       "  <thead>\n",
       "    <tr style=\"text-align: right;\">\n",
       "      <th></th>\n",
       "      <th>chr</th>\n",
       "      <th>gene_start</th>\n",
       "      <th>gene_end</th>\n",
       "      <th>TSS_start</th>\n",
       "      <th>TSS_end</th>\n",
       "      <th>strand</th>\n",
       "    </tr>\n",
       "    <tr>\n",
       "      <th>gene_name</th>\n",
       "      <th></th>\n",
       "      <th></th>\n",
       "      <th></th>\n",
       "      <th></th>\n",
       "      <th></th>\n",
       "      <th></th>\n",
       "    </tr>\n",
       "  </thead>\n",
       "  <tbody>\n",
       "    <tr>\n",
       "      <th>ECH1</th>\n",
       "      <td>chr19</td>\n",
       "      <td>38815422</td>\n",
       "      <td>38831841</td>\n",
       "      <td>38816220</td>\n",
       "      <td>38816270</td>\n",
       "      <td>-</td>\n",
       "    </tr>\n",
       "    <tr>\n",
       "      <th>CAMSAP3</th>\n",
       "      <td>chr19</td>\n",
       "      <td>7595863</td>\n",
       "      <td>7618304</td>\n",
       "      <td>7595901</td>\n",
       "      <td>7595951</td>\n",
       "      <td>+</td>\n",
       "    </tr>\n",
       "    <tr>\n",
       "      <th>MISP</th>\n",
       "      <td>chr19</td>\n",
       "      <td>751112</td>\n",
       "      <td>764318</td>\n",
       "      <td>758062</td>\n",
       "      <td>758112</td>\n",
       "      <td>+</td>\n",
       "    </tr>\n",
       "  </tbody>\n",
       "</table>\n",
       "</div>"
      ],
      "text/plain": [
       "             chr  gene_start  gene_end  TSS_start   TSS_end strand\n",
       "gene_name                                                         \n",
       "ECH1       chr19    38815422  38831841   38816220  38816270      -\n",
       "CAMSAP3    chr19     7595863   7618304    7595901   7595951      +\n",
       "MISP       chr19      751112    764318     758062    758112      +"
      ]
     },
     "execution_count": 147,
     "metadata": {},
     "output_type": "execute_result"
    }
   ],
   "source": [
    "X2_val_info=pd.read_csv(os.path.join(data_folder,\"CAGE-train/X2_val_info.tsv\"),\n",
    "                                 header=0,index_col=0,sep=\"\\t\")\n",
    "print(X2_val_info.shape)\n",
    "X2_val_info.head(n=3)"
   ]
  },
  {
   "cell_type": "code",
   "execution_count": 149,
   "id": "1b992f37-e450-4f42-b632-e24e9c8d9c98",
   "metadata": {},
   "outputs": [
    {
     "name": "stdout",
     "output_type": "stream",
     "text": [
      "(1974, 1)\n"
     ]
    },
    {
     "data": {
      "text/html": [
       "<div>\n",
       "<style scoped>\n",
       "    .dataframe tbody tr th:only-of-type {\n",
       "        vertical-align: middle;\n",
       "    }\n",
       "\n",
       "    .dataframe tbody tr th {\n",
       "        vertical-align: top;\n",
       "    }\n",
       "\n",
       "    .dataframe thead th {\n",
       "        text-align: right;\n",
       "    }\n",
       "</style>\n",
       "<table border=\"1\" class=\"dataframe\">\n",
       "  <thead>\n",
       "    <tr style=\"text-align: right;\">\n",
       "      <th></th>\n",
       "      <th>gex</th>\n",
       "    </tr>\n",
       "    <tr>\n",
       "      <th>gene_name</th>\n",
       "      <th></th>\n",
       "    </tr>\n",
       "  </thead>\n",
       "  <tbody>\n",
       "    <tr>\n",
       "      <th>ECH1</th>\n",
       "      <td>0.00000</td>\n",
       "    </tr>\n",
       "    <tr>\n",
       "      <th>CAMSAP3</th>\n",
       "      <td>1.05678</td>\n",
       "    </tr>\n",
       "    <tr>\n",
       "      <th>MISP</th>\n",
       "      <td>0.00000</td>\n",
       "    </tr>\n",
       "  </tbody>\n",
       "</table>\n",
       "</div>"
      ],
      "text/plain": [
       "               gex\n",
       "gene_name         \n",
       "ECH1       0.00000\n",
       "CAMSAP3    1.05678\n",
       "MISP       0.00000"
      ]
     },
     "execution_count": 149,
     "metadata": {},
     "output_type": "execute_result"
    }
   ],
   "source": [
    "X2_val_y=pd.read_csv(os.path.join(data_folder,\"CAGE-train/X2_val_y.tsv\"),\n",
    "                                 header=0,index_col=0,sep=\"\\t\")\n",
    "print(X2_val_y.shape)\n",
    "X2_val_y.head(n=3)"
   ]
  },
  {
   "cell_type": "code",
   "execution_count": null,
   "id": "64697e86-e075-4e32-86a2-dd8c901b8375",
   "metadata": {},
   "outputs": [],
   "source": []
  },
  {
   "cell_type": "code",
   "execution_count": 151,
   "id": "8b91b463-7802-4662-a61f-266967357428",
   "metadata": {},
   "outputs": [
    {
     "name": "stdout",
     "output_type": "stream",
     "text": [
      "(1984, 6)\n"
     ]
    },
    {
     "data": {
      "text/html": [
       "<div>\n",
       "<style scoped>\n",
       "    .dataframe tbody tr th:only-of-type {\n",
       "        vertical-align: middle;\n",
       "    }\n",
       "\n",
       "    .dataframe tbody tr th {\n",
       "        vertical-align: top;\n",
       "    }\n",
       "\n",
       "    .dataframe thead th {\n",
       "        text-align: right;\n",
       "    }\n",
       "</style>\n",
       "<table border=\"1\" class=\"dataframe\">\n",
       "  <thead>\n",
       "    <tr style=\"text-align: right;\">\n",
       "      <th></th>\n",
       "      <th>chr</th>\n",
       "      <th>gene_start</th>\n",
       "      <th>gene_end</th>\n",
       "      <th>TSS_start</th>\n",
       "      <th>TSS_end</th>\n",
       "      <th>strand</th>\n",
       "    </tr>\n",
       "    <tr>\n",
       "      <th>gene_name</th>\n",
       "      <th></th>\n",
       "      <th></th>\n",
       "      <th></th>\n",
       "      <th></th>\n",
       "      <th></th>\n",
       "      <th></th>\n",
       "    </tr>\n",
       "  </thead>\n",
       "  <tbody>\n",
       "    <tr>\n",
       "      <th>CAPN9</th>\n",
       "      <td>chr1</td>\n",
       "      <td>230747384</td>\n",
       "      <td>230802003</td>\n",
       "      <td>230791876</td>\n",
       "      <td>230791926</td>\n",
       "      <td>+</td>\n",
       "    </tr>\n",
       "    <tr>\n",
       "      <th>ILF2</th>\n",
       "      <td>chr1</td>\n",
       "      <td>153661788</td>\n",
       "      <td>153671028</td>\n",
       "      <td>153664424</td>\n",
       "      <td>153664474</td>\n",
       "      <td>-</td>\n",
       "    </tr>\n",
       "    <tr>\n",
       "      <th>ST6GALNAC5</th>\n",
       "      <td>chr1</td>\n",
       "      <td>76867480</td>\n",
       "      <td>77067546</td>\n",
       "      <td>76867440</td>\n",
       "      <td>76867490</td>\n",
       "      <td>+</td>\n",
       "    </tr>\n",
       "  </tbody>\n",
       "</table>\n",
       "</div>"
      ],
      "text/plain": [
       "             chr  gene_start   gene_end  TSS_start    TSS_end strand\n",
       "gene_name                                                           \n",
       "CAPN9       chr1   230747384  230802003  230791876  230791926      +\n",
       "ILF2        chr1   153661788  153671028  153664424  153664474      -\n",
       "ST6GALNAC5  chr1    76867480   77067546   76867440   76867490      +"
      ]
     },
     "execution_count": 151,
     "metadata": {},
     "output_type": "execute_result"
    }
   ],
   "source": [
    "X3_test_info=pd.read_csv(os.path.join(data_folder,\"CAGE-train/X3_test_info.tsv\"),\n",
    "                                 header=0,index_col=0,sep=\"\\t\")\n",
    "print(X3_test_info.shape)\n",
    "X3_test_info.head(n=3)"
   ]
  },
  {
   "cell_type": "code",
   "execution_count": null,
   "id": "30d6f7c6-273b-4013-b45b-130d61e7a36b",
   "metadata": {},
   "outputs": [],
   "source": []
  },
  {
   "cell_type": "markdown",
   "id": "8f6f62a2-3a0e-4bc5-a91a-64239b19006f",
   "metadata": {
    "tags": []
   },
   "source": [
    "# DNase-bed data, and bed format description \n",
    "https://genome.ucsc.edu/FAQ/FAQformat.html#format12\n",
    "\n",
    "\n",
    "ENCODE narrowPeak: Narrow (or Point-Source) Peaks format\n",
    "This format is used to provide called peaks of signal enrichment based on pooled, normalized (interpreted) data. It is a BED6+4 format.\n",
    "\n",
    "chrom - Name of the chromosome (or contig, scaffold, etc.).\n",
    "\n",
    "chromStart - The starting position of the feature in the chromosome or scaffold. The first base in a chromosome is numbered 0.\n",
    "\n",
    "chromEnd - The ending position of the feature in the chromosome or scaffold. The chromEnd base is not included in the display of the feature. For example, the first 100 bases of a chromosome are defined as chromStart=0, chromEnd=100, and span the bases numbered 0-99.\n",
    "\n",
    "name - Name given to a region (preferably unique). Use \".\" if no name is assigned.\n",
    "\n",
    "score - Indicates how dark the peak will be displayed in the browser (0-1000). If all scores were \"'0\"' when the data were submitted to the DCC, the DCC assigned scores 1-1000 based on signal value. Ideally the average signalValue per base spread is between 100-1000\n",
    "\n",
    "strand - +/- to denote strand or orientation (whenever applicable). Use \".\" if no orientation is assigned.\n",
    "\n",
    "signalValue - Measurement of overall (usually, average) enrichment for the region.\n",
    "\n",
    "pValue - Measurement of statistical significance (-log10). Use -1 if no pValue is assigned.\n",
    "\n",
    "qValue - Measurement of statistical significance using false discovery rate (-log10). Use -1 if no qValue is assigned.\n",
    "\n",
    "peak - Point-source called for this peak; 0-based offset from chromStart. Use -1 if no point-source called."
   ]
  },
  {
   "cell_type": "code",
   "execution_count": 152,
   "id": "161a1fdc-e390-4220-ae47-4622e5078941",
   "metadata": {},
   "outputs": [
    {
     "name": "stdout",
     "output_type": "stream",
     "text": [
      "(56452, 10)\n"
     ]
    },
    {
     "data": {
      "text/html": [
       "<div>\n",
       "<style scoped>\n",
       "    .dataframe tbody tr th:only-of-type {\n",
       "        vertical-align: middle;\n",
       "    }\n",
       "\n",
       "    .dataframe tbody tr th {\n",
       "        vertical-align: top;\n",
       "    }\n",
       "\n",
       "    .dataframe thead th {\n",
       "        text-align: right;\n",
       "    }\n",
       "</style>\n",
       "<table border=\"1\" class=\"dataframe\">\n",
       "  <thead>\n",
       "    <tr style=\"text-align: right;\">\n",
       "      <th></th>\n",
       "      <th>0</th>\n",
       "      <th>1</th>\n",
       "      <th>2</th>\n",
       "      <th>3</th>\n",
       "      <th>4</th>\n",
       "      <th>5</th>\n",
       "      <th>6</th>\n",
       "      <th>7</th>\n",
       "      <th>8</th>\n",
       "      <th>9</th>\n",
       "    </tr>\n",
       "  </thead>\n",
       "  <tbody>\n",
       "    <tr>\n",
       "      <th>0</th>\n",
       "      <td>chr1</td>\n",
       "      <td>181405</td>\n",
       "      <td>181555</td>\n",
       "      <td>.</td>\n",
       "      <td>0</td>\n",
       "      <td>.</td>\n",
       "      <td>12.379543</td>\n",
       "      <td>-1</td>\n",
       "      <td>-1</td>\n",
       "      <td>75</td>\n",
       "    </tr>\n",
       "    <tr>\n",
       "      <th>1</th>\n",
       "      <td>chr1</td>\n",
       "      <td>267990</td>\n",
       "      <td>268140</td>\n",
       "      <td>.</td>\n",
       "      <td>0</td>\n",
       "      <td>.</td>\n",
       "      <td>12.379543</td>\n",
       "      <td>-1</td>\n",
       "      <td>-1</td>\n",
       "      <td>75</td>\n",
       "    </tr>\n",
       "    <tr>\n",
       "      <th>2</th>\n",
       "      <td>chr1</td>\n",
       "      <td>629160</td>\n",
       "      <td>629310</td>\n",
       "      <td>.</td>\n",
       "      <td>0</td>\n",
       "      <td>.</td>\n",
       "      <td>22.263896</td>\n",
       "      <td>-1</td>\n",
       "      <td>-1</td>\n",
       "      <td>75</td>\n",
       "    </tr>\n",
       "  </tbody>\n",
       "</table>\n",
       "</div>"
      ],
      "text/plain": [
       "      0       1       2  3  4  5          6  7  8   9\n",
       "0  chr1  181405  181555  .  0  .  12.379543 -1 -1  75\n",
       "1  chr1  267990  268140  .  0  .  12.379543 -1 -1  75\n",
       "2  chr1  629160  629310  .  0  .  22.263896 -1 -1  75"
      ]
     },
     "execution_count": 152,
     "metadata": {},
     "output_type": "execute_result"
    }
   ],
   "source": [
    "DNase_bed_X1=pd.read_csv(os.path.join(data_folder,\"DNase-bed/X1.bed\"),\n",
    "                                 header=None,index_col=None,sep=\"\\t\")\n",
    "print(DNase_bed_X1.shape)\n",
    "DNase_bed_X1.head(n=3)"
   ]
  },
  {
   "cell_type": "code",
   "execution_count": null,
   "id": "7da3e9a8-5bfa-41e0-bab8-e6d316d27057",
   "metadata": {},
   "outputs": [],
   "source": []
  },
  {
   "cell_type": "code",
   "execution_count": null,
   "id": "07598bae-e4d7-4032-8dce-e86b158bf027",
   "metadata": {},
   "outputs": [],
   "source": []
  },
  {
   "cell_type": "markdown",
   "id": "6c9eca66-14a9-49ea-8d0e-ef32ea46dcc6",
   "metadata": {
    "tags": []
   },
   "source": [
    "# H3K27ac bed  data\n",
    "\n"
   ]
  },
  {
   "cell_type": "code",
   "execution_count": 153,
   "id": "02f9088c-1fff-4ad6-a360-2769bfb7e024",
   "metadata": {},
   "outputs": [
    {
     "name": "stdout",
     "output_type": "stream",
     "text": [
      "(57887, 10)\n"
     ]
    },
    {
     "data": {
      "text/html": [
       "<div>\n",
       "<style scoped>\n",
       "    .dataframe tbody tr th:only-of-type {\n",
       "        vertical-align: middle;\n",
       "    }\n",
       "\n",
       "    .dataframe tbody tr th {\n",
       "        vertical-align: top;\n",
       "    }\n",
       "\n",
       "    .dataframe thead th {\n",
       "        text-align: right;\n",
       "    }\n",
       "</style>\n",
       "<table border=\"1\" class=\"dataframe\">\n",
       "  <thead>\n",
       "    <tr style=\"text-align: right;\">\n",
       "      <th></th>\n",
       "      <th>0</th>\n",
       "      <th>1</th>\n",
       "      <th>2</th>\n",
       "      <th>3</th>\n",
       "      <th>4</th>\n",
       "      <th>5</th>\n",
       "      <th>6</th>\n",
       "      <th>7</th>\n",
       "      <th>8</th>\n",
       "      <th>9</th>\n",
       "    </tr>\n",
       "  </thead>\n",
       "  <tbody>\n",
       "    <tr>\n",
       "      <th>0</th>\n",
       "      <td>chr10</td>\n",
       "      <td>100000446</td>\n",
       "      <td>100000787</td>\n",
       "      <td>Peak_48796</td>\n",
       "      <td>20</td>\n",
       "      <td>.</td>\n",
       "      <td>4.62061</td>\n",
       "      <td>5.94877</td>\n",
       "      <td>4.02602</td>\n",
       "      <td>179</td>\n",
       "    </tr>\n",
       "    <tr>\n",
       "      <th>1</th>\n",
       "      <td>chr10</td>\n",
       "      <td>100005130</td>\n",
       "      <td>100005409</td>\n",
       "      <td>Peak_35045</td>\n",
       "      <td>28</td>\n",
       "      <td>.</td>\n",
       "      <td>6.22479</td>\n",
       "      <td>8.74197</td>\n",
       "      <td>6.70135</td>\n",
       "      <td>101</td>\n",
       "    </tr>\n",
       "    <tr>\n",
       "      <th>2</th>\n",
       "      <td>chr10</td>\n",
       "      <td>100005554</td>\n",
       "      <td>100009977</td>\n",
       "      <td>Peak_12003</td>\n",
       "      <td>96</td>\n",
       "      <td>.</td>\n",
       "      <td>12.84779</td>\n",
       "      <td>34.12514</td>\n",
       "      <td>31.48892</td>\n",
       "      <td>3918</td>\n",
       "    </tr>\n",
       "    <tr>\n",
       "      <th>3</th>\n",
       "      <td>chr10</td>\n",
       "      <td>100010071</td>\n",
       "      <td>100010666</td>\n",
       "      <td>Peak_13976</td>\n",
       "      <td>82</td>\n",
       "      <td>.</td>\n",
       "      <td>13.23118</td>\n",
       "      <td>28.94403</td>\n",
       "      <td>26.40645</td>\n",
       "      <td>302</td>\n",
       "    </tr>\n",
       "    <tr>\n",
       "      <th>4</th>\n",
       "      <td>chr10</td>\n",
       "      <td>100012807</td>\n",
       "      <td>100015958</td>\n",
       "      <td>Peak_3367</td>\n",
       "      <td>227</td>\n",
       "      <td>.</td>\n",
       "      <td>23.86291</td>\n",
       "      <td>82.44186</td>\n",
       "      <td>79.01792</td>\n",
       "      <td>897</td>\n",
       "    </tr>\n",
       "    <tr>\n",
       "      <th>5</th>\n",
       "      <td>chr10</td>\n",
       "      <td>100016143</td>\n",
       "      <td>100016330</td>\n",
       "      <td>Peak_47258</td>\n",
       "      <td>21</td>\n",
       "      <td>.</td>\n",
       "      <td>4.69033</td>\n",
       "      <td>6.35266</td>\n",
       "      <td>4.41893</td>\n",
       "      <td>129</td>\n",
       "    </tr>\n",
       "  </tbody>\n",
       "</table>\n",
       "</div>"
      ],
      "text/plain": [
       "       0          1          2           3    4  5         6         7  \\\n",
       "0  chr10  100000446  100000787  Peak_48796   20  .   4.62061   5.94877   \n",
       "1  chr10  100005130  100005409  Peak_35045   28  .   6.22479   8.74197   \n",
       "2  chr10  100005554  100009977  Peak_12003   96  .  12.84779  34.12514   \n",
       "3  chr10  100010071  100010666  Peak_13976   82  .  13.23118  28.94403   \n",
       "4  chr10  100012807  100015958   Peak_3367  227  .  23.86291  82.44186   \n",
       "5  chr10  100016143  100016330  Peak_47258   21  .   4.69033   6.35266   \n",
       "\n",
       "          8     9  \n",
       "0   4.02602   179  \n",
       "1   6.70135   101  \n",
       "2  31.48892  3918  \n",
       "3  26.40645   302  \n",
       "4  79.01792   897  \n",
       "5   4.41893   129  "
      ]
     },
     "execution_count": 153,
     "metadata": {},
     "output_type": "execute_result"
    }
   ],
   "source": [
    "H3K27ac_bed_X1=pd.read_csv(os.path.join(data_folder,\"H3K27ac-bed/X1.bed\"),\n",
    "                                 header=None,index_col=None,sep=\"\\t\")\n",
    "print(H3K27ac_bed_X1.shape)\n",
    "H3K27ac_bed_X1.head(n=6)"
   ]
  },
  {
   "cell_type": "markdown",
   "id": "9cf21753-24ea-4517-864d-458db2d44c51",
   "metadata": {},
   "source": [
    "# H3K4me1-bed data"
   ]
  },
  {
   "cell_type": "code",
   "execution_count": 154,
   "id": "acddf9b0-3cdb-4fa8-8b13-176d216ca39f",
   "metadata": {},
   "outputs": [
    {
     "name": "stdout",
     "output_type": "stream",
     "text": [
      "(89812, 10)\n"
     ]
    },
    {
     "data": {
      "text/html": [
       "<div>\n",
       "<style scoped>\n",
       "    .dataframe tbody tr th:only-of-type {\n",
       "        vertical-align: middle;\n",
       "    }\n",
       "\n",
       "    .dataframe tbody tr th {\n",
       "        vertical-align: top;\n",
       "    }\n",
       "\n",
       "    .dataframe thead th {\n",
       "        text-align: right;\n",
       "    }\n",
       "</style>\n",
       "<table border=\"1\" class=\"dataframe\">\n",
       "  <thead>\n",
       "    <tr style=\"text-align: right;\">\n",
       "      <th></th>\n",
       "      <th>0</th>\n",
       "      <th>1</th>\n",
       "      <th>2</th>\n",
       "      <th>3</th>\n",
       "      <th>4</th>\n",
       "      <th>5</th>\n",
       "      <th>6</th>\n",
       "      <th>7</th>\n",
       "      <th>8</th>\n",
       "      <th>9</th>\n",
       "    </tr>\n",
       "  </thead>\n",
       "  <tbody>\n",
       "    <tr>\n",
       "      <th>0</th>\n",
       "      <td>chr10</td>\n",
       "      <td>100000253</td>\n",
       "      <td>100001006</td>\n",
       "      <td>Peak_100923</td>\n",
       "      <td>26</td>\n",
       "      <td>.</td>\n",
       "      <td>2.91756</td>\n",
       "      <td>2.95990</td>\n",
       "      <td>1.12430</td>\n",
       "      <td>46</td>\n",
       "    </tr>\n",
       "    <tr>\n",
       "      <th>1</th>\n",
       "      <td>chr10</td>\n",
       "      <td>100006554</td>\n",
       "      <td>100007001</td>\n",
       "      <td>Peak_58802</td>\n",
       "      <td>59</td>\n",
       "      <td>.</td>\n",
       "      <td>3.97659</td>\n",
       "      <td>4.70508</td>\n",
       "      <td>2.57437</td>\n",
       "      <td>258</td>\n",
       "    </tr>\n",
       "    <tr>\n",
       "      <th>2</th>\n",
       "      <td>chr10</td>\n",
       "      <td>100010185</td>\n",
       "      <td>100010602</td>\n",
       "      <td>Peak_86672</td>\n",
       "      <td>39</td>\n",
       "      <td>.</td>\n",
       "      <td>3.57348</td>\n",
       "      <td>3.62402</td>\n",
       "      <td>1.66553</td>\n",
       "      <td>199</td>\n",
       "    </tr>\n",
       "    <tr>\n",
       "      <th>3</th>\n",
       "      <td>chr10</td>\n",
       "      <td>100013131</td>\n",
       "      <td>100014207</td>\n",
       "      <td>Peak_100579</td>\n",
       "      <td>28</td>\n",
       "      <td>.</td>\n",
       "      <td>2.17946</td>\n",
       "      <td>3.01855</td>\n",
       "      <td>1.18014</td>\n",
       "      <td>759</td>\n",
       "    </tr>\n",
       "    <tr>\n",
       "      <th>4</th>\n",
       "      <td>chr10</td>\n",
       "      <td>100014884</td>\n",
       "      <td>100015960</td>\n",
       "      <td>Peak_6684</td>\n",
       "      <td>218</td>\n",
       "      <td>.</td>\n",
       "      <td>7.98903</td>\n",
       "      <td>13.31145</td>\n",
       "      <td>10.08280</td>\n",
       "      <td>578</td>\n",
       "    </tr>\n",
       "    <tr>\n",
       "      <th>5</th>\n",
       "      <td>chr10</td>\n",
       "      <td>100016083</td>\n",
       "      <td>100016512</td>\n",
       "      <td>Peak_76544</td>\n",
       "      <td>45</td>\n",
       "      <td>.</td>\n",
       "      <td>3.82418</td>\n",
       "      <td>3.96142</td>\n",
       "      <td>1.96002</td>\n",
       "      <td>156</td>\n",
       "    </tr>\n",
       "  </tbody>\n",
       "</table>\n",
       "</div>"
      ],
      "text/plain": [
       "       0          1          2            3    4  5        6         7  \\\n",
       "0  chr10  100000253  100001006  Peak_100923   26  .  2.91756   2.95990   \n",
       "1  chr10  100006554  100007001   Peak_58802   59  .  3.97659   4.70508   \n",
       "2  chr10  100010185  100010602   Peak_86672   39  .  3.57348   3.62402   \n",
       "3  chr10  100013131  100014207  Peak_100579   28  .  2.17946   3.01855   \n",
       "4  chr10  100014884  100015960    Peak_6684  218  .  7.98903  13.31145   \n",
       "5  chr10  100016083  100016512   Peak_76544   45  .  3.82418   3.96142   \n",
       "\n",
       "          8    9  \n",
       "0   1.12430   46  \n",
       "1   2.57437  258  \n",
       "2   1.66553  199  \n",
       "3   1.18014  759  \n",
       "4  10.08280  578  \n",
       "5   1.96002  156  "
      ]
     },
     "execution_count": 154,
     "metadata": {},
     "output_type": "execute_result"
    }
   ],
   "source": [
    "\n",
    "\n",
    "H3K4me1_bed_X1=pd.read_csv(os.path.join(data_folder,\"H3K4me1-bed/X1.bed\"),\n",
    "                                 header=None,index_col=None,sep=\"\\t\")\n",
    "print(H3K4me1_bed_X1.shape)\n",
    "H3K4me1_bed_X1.head(n=6)"
   ]
  },
  {
   "cell_type": "code",
   "execution_count": null,
   "id": "359c734c-7cd6-4f86-b58b-cba09b39c5ab",
   "metadata": {},
   "outputs": [],
   "source": []
  },
  {
   "cell_type": "code",
   "execution_count": null,
   "id": "d368e33c-ac8e-4aaf-a4b0-9deb9d90225b",
   "metadata": {},
   "outputs": [],
   "source": []
  },
  {
   "cell_type": "markdown",
   "id": "2be19a06-d183-4838-a1d7-a7c33bcb449f",
   "metadata": {},
   "source": [
    "# H3K27ac bigwig  data\n",
    "\n",
    "bigwig is binary data  seems used for IGV or UCSC browers \n",
    "\n"
   ]
  },
  {
   "cell_type": "code",
   "execution_count": null,
   "id": "541325f6-5dd5-4d37-83d9-ac1c98a218a8",
   "metadata": {},
   "outputs": [],
   "source": []
  },
  {
   "cell_type": "markdown",
   "id": "0035bce6-e045-4805-b36f-f217502aecf8",
   "metadata": {},
   "source": [
    "# need slide from tutorial get more info , e.g. nomorlization "
   ]
  },
  {
   "cell_type": "code",
   "execution_count": null,
   "id": "d30dee64-b3f2-4103-a0d7-f398217239cf",
   "metadata": {},
   "outputs": [],
   "source": []
  }
 ],
 "metadata": {
  "kernelspec": {
   "display_name": "py37_scikitlearn",
   "language": "python",
   "name": "py37_scikitlearn"
  },
  "language_info": {
   "codemirror_mode": {
    "name": "ipython",
    "version": 3
   },
   "file_extension": ".py",
   "mimetype": "text/x-python",
   "name": "python",
   "nbconvert_exporter": "python",
   "pygments_lexer": "ipython3",
   "version": "3.7.12"
  }
 },
 "nbformat": 4,
 "nbformat_minor": 5
}
