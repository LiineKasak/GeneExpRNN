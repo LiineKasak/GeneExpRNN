{
 "cells": [
  {
   "cell_type": "code",
   "execution_count": 1,
   "id": "7436bc27-4e98-46b4-a7a2-a197ea40dfce",
   "metadata": {},
   "outputs": [
    {
     "name": "stdout",
     "output_type": "stream",
     "text": [
      "/mnt/mnemo5/tao/MLG/task_0\n"
     ]
    }
   ],
   "source": [
    "import pandas as pd\n",
    "import numpy as np\n",
    "from sklearn import linear_model\n",
    "from sklearn.metrics import mean_squared_error\n",
    "from sklearn.model_selection import train_test_split\n",
    "from sklearn.model_selection import GridSearchCV\n",
    "import os \n",
    "\n",
    "print(os.getcwd())"
   ]
  },
  {
   "cell_type": "code",
   "execution_count": 2,
   "id": "d2ed65c9-dae0-4b77-b60e-00db9517cd60",
   "metadata": {},
   "outputs": [
    {
     "name": "stdout",
     "output_type": "stream",
     "text": [
      "(10000, 10) (10000,)\n"
     ]
    },
    {
     "data": {
      "text/html": [
       "<div>\n",
       "<style scoped>\n",
       "    .dataframe tbody tr th:only-of-type {\n",
       "        vertical-align: middle;\n",
       "    }\n",
       "\n",
       "    .dataframe tbody tr th {\n",
       "        vertical-align: top;\n",
       "    }\n",
       "\n",
       "    .dataframe thead th {\n",
       "        text-align: right;\n",
       "    }\n",
       "</style>\n",
       "<table border=\"1\" class=\"dataframe\">\n",
       "  <thead>\n",
       "    <tr style=\"text-align: right;\">\n",
       "      <th></th>\n",
       "      <th>Id</th>\n",
       "      <th>y</th>\n",
       "      <th>x1</th>\n",
       "      <th>x2</th>\n",
       "      <th>x3</th>\n",
       "      <th>x4</th>\n",
       "      <th>x5</th>\n",
       "      <th>x6</th>\n",
       "      <th>x7</th>\n",
       "      <th>x8</th>\n",
       "      <th>x9</th>\n",
       "      <th>x10</th>\n",
       "    </tr>\n",
       "  </thead>\n",
       "  <tbody>\n",
       "    <tr>\n",
       "      <th>0</th>\n",
       "      <td>0</td>\n",
       "      <td>738.023171</td>\n",
       "      <td>1764.052346</td>\n",
       "      <td>400.157208</td>\n",
       "      <td>978.737984</td>\n",
       "      <td>2240.893199</td>\n",
       "      <td>1867.557990</td>\n",
       "      <td>-977.277880</td>\n",
       "      <td>950.088418</td>\n",
       "      <td>-151.357208</td>\n",
       "      <td>-103.218852</td>\n",
       "      <td>410.598502</td>\n",
       "    </tr>\n",
       "    <tr>\n",
       "      <th>1</th>\n",
       "      <td>1</td>\n",
       "      <td>400.646015</td>\n",
       "      <td>144.043571</td>\n",
       "      <td>1454.273507</td>\n",
       "      <td>761.037725</td>\n",
       "      <td>121.675016</td>\n",
       "      <td>443.863233</td>\n",
       "      <td>333.674327</td>\n",
       "      <td>1494.079073</td>\n",
       "      <td>-205.158264</td>\n",
       "      <td>313.067702</td>\n",
       "      <td>-854.095739</td>\n",
       "    </tr>\n",
       "    <tr>\n",
       "      <th>2</th>\n",
       "      <td>2</td>\n",
       "      <td>189.900156</td>\n",
       "      <td>-2552.989816</td>\n",
       "      <td>653.618595</td>\n",
       "      <td>864.436199</td>\n",
       "      <td>-742.165020</td>\n",
       "      <td>2269.754624</td>\n",
       "      <td>-1454.365675</td>\n",
       "      <td>45.758517</td>\n",
       "      <td>-187.183850</td>\n",
       "      <td>1532.779214</td>\n",
       "      <td>1469.358770</td>\n",
       "    </tr>\n",
       "  </tbody>\n",
       "</table>\n",
       "</div>"
      ],
      "text/plain": [
       "   Id           y           x1           x2          x3           x4  \\\n",
       "0   0  738.023171  1764.052346   400.157208  978.737984  2240.893199   \n",
       "1   1  400.646015   144.043571  1454.273507  761.037725   121.675016   \n",
       "2   2  189.900156 -2552.989816   653.618595  864.436199  -742.165020   \n",
       "\n",
       "            x5           x6           x7          x8           x9          x10  \n",
       "0  1867.557990  -977.277880   950.088418 -151.357208  -103.218852   410.598502  \n",
       "1   443.863233   333.674327  1494.079073 -205.158264   313.067702  -854.095739  \n",
       "2  2269.754624 -1454.365675    45.758517 -187.183850  1532.779214  1469.358770  "
      ]
     },
     "execution_count": 2,
     "metadata": {},
     "output_type": "execute_result"
    }
   ],
   "source": [
    "#read train data \n",
    "train_data=pd.read_csv(\"./train.csv\" ,header=0,index_col=0,sep=\",\")\n",
    "train_X=np.array(train_data.iloc[:,2:])\n",
    "train_Y=np.array(train_data.iloc[:,1])\n",
    "print(train_X.shape,train_Y.shape)\n",
    "\n",
    "train_data.head(n=3)"
   ]
  },
  {
   "cell_type": "code",
   "execution_count": 3,
   "id": "af56a1a2-8ac4-4d3b-8c11-874b9f547195",
   "metadata": {
    "tags": []
   },
   "outputs": [
    {
     "name": "stdout",
     "output_type": "stream",
     "text": [
      "(2000, 10)\n"
     ]
    },
    {
     "data": {
      "text/html": [
       "<div>\n",
       "<style scoped>\n",
       "    .dataframe tbody tr th:only-of-type {\n",
       "        vertical-align: middle;\n",
       "    }\n",
       "\n",
       "    .dataframe tbody tr th {\n",
       "        vertical-align: top;\n",
       "    }\n",
       "\n",
       "    .dataframe thead th {\n",
       "        text-align: right;\n",
       "    }\n",
       "</style>\n",
       "<table border=\"1\" class=\"dataframe\">\n",
       "  <thead>\n",
       "    <tr style=\"text-align: right;\">\n",
       "      <th></th>\n",
       "      <th>Id</th>\n",
       "      <th>x1</th>\n",
       "      <th>x2</th>\n",
       "      <th>x3</th>\n",
       "      <th>x4</th>\n",
       "      <th>x5</th>\n",
       "      <th>x6</th>\n",
       "      <th>x7</th>\n",
       "      <th>x8</th>\n",
       "      <th>x9</th>\n",
       "      <th>x10</th>\n",
       "    </tr>\n",
       "  </thead>\n",
       "  <tbody>\n",
       "    <tr>\n",
       "      <th>0</th>\n",
       "      <td>10000</td>\n",
       "      <td>-483.797492</td>\n",
       "      <td>1288.057065</td>\n",
       "      <td>-129.878712</td>\n",
       "      <td>-198.078388</td>\n",
       "      <td>-334.487592</td>\n",
       "      <td>-391.443186</td>\n",
       "      <td>-612.406176</td>\n",
       "      <td>-676.523964</td>\n",
       "      <td>1327.229655</td>\n",
       "      <td>-448.695446</td>\n",
       "    </tr>\n",
       "    <tr>\n",
       "      <th>1</th>\n",
       "      <td>10001</td>\n",
       "      <td>-316.407305</td>\n",
       "      <td>30.830556</td>\n",
       "      <td>-313.356726</td>\n",
       "      <td>-173.259184</td>\n",
       "      <td>-327.368719</td>\n",
       "      <td>944.368248</td>\n",
       "      <td>1122.017380</td>\n",
       "      <td>112.338731</td>\n",
       "      <td>1372.340221</td>\n",
       "      <td>2062.561842</td>\n",
       "    </tr>\n",
       "    <tr>\n",
       "      <th>2</th>\n",
       "      <td>10002</td>\n",
       "      <td>-2448.558997</td>\n",
       "      <td>-561.988408</td>\n",
       "      <td>355.098820</td>\n",
       "      <td>634.378170</td>\n",
       "      <td>-392.450091</td>\n",
       "      <td>-813.156399</td>\n",
       "      <td>-232.873263</td>\n",
       "      <td>246.801210</td>\n",
       "      <td>-562.413197</td>\n",
       "      <td>-841.602015</td>\n",
       "    </tr>\n",
       "  </tbody>\n",
       "</table>\n",
       "</div>"
      ],
      "text/plain": [
       "      Id           x1           x2          x3          x4          x5  \\\n",
       "0  10000  -483.797492  1288.057065 -129.878712 -198.078388 -334.487592   \n",
       "1  10001  -316.407305    30.830556 -313.356726 -173.259184 -327.368719   \n",
       "2  10002 -2448.558997  -561.988408  355.098820  634.378170 -392.450091   \n",
       "\n",
       "           x6           x7          x8           x9          x10  \n",
       "0 -391.443186  -612.406176 -676.523964  1327.229655  -448.695446  \n",
       "1  944.368248  1122.017380  112.338731  1372.340221  2062.561842  \n",
       "2 -813.156399  -232.873263  246.801210  -562.413197  -841.602015  "
      ]
     },
     "execution_count": 3,
     "metadata": {},
     "output_type": "execute_result"
    }
   ],
   "source": [
    "#read test data \n",
    "test_data=pd.read_csv(\"./test.csv\" ,header=0,index_col=0,sep=\",\")\n",
    "test_X=np.array(test_data.iloc[:,1:])\n",
    "print(test_X.shape)\n",
    "test_data.head(n=3)"
   ]
  },
  {
   "cell_type": "code",
   "execution_count": 4,
   "id": "d2d1bf76-29ad-40ff-9129-6e9b9616113e",
   "metadata": {},
   "outputs": [
    {
     "data": {
      "text/plain": [
       "GridSearchCV(cv=5, estimator=LinearRegression(), n_jobs=1,\n",
       "             param_grid={'fit_intercept': [True, False],\n",
       "                         'normalize': [True, False]})"
      ]
     },
     "execution_count": 4,
     "metadata": {},
     "output_type": "execute_result"
    }
   ],
   "source": [
    "#fit model \n",
    "LR_model = linear_model.LinearRegression()\n",
    "\n",
    "parameters = {'fit_intercept':[True,False],\n",
    "              'normalize': [True,False]\n",
    "             }\n",
    "\n",
    "clr = GridSearchCV(LR_model, parameters, cv=5,\n",
    "                     n_jobs=1,\n",
    "                  #scoring=sklearn.metrics.make_scorer(sklearn.metrics.f1_score)\n",
    "                         )\n",
    "clr.fit(train_X,train_Y)\n",
    "\n",
    "\n"
   ]
  },
  {
   "cell_type": "code",
   "execution_count": 5,
   "id": "09b62201-5377-408b-ab40-1df59f6daf76",
   "metadata": {},
   "outputs": [
    {
     "name": "stdout",
     "output_type": "stream",
     "text": [
      "2.8456424384262765e-13\n"
     ]
    }
   ],
   "source": [
    "# check performance on training data \n",
    "train_Y_pred=clr.predict(train_X)\n",
    "\n",
    "train_RMSE = mean_squared_error(train_Y, train_Y_pred)**0.5\n",
    "\n",
    "\n",
    "print(train_RMSE)"
   ]
  },
  {
   "cell_type": "code",
   "execution_count": null,
   "id": "59354e92-6ceb-4029-9d6a-c84b911fef02",
   "metadata": {},
   "outputs": [],
   "source": []
  },
  {
   "cell_type": "code",
   "execution_count": null,
   "id": "ce9c278b-cda1-402d-b2d5-70836bf55c57",
   "metadata": {},
   "outputs": [],
   "source": []
  },
  {
   "cell_type": "code",
   "execution_count": null,
   "id": "b9054ad7-0f3a-4fc4-b1b2-b41dd85ba229",
   "metadata": {},
   "outputs": [],
   "source": []
  },
  {
   "cell_type": "code",
   "execution_count": null,
   "id": "15ffd9b1-5c79-4c49-8282-92876341f20f",
   "metadata": {},
   "outputs": [],
   "source": []
  }
 ],
 "metadata": {
  "kernelspec": {
   "display_name": "py37_scikitlearn",
   "language": "python",
   "name": "py37_scikitlearn"
  },
  "language_info": {
   "codemirror_mode": {
    "name": "ipython",
    "version": 3
   },
   "file_extension": ".py",
   "mimetype": "text/x-python",
   "name": "python",
   "nbconvert_exporter": "python",
   "pygments_lexer": "ipython3",
   "version": "3.7.12"
  }
 },
 "nbformat": 4,
 "nbformat_minor": 5
}
